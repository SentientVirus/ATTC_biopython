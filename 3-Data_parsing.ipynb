{
 "cells": [
  {
   "cell_type": "markdown",
   "id": "addfb38a",
   "metadata": {},
   "source": [
    "# What is data parsing?\n",
    "If you google definitions, you will find a bit of everything. There's a lot about syntactic analysis, changing file format, reading by the computer, etc. None of these definitions is incorrect. Put in simple terms, **parsing** is reading and processing files and, to do so, you need to convert the contents of the files to a format that is readable (both for you and the computer) and modifiable. You can parse a file directly by looping through its lines, but it is also possible to use Python libraries that will help you with the parsing, such as **pandas** and **re**. Let's start with the simplest (and yet more complicated) scenario, where we parse ``parse.csv`` directly by looping through the file.\n",
    "\n",
    "## Looping through lines in a file\n",
    "``parse.csv`` contains some information about a series of superheroes and villains: their name, alias, type (if they are heroes or villains) and the city and country where they are active. Let's take a look at it:"
   ]
  },
  {
   "cell_type": "code",
   "execution_count": 76,
   "id": "a80ba638",
   "metadata": {},
   "outputs": [
    {
     "name": "stdout",
     "output_type": "stream",
     "text": [
      "first_name,last_name,alias,class,city,country\n",
      "\n",
      "Lax,Salmonsson,The Salmon,hero,Uppsala,Sweden\n",
      "\n",
      "Ivo,Yolk,Dr. Eggsalt,villain,Tomatown,Easterland\n",
      "\n",
      "Luis,Gibert,Orceman,hero,Orce,Spain\n",
      "\n",
      "Walter,Bruce,Batswede,hero,Gothamburg,Sweden\n",
      "\n",
      "Jac,Skämt,Skojaren,villain,Gothamburg,Sweden\n",
      "\n",
      "Juanito,Naipes,El Bromas,villain,Grandía,Spain\n",
      "\n",
      "Banan,D'Artagnan,Musketeer,hero,Morecastle,France\n",
      "\n"
     ]
    }
   ],
   "source": [
    "with open(\"parse.csv\") as file: # Open the file\n",
    "    for line in file: # Loop through lines in the file\n",
    "        print(line) # Print lines"
   ]
  },
  {
   "cell_type": "markdown",
   "id": "b8bacb63",
   "metadata": {},
   "source": [
    "In this case, we used the ``with open()`` function, that executes all the lines of code that are indented inside, and then it **automatically closes the file**. The ``open()`` function can be used with a simpler syntax, which doesn't require you to indent the blocks of code below, but also **doesn't automatically close the file**:"
   ]
  },
  {
   "cell_type": "code",
   "execution_count": 77,
   "id": "47966f02",
   "metadata": {},
   "outputs": [
    {
     "name": "stdout",
     "output_type": "stream",
     "text": [
      "first_name,last_name,alias,class,city,country\n",
      "\n",
      "Lax,Salmonsson,The Salmon,hero,Uppsala,Sweden\n",
      "\n",
      "Ivo,Yolk,Dr. Eggsalt,villain,Tomatown,Easterland\n",
      "\n",
      "Luis,Gibert,Orceman,hero,Orce,Spain\n",
      "\n",
      "Walter,Bruce,Batswede,hero,Gothamburg,Sweden\n",
      "\n",
      "Jac,Skämt,Skojaren,villain,Gothamburg,Sweden\n",
      "\n",
      "Juanito,Naipes,El Bromas,villain,Grandía,Spain\n",
      "\n",
      "Banan,D'Artagnan,Musketeer,hero,Morecastle,France\n",
      "\n"
     ]
    }
   ],
   "source": [
    "file = open(\"parse.csv\") # Open the file\n",
    "for line in file: # Loop through lines in the file\n",
    "    print(line) # Print lines\n",
    "file.close() # Close file"
   ]
  },
  {
   "cell_type": "markdown",
   "id": "a73a4183",
   "metadata": {},
   "source": [
    "As you can see, in this case you need to use a ``close()`` method after you're done processing your file. For this reason, I recommend to **always use ``with open(<path to file>) as <variable name>``**. Remember that, if your file is not in the same folder where you run your notebook or script, you won't manage to open it unless you provide the **path** to the file from the directory where you run your script."
   ]
  },
  {
   "cell_type": "markdown",
   "id": "40f53236",
   "metadata": {},
   "source": [
    "## Text processing\n",
    "Now we have looked into how to open a file, but perhaps this is not the most readable format. For example, we have a **header** line with the names of the variables –perhaps we want to skip that. Or perhaps we want to embrace chaos, that's up to you. However, I will assume that you want to improve readability, how to do that? The first thing that we can do is to **split** the lines into words, using the comma as a separator, since it is a comma-separated file (``.csv``):"
   ]
  },
  {
   "cell_type": "code",
   "execution_count": 78,
   "id": "fbc85b4b",
   "metadata": {},
   "outputs": [
    {
     "name": "stdout",
     "output_type": "stream",
     "text": [
      "['first_name', 'last_name', 'alias', 'class', 'city', 'country\\n']\n",
      "['Lax', 'Salmonsson', 'The Salmon', 'hero', 'Uppsala', 'Sweden\\n']\n",
      "['Ivo', 'Yolk', 'Dr. Eggsalt', 'villain', 'Tomatown', 'Easterland\\n']\n",
      "['Luis', 'Gibert', 'Orceman', 'hero', 'Orce', 'Spain\\n']\n",
      "['Walter', 'Bruce', 'Batswede', 'hero', 'Gothamburg', 'Sweden\\n']\n",
      "['Jac', 'Skämt', 'Skojaren', 'villain', 'Gothamburg', 'Sweden\\n']\n",
      "['Juanito', 'Naipes', 'El Bromas', 'villain', 'Grandía', 'Spain\\n']\n",
      "['Banan', \"D'Artagnan\", 'Musketeer', 'hero', 'Morecastle', 'France\\n']\n"
     ]
    }
   ],
   "source": [
    "with open(\"parse.csv\") as file:\n",
    "    for line in file:\n",
    "        line = line.split(\",\") # New line\n",
    "        print(line)"
   ]
  },
  {
   "cell_type": "markdown",
   "id": "a873cb83",
   "metadata": {},
   "source": [
    "Now we have it as a list! We have used the ``split()`` method and asked it to split the text at every comma. This is a bit nicer, but there are still some issues. For example, we have a special character, the linebreak ``\\n``, after the last element in the list. We can remove special characters and spaces at the start and end of a string with the method ``strip()``. Note that this method works on strings, not in lists. Therefore, we should use ``strip()`` before we use ``split()``."
   ]
  },
  {
   "cell_type": "code",
   "execution_count": 86,
   "id": "e9c720fc",
   "metadata": {},
   "outputs": [
    {
     "name": "stdout",
     "output_type": "stream",
     "text": [
      "['first_name', 'last_name', 'alias', 'class', 'city', 'country']\n",
      "['Lax', 'Salmonsson', 'The Salmon', 'hero', 'Uppsala', 'Sweden']\n",
      "['Ivo', 'Yolk', 'Dr. Eggsalt', 'villain', 'Tomatown', 'Easterland']\n",
      "['Luis', 'Gibert', 'Orceman', 'hero', 'Orce', 'Spain']\n",
      "['Walter', 'Bruce', 'Batswede', 'hero', 'Gothamburg', 'Sweden']\n",
      "['Jac', 'Skämt', 'Skojaren', 'villain', 'Gothamburg', 'Sweden']\n",
      "['Juanito', 'Naipes', 'El Bromas', 'villain', 'Grandía', 'Spain']\n",
      "['Banan', \"D'Artagnan\", 'Musketeer', 'hero', 'Morecastle', 'France']\n"
     ]
    }
   ],
   "source": [
    "with open(\"parse.csv\") as file:\n",
    "    for line in file:\n",
    "        line = line.strip() # New line\n",
    "        line = line.split(\",\")\n",
    "        print(line)"
   ]
  },
  {
   "cell_type": "markdown",
   "id": "182bced1",
   "metadata": {},
   "source": [
    "We got rid of the linebreaks! But this is still not the nicest way to look into our data, even though we can already do simple transformations, like printing a combination of the variables:"
   ]
  },
  {
   "cell_type": "code",
   "execution_count": 93,
   "id": "20b9733f",
   "metadata": {},
   "outputs": [
    {
     "name": "stdout",
     "output_type": "stream",
     "text": [
      "Lax Salmonsson, known as The Salmon, hero of Uppsala (Sweden)\n",
      "Ivo Yolk, known as Dr. Eggsalt, villain of Tomatown (Easterland)\n",
      "Luis Gibert, known as Orceman, hero of Orce (Spain)\n",
      "Walter Bruce, known as Batswede, hero of Gothamburg (Sweden)\n",
      "Jac Skämt, known as Skojaren, villain of Gothamburg (Sweden)\n",
      "Juanito Naipes, known as El Bromas, villain of Grandía (Spain)\n",
      "Banan D'Artagnan, known as Musketeer, hero of Morecastle (France)\n"
     ]
    }
   ],
   "source": [
    "with open(\"parse.csv\") as file:\n",
    "    next(file) # Skip header\n",
    "    for line in file:\n",
    "        line = line.strip()\n",
    "        line = line.split(\",\")\n",
    "        print_text = f\"{line[0]} {line[1]}, known as {line[2]}, {line[3]} of {line[4]} ({line[5]})\" # String to print the info nicely\n",
    "        print(print_text) # Modified line"
   ]
  },
  {
   "cell_type": "markdown",
   "id": "295b07c7",
   "metadata": {},
   "source": [
    "This looks better. Actually, I could be looking at this forever. In fact, maybe I should, but I need to save it somewhere so that I don't forget. Maybe it's about time you learn **how to write files**."
   ]
  },
  {
   "cell_type": "code",
   "execution_count": 102,
   "id": "83072d6a",
   "metadata": {},
   "outputs": [],
   "source": [
    "with open(\"parse.csv\") as file:\n",
    "    next(file)\n",
    "    for line in file:\n",
    "        line = line.strip()\n",
    "        line = line.split(\",\")\n",
    "        print_text = f\"{line[0]} {line[1]}, known as {line[2]}, {line[3]} of {line[4]} ({line[5]})\"\n",
    "        with open(\"my_output.txt\", \"a+\") as output: # Create and append to new file\n",
    "            output.write(print_text + \"\\n\") # Write the print_text variable to new file"
   ]
  },
  {
   "cell_type": "markdown",
   "id": "2c2f9381",
   "metadata": {},
   "source": [
    "Now I have a file I can look at forever! Unless it gets lost in the mess of folders that my home directory is, yay! As you might have noticed, I used an additional argument when calling the open function ``a+``. This arguments refer to the parsing mode. There are four basic parsing modes:\n",
    "\n",
    "1. ``r``: read mode. This is the default. You can't modify the file that you open in this mode.\n",
    "\n",
    "2. ``w``: write mode. This allows you to create a file if it doesn't exist and add content to it. If it exists, it overwrites the file.\n",
    "\n",
    "3. ``a``: append mode. This adds content to a file that already exists.\n",
    "\n",
    "4. ``x``: create mode. Creates the files if it doesn't exist; otherwise it prompts an error.\n",
    "\n",
    "There are, however, other modes that you can use. For example, the ``a+`` mode creates the file if it doesn't exist and it adds the new contents. It is similar to the write mode, but it doesn't overwrite the file every time (which would be a problem, because we are running the ``write()`` function in a loop! This ``write()`` function is where we specify the content that we want to **write** to the file."
   ]
  },
  {
   "cell_type": "markdown",
   "id": "92111ab8",
   "metadata": {},
   "source": [
    "We can keep processing the file in many different ways. In this case, I will use a dictionary comprehension to store a list of first names under the key ``first_name``, a list of last names under the key ``last_name`` and so on. The first step to do so will be to store the header and the values in separated variables:"
   ]
  },
  {
   "cell_type": "code",
   "execution_count": 91,
   "id": "8ed9e4c6",
   "metadata": {},
   "outputs": [
    {
     "name": "stdout",
     "output_type": "stream",
     "text": [
      "['first_name', 'last_name', 'alias', 'class', 'city', 'country']\n",
      "\n",
      "[['Lax', 'Salmonsson', 'The Salmon', 'hero', 'Uppsala', 'Sweden'], ['Ivo', 'Yolk', 'Dr. Eggsalt', 'villain', 'Tomatown', 'Easterland'], ['Luis', 'Gibert', 'Orceman', 'hero', 'Orce', 'Spain'], ['Walter', 'Bruce', 'Batswede', 'hero', 'Gothamburg', 'Sweden'], ['Jac', 'Skämt', 'Skojaren', 'villain', 'Gothamburg', 'Sweden'], ['Juanito', 'Naipes', 'El Bromas', 'villain', 'Grandía', 'Spain'], ['Banan', \"D'Artagnan\", 'Musketeer', 'hero', 'Morecastle', 'France']]\n"
     ]
    }
   ],
   "source": [
    "with open(\"parse.csv\") as file:\n",
    "    values = [] # Empty list to store values\n",
    "    for line in file:\n",
    "        line = line.strip()\n",
    "        line = line.split(\",\")\n",
    "        if \"first_name\" in line: # If it is the header\n",
    "            header = line # Store in a new variable\n",
    "        else: values.append(line) # Otherwise store in values\n",
    "\n",
    "# Print new variables\n",
    "print(header, end = \"\\n\\n\")\n",
    "print(values)"
   ]
  },
  {
   "cell_type": "markdown",
   "id": "350ab264",
   "metadata": {},
   "source": [
    "Now, we want to separate the values by header (first names, last names, etc.):"
   ]
  },
  {
   "cell_type": "code",
   "execution_count": 92,
   "id": "c28b0dc4",
   "metadata": {},
   "outputs": [
    {
     "name": "stdout",
     "output_type": "stream",
     "text": [
      "{'first_name': ['Lax', 'Ivo', 'Luis', 'Walter', 'Jac', 'Juanito', 'Banan'], 'last_name': ['Salmonsson', 'Yolk', 'Gibert', 'Bruce', 'Skämt', 'Naipes', \"D'Artagnan\"], 'alias': ['The Salmon', 'Dr. Eggsalt', 'Orceman', 'Batswede', 'Skojaren', 'El Bromas', 'Musketeer'], 'class': ['hero', 'villain', 'hero', 'hero', 'villain', 'villain', 'hero'], 'city': ['Uppsala', 'Tomatown', 'Orce', 'Gothamburg', 'Gothamburg', 'Grandía', 'Morecastle']}\n"
     ]
    }
   ],
   "source": [
    "new_list = [[]] # Create and empty list of lists\n",
    "[new_list.append([]) for n in range(len(keys)-1)] # Make it contain as many lists as headers we have\n",
    "\n",
    "[new_list[i].append(val[i]) for val in values for i in range(len(val))] # Put together values that should have the same header\n",
    "\n",
    "value_dict = {header[i]: new_list[i] for i in range(len(header)-1)} # Create dictionary with headers as keys\n",
    "print(value_dict)"
   ]
  },
  {
   "cell_type": "markdown",
   "id": "14adda6c",
   "metadata": {},
   "source": [
    "This was quite complicated, wasn't it? Luckily, there is an easier way to parse ``csv`` files: using **pandas**."
   ]
  },
  {
   "cell_type": "markdown",
   "id": "2b0a73dd",
   "metadata": {},
   "source": [
    "### pandas\n",
    "Pandas is a Python library that makes data parsing much easier. Here I won't show you all of its possible uses, just how to create a **dataframe** from our ``csv`` file, ``parse.csv``, and the properties of this data type. The first step, like when we use any other library or module, is to **import** the module. The syntax is quite simple:"
   ]
  },
  {
   "cell_type": "code",
   "execution_count": 103,
   "id": "06183a73",
   "metadata": {},
   "outputs": [],
   "source": [
    "import pandas"
   ]
  },
  {
   "cell_type": "markdown",
   "id": "11742b16",
   "metadata": {},
   "source": [
    "You can use aliases to import modules; for example, if the module has a really long name and you want to shorter it. In this case, we don't need to use an alias badly, but it is common to import ``pandas`` using the alias ``pd``:"
   ]
  },
  {
   "cell_type": "code",
   "execution_count": 104,
   "id": "77f4a379",
   "metadata": {},
   "outputs": [],
   "source": [
    "import pandas as pd"
   ]
  },
  {
   "cell_type": "markdown",
   "id": "a49a3b17",
   "metadata": {},
   "source": [
    "Now that we have imported the module, let's move to more important matters: how to use it."
   ]
  },
  {
   "cell_type": "code",
   "execution_count": 105,
   "id": "ac5d4ff2",
   "metadata": {},
   "outputs": [
    {
     "name": "stdout",
     "output_type": "stream",
     "text": [
      "  first_name   last_name        alias    class        city     country\n",
      "0        Lax  Salmonsson   The Salmon     hero     Uppsala      Sweden\n",
      "1        Ivo        Yolk  Dr. Eggsalt  villain    Tomatown  Easterland\n",
      "2       Luis      Gibert      Orceman     hero        Orce       Spain\n",
      "3     Walter       Bruce     Batswede     hero  Gothamburg      Sweden\n",
      "4        Jac       Skämt     Skojaren  villain  Gothamburg      Sweden\n",
      "5    Juanito      Naipes    El Bromas  villain     Grandía       Spain\n",
      "6      Banan  D'Artagnan    Musketeer     hero  Morecastle      France\n"
     ]
    }
   ],
   "source": [
    "with open(\"parse.csv\") as file:\n",
    "    my_df = pd.read_csv(file)\n",
    "    \n",
    "print(my_df)"
   ]
  },
  {
   "cell_type": "markdown",
   "id": "1e76e4fe",
   "metadata": {},
   "source": [
    "Wow, so simple and easy compared with the scenario where we create the dictionary! All the values are already sorted into columns, and we didn't need to make any effort!\n",
    "\n",
    "Let's look into some properties of this new, mysterious data class that has saved us so much trouble."
   ]
  },
  {
   "cell_type": "code",
   "execution_count": 108,
   "id": "02c3d08c",
   "metadata": {},
   "outputs": [
    {
     "data": {
      "text/plain": [
       "0        Lax\n",
       "1        Ivo\n",
       "2       Luis\n",
       "3     Walter\n",
       "4        Jac\n",
       "5    Juanito\n",
       "6      Banan\n",
       "Name: first_name, dtype: object"
      ]
     },
     "execution_count": 108,
     "metadata": {},
     "output_type": "execute_result"
    }
   ],
   "source": [
    "my_df[\"first_name\"]"
   ]
  },
  {
   "cell_type": "markdown",
   "id": "7ca5f1a6",
   "metadata": {},
   "source": [
    "Wow, we can retrieve first names so easily!"
   ]
  },
  {
   "cell_type": "code",
   "execution_count": 110,
   "id": "df80d457",
   "metadata": {},
   "outputs": [
    {
     "data": {
      "text/plain": [
       "Index(['first_name', 'last_name', 'alias', 'class', 'city', 'country'], dtype='object')"
      ]
     },
     "execution_count": 110,
     "metadata": {},
     "output_type": "execute_result"
    }
   ],
   "source": [
    "my_df.columns"
   ]
  },
  {
   "cell_type": "markdown",
   "id": "05631866",
   "metadata": {},
   "source": [
    "Wow, it has a propertie where the names of the columns are stored! Will it have one for the rows?"
   ]
  },
  {
   "cell_type": "code",
   "execution_count": 112,
   "id": "79b03100",
   "metadata": {},
   "outputs": [
    {
     "data": {
      "text/plain": [
       "RangeIndex(start=0, stop=7, step=1)"
      ]
     },
     "execution_count": 112,
     "metadata": {},
     "output_type": "execute_result"
    }
   ],
   "source": [
    "my_df.index"
   ]
  },
  {
   "cell_type": "markdown",
   "id": "94d30668",
   "metadata": {},
   "source": [
    "Yes, it does! (Even though its name might be a bit less straightforward...). Can we get specific rows, like we did for the columns?"
   ]
  },
  {
   "cell_type": "code",
   "execution_count": 117,
   "id": "6985b29b",
   "metadata": {},
   "outputs": [
    {
     "data": {
      "text/html": [
       "<div>\n",
       "<style scoped>\n",
       "    .dataframe tbody tr th:only-of-type {\n",
       "        vertical-align: middle;\n",
       "    }\n",
       "\n",
       "    .dataframe tbody tr th {\n",
       "        vertical-align: top;\n",
       "    }\n",
       "\n",
       "    .dataframe thead th {\n",
       "        text-align: right;\n",
       "    }\n",
       "</style>\n",
       "<table border=\"1\" class=\"dataframe\">\n",
       "  <thead>\n",
       "    <tr style=\"text-align: right;\">\n",
       "      <th></th>\n",
       "      <th>first_name</th>\n",
       "      <th>last_name</th>\n",
       "      <th>alias</th>\n",
       "      <th>class</th>\n",
       "      <th>city</th>\n",
       "      <th>country</th>\n",
       "    </tr>\n",
       "  </thead>\n",
       "  <tbody>\n",
       "    <tr>\n",
       "      <th>3</th>\n",
       "      <td>Walter</td>\n",
       "      <td>Bruce</td>\n",
       "      <td>Batswede</td>\n",
       "      <td>hero</td>\n",
       "      <td>Gothamburg</td>\n",
       "      <td>Sweden</td>\n",
       "    </tr>\n",
       "  </tbody>\n",
       "</table>\n",
       "</div>"
      ],
      "text/plain": [
       "  first_name last_name     alias class        city country\n",
       "3     Walter     Bruce  Batswede  hero  Gothamburg  Sweden"
      ]
     },
     "execution_count": 117,
     "metadata": {},
     "output_type": "execute_result"
    }
   ],
   "source": [
    "my_df[my_df.index == 3]"
   ]
  },
  {
   "cell_type": "markdown",
   "id": "cc2fc0ca",
   "metadata": {},
   "source": [
    "Yes, we can! The logic behind dataframes is not different to that behind **SQL databases**, for those of you who know SQL. The idea is that it should be easy to retrieve the pieces of information that we want from the dataframe. We can also select several data matching a particular criterion, for example, all the heros:"
   ]
  },
  {
   "cell_type": "code",
   "execution_count": 119,
   "id": "0d31fe88",
   "metadata": {},
   "outputs": [
    {
     "data": {
      "text/html": [
       "<div>\n",
       "<style scoped>\n",
       "    .dataframe tbody tr th:only-of-type {\n",
       "        vertical-align: middle;\n",
       "    }\n",
       "\n",
       "    .dataframe tbody tr th {\n",
       "        vertical-align: top;\n",
       "    }\n",
       "\n",
       "    .dataframe thead th {\n",
       "        text-align: right;\n",
       "    }\n",
       "</style>\n",
       "<table border=\"1\" class=\"dataframe\">\n",
       "  <thead>\n",
       "    <tr style=\"text-align: right;\">\n",
       "      <th></th>\n",
       "      <th>first_name</th>\n",
       "      <th>last_name</th>\n",
       "      <th>alias</th>\n",
       "      <th>class</th>\n",
       "      <th>city</th>\n",
       "      <th>country</th>\n",
       "    </tr>\n",
       "  </thead>\n",
       "  <tbody>\n",
       "    <tr>\n",
       "      <th>0</th>\n",
       "      <td>Lax</td>\n",
       "      <td>Salmonsson</td>\n",
       "      <td>The Salmon</td>\n",
       "      <td>hero</td>\n",
       "      <td>Uppsala</td>\n",
       "      <td>Sweden</td>\n",
       "    </tr>\n",
       "    <tr>\n",
       "      <th>2</th>\n",
       "      <td>Luis</td>\n",
       "      <td>Gibert</td>\n",
       "      <td>Orceman</td>\n",
       "      <td>hero</td>\n",
       "      <td>Orce</td>\n",
       "      <td>Spain</td>\n",
       "    </tr>\n",
       "    <tr>\n",
       "      <th>3</th>\n",
       "      <td>Walter</td>\n",
       "      <td>Bruce</td>\n",
       "      <td>Batswede</td>\n",
       "      <td>hero</td>\n",
       "      <td>Gothamburg</td>\n",
       "      <td>Sweden</td>\n",
       "    </tr>\n",
       "    <tr>\n",
       "      <th>6</th>\n",
       "      <td>Banan</td>\n",
       "      <td>D'Artagnan</td>\n",
       "      <td>Musketeer</td>\n",
       "      <td>hero</td>\n",
       "      <td>Morecastle</td>\n",
       "      <td>France</td>\n",
       "    </tr>\n",
       "  </tbody>\n",
       "</table>\n",
       "</div>"
      ],
      "text/plain": [
       "  first_name   last_name       alias class        city country\n",
       "0        Lax  Salmonsson  The Salmon  hero     Uppsala  Sweden\n",
       "2       Luis      Gibert     Orceman  hero        Orce   Spain\n",
       "3     Walter       Bruce    Batswede  hero  Gothamburg  Sweden\n",
       "6      Banan  D'Artagnan   Musketeer  hero  Morecastle  France"
      ]
     },
     "execution_count": 119,
     "metadata": {},
     "output_type": "execute_result"
    }
   ],
   "source": [
    "my_df[my_df[\"class\"] == \"hero\"]"
   ]
  },
  {
   "cell_type": "markdown",
   "id": "b31286bb",
   "metadata": {},
   "source": [
    "And that's not all! We can even specify several conditions. For example, we might want to select all heroes in Sweden:"
   ]
  },
  {
   "cell_type": "code",
   "execution_count": 122,
   "id": "c1a2d5e0",
   "metadata": {},
   "outputs": [
    {
     "data": {
      "text/html": [
       "<div>\n",
       "<style scoped>\n",
       "    .dataframe tbody tr th:only-of-type {\n",
       "        vertical-align: middle;\n",
       "    }\n",
       "\n",
       "    .dataframe tbody tr th {\n",
       "        vertical-align: top;\n",
       "    }\n",
       "\n",
       "    .dataframe thead th {\n",
       "        text-align: right;\n",
       "    }\n",
       "</style>\n",
       "<table border=\"1\" class=\"dataframe\">\n",
       "  <thead>\n",
       "    <tr style=\"text-align: right;\">\n",
       "      <th></th>\n",
       "      <th>first_name</th>\n",
       "      <th>last_name</th>\n",
       "      <th>alias</th>\n",
       "      <th>class</th>\n",
       "      <th>city</th>\n",
       "      <th>country</th>\n",
       "    </tr>\n",
       "  </thead>\n",
       "  <tbody>\n",
       "    <tr>\n",
       "      <th>0</th>\n",
       "      <td>Lax</td>\n",
       "      <td>Salmonsson</td>\n",
       "      <td>The Salmon</td>\n",
       "      <td>hero</td>\n",
       "      <td>Uppsala</td>\n",
       "      <td>Sweden</td>\n",
       "    </tr>\n",
       "    <tr>\n",
       "      <th>3</th>\n",
       "      <td>Walter</td>\n",
       "      <td>Bruce</td>\n",
       "      <td>Batswede</td>\n",
       "      <td>hero</td>\n",
       "      <td>Gothamburg</td>\n",
       "      <td>Sweden</td>\n",
       "    </tr>\n",
       "  </tbody>\n",
       "</table>\n",
       "</div>"
      ],
      "text/plain": [
       "  first_name   last_name       alias class        city country\n",
       "0        Lax  Salmonsson  The Salmon  hero     Uppsala  Sweden\n",
       "3     Walter       Bruce    Batswede  hero  Gothamburg  Sweden"
      ]
     },
     "execution_count": 122,
     "metadata": {},
     "output_type": "execute_result"
    }
   ],
   "source": [
    "my_df[(my_df[\"class\"] == \"hero\") & (my_df[\"country\"] == \"Sweden\")]"
   ]
  },
  {
   "cell_type": "markdown",
   "id": "14a3fd22",
   "metadata": {},
   "source": [
    "**OBS!** If you want to use several conditions, don't forget to use parentheses around every condition."
   ]
  },
  {
   "cell_type": "code",
   "execution_count": null,
   "id": "eac57bde",
   "metadata": {},
   "outputs": [],
   "source": []
  }
 ],
 "metadata": {
  "kernelspec": {
   "display_name": "Python 3 (ipykernel)",
   "language": "python",
   "name": "python3"
  },
  "language_info": {
   "codemirror_mode": {
    "name": "ipython",
    "version": 3
   },
   "file_extension": ".py",
   "mimetype": "text/x-python",
   "name": "python",
   "nbconvert_exporter": "python",
   "pygments_lexer": "ipython3",
   "version": "3.11.0"
  }
 },
 "nbformat": 4,
 "nbformat_minor": 5
}
