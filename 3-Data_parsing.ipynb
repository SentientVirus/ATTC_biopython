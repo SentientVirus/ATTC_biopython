{
 "cells": [
  {
   "cell_type": "markdown",
   "id": "addfb38a",
   "metadata": {},
   "source": [
    "# What is data parsing?\n",
    "If you google definitions, you will find a bit of everything. There's a lot about syntactic analysis, changing file format, reading by the computer, etc. None of these definitions is incorrect. Put in simple terms, **parsing** is reading and processing files and, to do so, you need to convert the contents of the files to a format that is readable (both for you and the computer) and modifiable. You can parse a file directly by looping through its lines, but it is also possible to use Python libraries that will help you with the parsing, such as **pandas** and **re**. Let's start with the simplest (and yet more complicated) scenario, where we parse ``parse.csv`` directly by looping through the file.\n",
    "\n",
    "## Looping through lines in a file\n",
    "``parse.csv`` contains some information about a series of superheroes and villains: their name, alias, type (if they are heroes or villains) and the city and country where they are active. Let's take a look at it:"
   ]
  },
  {
   "cell_type": "code",
   "execution_count": 175,
   "id": "a80ba638",
   "metadata": {},
   "outputs": [
    {
     "name": "stdout",
     "output_type": "stream",
     "text": [
      "first_name,last_name,alias,class,city,country\n",
      "\n",
      "Lax,Salmonsson,The Salmon,hero,Uppsala,Sweden\n",
      "\n",
      "Ivo,Yolk,Dr. Eggsalt,villain,Tomatown,Easterland\n",
      "\n",
      "Luis,Gibert,Orceman,hero,Orce,Spain\n",
      "\n",
      "Walter,Bruce,Batswede,hero,Gothamburg,Sweden\n",
      "\n",
      "Jac,Skämt,Skojaren,villain,Gothamburg,Sweden\n",
      "\n",
      "Juanito,Naipes,El Bromas,villain,Grandía,Spain\n",
      "\n",
      "Banan,D'Artagnan,Musketeer,hero,Morecastle,France\n",
      "\n"
     ]
    }
   ],
   "source": [
    "with open(\"parse.csv\") as file: # Open the file\n",
    "    for line in file: # Loop through lines in the file\n",
    "        print(line) # Print lines"
   ]
  },
  {
   "cell_type": "markdown",
   "id": "b8bacb63",
   "metadata": {},
   "source": [
    "In this case, we used the ``with open()`` function, that executes all the lines of code that are indented inside, and then it **automatically closes the file**. The ``open()`` function can be used with a simpler syntax, which doesn't require you to indent the blocks of code below, but also **doesn't automatically close the file**:"
   ]
  },
  {
   "cell_type": "code",
   "execution_count": 176,
   "id": "47966f02",
   "metadata": {},
   "outputs": [
    {
     "name": "stdout",
     "output_type": "stream",
     "text": [
      "first_name,last_name,alias,class,city,country\n",
      "\n",
      "Lax,Salmonsson,The Salmon,hero,Uppsala,Sweden\n",
      "\n",
      "Ivo,Yolk,Dr. Eggsalt,villain,Tomatown,Easterland\n",
      "\n",
      "Luis,Gibert,Orceman,hero,Orce,Spain\n",
      "\n",
      "Walter,Bruce,Batswede,hero,Gothamburg,Sweden\n",
      "\n",
      "Jac,Skämt,Skojaren,villain,Gothamburg,Sweden\n",
      "\n",
      "Juanito,Naipes,El Bromas,villain,Grandía,Spain\n",
      "\n",
      "Banan,D'Artagnan,Musketeer,hero,Morecastle,France\n",
      "\n"
     ]
    }
   ],
   "source": [
    "file = open(\"parse.csv\") # Open the file\n",
    "for line in file: # Loop through lines in the file\n",
    "    print(line) # Print lines\n",
    "file.close() # Close file"
   ]
  },
  {
   "cell_type": "markdown",
   "id": "a73a4183",
   "metadata": {},
   "source": [
    "As you can see, in this case you need to use a ``close()`` method after you're done processing your file. For this reason, I recommend to **always use ``with open(<path to file>) as <variable name>``**. Remember that, if your file is not in the same folder where you run your notebook or script, you won't manage to open it unless you provide the **path** to the file from the directory where you run your script."
   ]
  },
  {
   "cell_type": "markdown",
   "id": "40f53236",
   "metadata": {},
   "source": [
    "## Text processing\n",
    "Now we have looked into how to open a file, but perhaps this is not the most readable format. For example, we have a **header** line with the names of the variables –perhaps we want to skip that. Or perhaps we want to embrace chaos, that's up to you. However, I will assume that you want to improve readability, how to do that? The first thing that we can do is to **split** the lines into words, using the comma as a separator, since it is a comma-separated file (``.csv``):"
   ]
  },
  {
   "cell_type": "code",
   "execution_count": 177,
   "id": "fbc85b4b",
   "metadata": {},
   "outputs": [
    {
     "name": "stdout",
     "output_type": "stream",
     "text": [
      "['first_name', 'last_name', 'alias', 'class', 'city', 'country\\n']\n",
      "['Lax', 'Salmonsson', 'The Salmon', 'hero', 'Uppsala', 'Sweden\\n']\n",
      "['Ivo', 'Yolk', 'Dr. Eggsalt', 'villain', 'Tomatown', 'Easterland\\n']\n",
      "['Luis', 'Gibert', 'Orceman', 'hero', 'Orce', 'Spain\\n']\n",
      "['Walter', 'Bruce', 'Batswede', 'hero', 'Gothamburg', 'Sweden\\n']\n",
      "['Jac', 'Skämt', 'Skojaren', 'villain', 'Gothamburg', 'Sweden\\n']\n",
      "['Juanito', 'Naipes', 'El Bromas', 'villain', 'Grandía', 'Spain\\n']\n",
      "['Banan', \"D'Artagnan\", 'Musketeer', 'hero', 'Morecastle', 'France\\n']\n"
     ]
    }
   ],
   "source": [
    "with open(\"parse.csv\") as file:\n",
    "    for line in file:\n",
    "        line = line.split(\",\") # New line\n",
    "        print(line)"
   ]
  },
  {
   "cell_type": "markdown",
   "id": "a873cb83",
   "metadata": {},
   "source": [
    "Now we have it as a list! We have used the ``split()`` method and asked it to split the text at every comma. This is a bit nicer, but there are still some issues. For example, we have a special character, the linebreak ``\\n``, after the last element in the list. We can remove special characters and spaces at the start and end of a string with the method ``strip()``. Note that this method works on strings, not in lists. Therefore, we should use ``strip()`` before we use ``split()``."
   ]
  },
  {
   "cell_type": "code",
   "execution_count": 178,
   "id": "e9c720fc",
   "metadata": {},
   "outputs": [
    {
     "name": "stdout",
     "output_type": "stream",
     "text": [
      "['first_name', 'last_name', 'alias', 'class', 'city', 'country']\n",
      "['Lax', 'Salmonsson', 'The Salmon', 'hero', 'Uppsala', 'Sweden']\n",
      "['Ivo', 'Yolk', 'Dr. Eggsalt', 'villain', 'Tomatown', 'Easterland']\n",
      "['Luis', 'Gibert', 'Orceman', 'hero', 'Orce', 'Spain']\n",
      "['Walter', 'Bruce', 'Batswede', 'hero', 'Gothamburg', 'Sweden']\n",
      "['Jac', 'Skämt', 'Skojaren', 'villain', 'Gothamburg', 'Sweden']\n",
      "['Juanito', 'Naipes', 'El Bromas', 'villain', 'Grandía', 'Spain']\n",
      "['Banan', \"D'Artagnan\", 'Musketeer', 'hero', 'Morecastle', 'France']\n"
     ]
    }
   ],
   "source": [
    "with open(\"parse.csv\") as file:\n",
    "    for line in file:\n",
    "        line = line.strip() # New line\n",
    "        line = line.split(\",\")\n",
    "        print(line)"
   ]
  },
  {
   "cell_type": "markdown",
   "id": "182bced1",
   "metadata": {},
   "source": [
    "We got rid of the linebreaks! But this is still not the nicest way to look into our data, even though we can already do simple transformations, like printing a combination of the variables:"
   ]
  },
  {
   "cell_type": "code",
   "execution_count": 179,
   "id": "20b9733f",
   "metadata": {},
   "outputs": [
    {
     "name": "stdout",
     "output_type": "stream",
     "text": [
      "Lax Salmonsson, known as The Salmon, hero of Uppsala (Sweden)\n",
      "Ivo Yolk, known as Dr. Eggsalt, villain of Tomatown (Easterland)\n",
      "Luis Gibert, known as Orceman, hero of Orce (Spain)\n",
      "Walter Bruce, known as Batswede, hero of Gothamburg (Sweden)\n",
      "Jac Skämt, known as Skojaren, villain of Gothamburg (Sweden)\n",
      "Juanito Naipes, known as El Bromas, villain of Grandía (Spain)\n",
      "Banan D'Artagnan, known as Musketeer, hero of Morecastle (France)\n"
     ]
    }
   ],
   "source": [
    "with open(\"parse.csv\") as file:\n",
    "    next(file) # Skip header\n",
    "    for line in file:\n",
    "        line = line.strip()\n",
    "        line = line.split(\",\")\n",
    "        print_text = f\"{line[0]} {line[1]}, known as {line[2]}, {line[3]} of {line[4]} ({line[5]})\" # String to print the info nicely\n",
    "        print(print_text) # Modified line"
   ]
  },
  {
   "cell_type": "markdown",
   "id": "295b07c7",
   "metadata": {},
   "source": [
    "This looks better. Actually, I could be looking at this forever. In fact, maybe I should, but I need to save it somewhere so that I don't forget. Maybe it's about time you learn **how to write files**."
   ]
  },
  {
   "cell_type": "code",
   "execution_count": 102,
   "id": "83072d6a",
   "metadata": {},
   "outputs": [],
   "source": [
    "with open(\"parse.csv\") as file:\n",
    "    next(file)\n",
    "    for line in file:\n",
    "        line = line.strip()\n",
    "        line = line.split(\",\")\n",
    "        print_text = f\"{line[0]} {line[1]}, known as {line[2]}, {line[3]} of {line[4]} ({line[5]})\"\n",
    "        with open(\"my_output.txt\", \"a+\") as output: # Create and append to new file\n",
    "            output.write(print_text + \"\\n\") # Write the print_text variable to new file"
   ]
  },
  {
   "cell_type": "markdown",
   "id": "2c2f9381",
   "metadata": {},
   "source": [
    "Now I have a file I can look at forever! Unless it gets lost in the mess of folders that my home directory is, yay! As you might have noticed, I used an additional argument when calling the open function ``a+``. This arguments refer to the parsing mode. There are four basic parsing modes:\n",
    "\n",
    "1. ``r``: read mode. This is the default. You can't modify the file that you open in this mode.\n",
    "\n",
    "2. ``w``: write mode. This allows you to create a file if it doesn't exist and add content to it. If it exists, it overwrites the file.\n",
    "\n",
    "3. ``a``: append mode. This adds content to a file that already exists.\n",
    "\n",
    "4. ``x``: create mode. Creates the files if it doesn't exist; otherwise it prompts an error.\n",
    "\n",
    "There are, however, other modes that you can use. For example, the ``a+`` mode creates the file if it doesn't exist and it adds the new contents. It is similar to the write mode, but it doesn't overwrite the file every time (which would be a problem, because we are running the ``write()`` function in a loop! This ``write()`` function is where we specify the content that we want to **write** to the file."
   ]
  },
  {
   "cell_type": "markdown",
   "id": "92111ab8",
   "metadata": {},
   "source": [
    "We can keep processing the file in many different ways. In this case, I will use a dictionary comprehension to store a list of first names under the key ``first_name``, a list of last names under the key ``last_name`` and so on. The first step to do so will be to store the header and the values in separated variables:"
   ]
  },
  {
   "cell_type": "code",
   "execution_count": 181,
   "id": "8ed9e4c6",
   "metadata": {},
   "outputs": [
    {
     "name": "stdout",
     "output_type": "stream",
     "text": [
      "['first_name', 'last_name', 'alias', 'class', 'city', 'country']\n",
      "\n",
      "[['Lax', 'Salmonsson', 'The Salmon', 'hero', 'Uppsala', 'Sweden'], ['Ivo', 'Yolk', 'Dr. Eggsalt', 'villain', 'Tomatown', 'Easterland'], ['Luis', 'Gibert', 'Orceman', 'hero', 'Orce', 'Spain'], ['Walter', 'Bruce', 'Batswede', 'hero', 'Gothamburg', 'Sweden'], ['Jac', 'Skämt', 'Skojaren', 'villain', 'Gothamburg', 'Sweden'], ['Juanito', 'Naipes', 'El Bromas', 'villain', 'Grandía', 'Spain'], ['Banan', \"D'Artagnan\", 'Musketeer', 'hero', 'Morecastle', 'France']]\n"
     ]
    }
   ],
   "source": [
    "with open(\"parse.csv\") as file:\n",
    "    values = [] # Empty list to store values\n",
    "    for line in file:\n",
    "        line = line.strip()\n",
    "        line = line.split(\",\")\n",
    "        if \"first_name\" in line: # If it is the header\n",
    "            header = line # Store in a new variable\n",
    "        else: values.append(line) # Otherwise store in values\n",
    "\n",
    "# Print new variables\n",
    "print(header, end = \"\\n\\n\")\n",
    "print(values)"
   ]
  },
  {
   "cell_type": "markdown",
   "id": "350ab264",
   "metadata": {},
   "source": [
    "Now, we want to separate the values by header (first names, last names, etc.):"
   ]
  },
  {
   "cell_type": "code",
   "execution_count": 92,
   "id": "c28b0dc4",
   "metadata": {},
   "outputs": [
    {
     "name": "stdout",
     "output_type": "stream",
     "text": [
      "{'first_name': ['Lax', 'Ivo', 'Luis', 'Walter', 'Jac', 'Juanito', 'Banan'], 'last_name': ['Salmonsson', 'Yolk', 'Gibert', 'Bruce', 'Skämt', 'Naipes', \"D'Artagnan\"], 'alias': ['The Salmon', 'Dr. Eggsalt', 'Orceman', 'Batswede', 'Skojaren', 'El Bromas', 'Musketeer'], 'class': ['hero', 'villain', 'hero', 'hero', 'villain', 'villain', 'hero'], 'city': ['Uppsala', 'Tomatown', 'Orce', 'Gothamburg', 'Gothamburg', 'Grandía', 'Morecastle']}\n"
     ]
    }
   ],
   "source": [
    "new_list = [[]] # Create and empty list of lists\n",
    "[new_list.append([]) for n in range(len(keys)-1)] # Make it contain as many lists as headers we have\n",
    "\n",
    "[new_list[i].append(val[i]) for val in values for i in range(len(val))] # Put together values that should have the same header\n",
    "\n",
    "value_dict = {header[i]: new_list[i] for i in range(len(header)-1)} # Create dictionary with headers as keys\n",
    "print(value_dict)"
   ]
  },
  {
   "cell_type": "markdown",
   "id": "14adda6c",
   "metadata": {},
   "source": [
    "This was quite complicated, wasn't it? Luckily, there is an easier way to parse ``csv`` files: using **pandas**."
   ]
  },
  {
   "cell_type": "markdown",
   "id": "2b0a73dd",
   "metadata": {},
   "source": [
    "### pandas\n",
    "Pandas is a Python library that makes data parsing much easier. Here I won't show you all of its possible uses, just how to create a **dataframe** from our ``csv`` file, ``parse.csv``, and the properties of this data type. The first step, like when we use any other library or module, is to **import** the module. The syntax is quite simple:"
   ]
  },
  {
   "cell_type": "code",
   "execution_count": 58,
   "id": "06183a73",
   "metadata": {},
   "outputs": [],
   "source": [
    "import pandas"
   ]
  },
  {
   "cell_type": "markdown",
   "id": "11742b16",
   "metadata": {},
   "source": [
    "You can use aliases to import modules; for example, if the module has a really long name and you want to shorter it. In this case, we don't need to use an alias badly, but it is common to import ``pandas`` using the alias ``pd``:"
   ]
  },
  {
   "cell_type": "code",
   "execution_count": 59,
   "id": "77f4a379",
   "metadata": {},
   "outputs": [],
   "source": [
    "import pandas as pd"
   ]
  },
  {
   "cell_type": "markdown",
   "id": "a49a3b17",
   "metadata": {},
   "source": [
    "Now that we have imported the module, let's move to more important matters: how to use it."
   ]
  },
  {
   "cell_type": "code",
   "execution_count": 91,
   "id": "ac5d4ff2",
   "metadata": {},
   "outputs": [
    {
     "data": {
      "text/html": [
       "<div>\n",
       "<style scoped>\n",
       "    .dataframe tbody tr th:only-of-type {\n",
       "        vertical-align: middle;\n",
       "    }\n",
       "\n",
       "    .dataframe tbody tr th {\n",
       "        vertical-align: top;\n",
       "    }\n",
       "\n",
       "    .dataframe thead th {\n",
       "        text-align: right;\n",
       "    }\n",
       "</style>\n",
       "<table border=\"1\" class=\"dataframe\">\n",
       "  <thead>\n",
       "    <tr style=\"text-align: right;\">\n",
       "      <th></th>\n",
       "      <th>first_name</th>\n",
       "      <th>last_name</th>\n",
       "      <th>alias</th>\n",
       "      <th>class</th>\n",
       "      <th>city</th>\n",
       "      <th>country</th>\n",
       "    </tr>\n",
       "  </thead>\n",
       "  <tbody>\n",
       "    <tr>\n",
       "      <th>0</th>\n",
       "      <td>Lax</td>\n",
       "      <td>Salmonsson</td>\n",
       "      <td>The Salmon</td>\n",
       "      <td>hero</td>\n",
       "      <td>Uppsala</td>\n",
       "      <td>Sweden</td>\n",
       "    </tr>\n",
       "    <tr>\n",
       "      <th>1</th>\n",
       "      <td>Ivo</td>\n",
       "      <td>Yolk</td>\n",
       "      <td>Dr. Eggsalt</td>\n",
       "      <td>villain</td>\n",
       "      <td>Tomatown</td>\n",
       "      <td>Easterland</td>\n",
       "    </tr>\n",
       "    <tr>\n",
       "      <th>2</th>\n",
       "      <td>Luis</td>\n",
       "      <td>Gibert</td>\n",
       "      <td>Orceman</td>\n",
       "      <td>hero</td>\n",
       "      <td>Orce</td>\n",
       "      <td>Spain</td>\n",
       "    </tr>\n",
       "    <tr>\n",
       "      <th>3</th>\n",
       "      <td>Walter</td>\n",
       "      <td>Bruce</td>\n",
       "      <td>Batswede</td>\n",
       "      <td>hero</td>\n",
       "      <td>Gothamburg</td>\n",
       "      <td>Sweden</td>\n",
       "    </tr>\n",
       "    <tr>\n",
       "      <th>4</th>\n",
       "      <td>Jac</td>\n",
       "      <td>Skämt</td>\n",
       "      <td>Skojaren</td>\n",
       "      <td>villain</td>\n",
       "      <td>Gothamburg</td>\n",
       "      <td>Sweden</td>\n",
       "    </tr>\n",
       "    <tr>\n",
       "      <th>5</th>\n",
       "      <td>Juanito</td>\n",
       "      <td>Naipes</td>\n",
       "      <td>El Bromas</td>\n",
       "      <td>villain</td>\n",
       "      <td>Grandía</td>\n",
       "      <td>Spain</td>\n",
       "    </tr>\n",
       "    <tr>\n",
       "      <th>6</th>\n",
       "      <td>Banan</td>\n",
       "      <td>D'Artagnan</td>\n",
       "      <td>Musketeer</td>\n",
       "      <td>hero</td>\n",
       "      <td>Morecastle</td>\n",
       "      <td>France</td>\n",
       "    </tr>\n",
       "  </tbody>\n",
       "</table>\n",
       "</div>"
      ],
      "text/plain": [
       "  first_name   last_name        alias    class        city     country\n",
       "0        Lax  Salmonsson   The Salmon     hero     Uppsala      Sweden\n",
       "1        Ivo        Yolk  Dr. Eggsalt  villain    Tomatown  Easterland\n",
       "2       Luis      Gibert      Orceman     hero        Orce       Spain\n",
       "3     Walter       Bruce     Batswede     hero  Gothamburg      Sweden\n",
       "4        Jac       Skämt     Skojaren  villain  Gothamburg      Sweden\n",
       "5    Juanito      Naipes    El Bromas  villain     Grandía       Spain\n",
       "6      Banan  D'Artagnan    Musketeer     hero  Morecastle      France"
      ]
     },
     "metadata": {},
     "output_type": "display_data"
    }
   ],
   "source": [
    "with open(\"parse.csv\") as file:\n",
    "    my_df = pd.read_csv(file)\n",
    "    \n",
    "display(my_df)"
   ]
  },
  {
   "cell_type": "markdown",
   "id": "1e76e4fe",
   "metadata": {},
   "source": [
    "Wow, so simple and easy compared with the scenario where we create the dictionary! All the values are already sorted into columns, and we didn't need to make any effort! On top of that, if we use the **``display()``** function instead of the ``print()`` function, we get the dataframe in a nice table format!\n",
    "\n",
    "Let's look into some properties of this new, mysterious data class that has saved us so much trouble."
   ]
  },
  {
   "cell_type": "code",
   "execution_count": 90,
   "id": "02c3d08c",
   "metadata": {},
   "outputs": [
    {
     "data": {
      "text/plain": [
       "0        Lax\n",
       "1        Ivo\n",
       "2       Luis\n",
       "3     Walter\n",
       "4        Jac\n",
       "5    Juanito\n",
       "6      Banan\n",
       "Name: first_name, dtype: object"
      ]
     },
     "execution_count": 90,
     "metadata": {},
     "output_type": "execute_result"
    }
   ],
   "source": [
    "my_df[\"first_name\"]"
   ]
  },
  {
   "cell_type": "markdown",
   "id": "7ca5f1a6",
   "metadata": {},
   "source": [
    "Wow, we can retrieve first names so easily!"
   ]
  },
  {
   "cell_type": "code",
   "execution_count": 110,
   "id": "df80d457",
   "metadata": {},
   "outputs": [
    {
     "data": {
      "text/plain": [
       "Index(['first_name', 'last_name', 'alias', 'class', 'city', 'country'], dtype='object')"
      ]
     },
     "execution_count": 110,
     "metadata": {},
     "output_type": "execute_result"
    }
   ],
   "source": [
    "my_df.columns"
   ]
  },
  {
   "cell_type": "markdown",
   "id": "05631866",
   "metadata": {},
   "source": [
    "Wow, it has a propertie where the names of the columns are stored! Will it have one for the rows?"
   ]
  },
  {
   "cell_type": "code",
   "execution_count": 112,
   "id": "79b03100",
   "metadata": {},
   "outputs": [
    {
     "data": {
      "text/plain": [
       "RangeIndex(start=0, stop=7, step=1)"
      ]
     },
     "execution_count": 112,
     "metadata": {},
     "output_type": "execute_result"
    }
   ],
   "source": [
    "my_df.index"
   ]
  },
  {
   "cell_type": "markdown",
   "id": "94d30668",
   "metadata": {},
   "source": [
    "Yes, it does! (Even though its name might be a bit less straightforward...). Can we get specific rows, like we did for the columns?"
   ]
  },
  {
   "cell_type": "code",
   "execution_count": 117,
   "id": "6985b29b",
   "metadata": {},
   "outputs": [
    {
     "data": {
      "text/html": [
       "<div>\n",
       "<style scoped>\n",
       "    .dataframe tbody tr th:only-of-type {\n",
       "        vertical-align: middle;\n",
       "    }\n",
       "\n",
       "    .dataframe tbody tr th {\n",
       "        vertical-align: top;\n",
       "    }\n",
       "\n",
       "    .dataframe thead th {\n",
       "        text-align: right;\n",
       "    }\n",
       "</style>\n",
       "<table border=\"1\" class=\"dataframe\">\n",
       "  <thead>\n",
       "    <tr style=\"text-align: right;\">\n",
       "      <th></th>\n",
       "      <th>first_name</th>\n",
       "      <th>last_name</th>\n",
       "      <th>alias</th>\n",
       "      <th>class</th>\n",
       "      <th>city</th>\n",
       "      <th>country</th>\n",
       "    </tr>\n",
       "  </thead>\n",
       "  <tbody>\n",
       "    <tr>\n",
       "      <th>3</th>\n",
       "      <td>Walter</td>\n",
       "      <td>Bruce</td>\n",
       "      <td>Batswede</td>\n",
       "      <td>hero</td>\n",
       "      <td>Gothamburg</td>\n",
       "      <td>Sweden</td>\n",
       "    </tr>\n",
       "  </tbody>\n",
       "</table>\n",
       "</div>"
      ],
      "text/plain": [
       "  first_name last_name     alias class        city country\n",
       "3     Walter     Bruce  Batswede  hero  Gothamburg  Sweden"
      ]
     },
     "execution_count": 117,
     "metadata": {},
     "output_type": "execute_result"
    }
   ],
   "source": [
    "my_df[my_df.index == 3]"
   ]
  },
  {
   "cell_type": "markdown",
   "id": "cc2fc0ca",
   "metadata": {},
   "source": [
    "Yes, we can! The logic behind dataframes is not different to that behind **SQL databases**, for those of you who know SQL. The idea is that it should be easy to retrieve the pieces of information that we want from the dataframe. We can also select several data matching a particular criterion, for example, all the heros:"
   ]
  },
  {
   "cell_type": "code",
   "execution_count": 119,
   "id": "0d31fe88",
   "metadata": {},
   "outputs": [
    {
     "data": {
      "text/html": [
       "<div>\n",
       "<style scoped>\n",
       "    .dataframe tbody tr th:only-of-type {\n",
       "        vertical-align: middle;\n",
       "    }\n",
       "\n",
       "    .dataframe tbody tr th {\n",
       "        vertical-align: top;\n",
       "    }\n",
       "\n",
       "    .dataframe thead th {\n",
       "        text-align: right;\n",
       "    }\n",
       "</style>\n",
       "<table border=\"1\" class=\"dataframe\">\n",
       "  <thead>\n",
       "    <tr style=\"text-align: right;\">\n",
       "      <th></th>\n",
       "      <th>first_name</th>\n",
       "      <th>last_name</th>\n",
       "      <th>alias</th>\n",
       "      <th>class</th>\n",
       "      <th>city</th>\n",
       "      <th>country</th>\n",
       "    </tr>\n",
       "  </thead>\n",
       "  <tbody>\n",
       "    <tr>\n",
       "      <th>0</th>\n",
       "      <td>Lax</td>\n",
       "      <td>Salmonsson</td>\n",
       "      <td>The Salmon</td>\n",
       "      <td>hero</td>\n",
       "      <td>Uppsala</td>\n",
       "      <td>Sweden</td>\n",
       "    </tr>\n",
       "    <tr>\n",
       "      <th>2</th>\n",
       "      <td>Luis</td>\n",
       "      <td>Gibert</td>\n",
       "      <td>Orceman</td>\n",
       "      <td>hero</td>\n",
       "      <td>Orce</td>\n",
       "      <td>Spain</td>\n",
       "    </tr>\n",
       "    <tr>\n",
       "      <th>3</th>\n",
       "      <td>Walter</td>\n",
       "      <td>Bruce</td>\n",
       "      <td>Batswede</td>\n",
       "      <td>hero</td>\n",
       "      <td>Gothamburg</td>\n",
       "      <td>Sweden</td>\n",
       "    </tr>\n",
       "    <tr>\n",
       "      <th>6</th>\n",
       "      <td>Banan</td>\n",
       "      <td>D'Artagnan</td>\n",
       "      <td>Musketeer</td>\n",
       "      <td>hero</td>\n",
       "      <td>Morecastle</td>\n",
       "      <td>France</td>\n",
       "    </tr>\n",
       "  </tbody>\n",
       "</table>\n",
       "</div>"
      ],
      "text/plain": [
       "  first_name   last_name       alias class        city country\n",
       "0        Lax  Salmonsson  The Salmon  hero     Uppsala  Sweden\n",
       "2       Luis      Gibert     Orceman  hero        Orce   Spain\n",
       "3     Walter       Bruce    Batswede  hero  Gothamburg  Sweden\n",
       "6      Banan  D'Artagnan   Musketeer  hero  Morecastle  France"
      ]
     },
     "execution_count": 119,
     "metadata": {},
     "output_type": "execute_result"
    }
   ],
   "source": [
    "my_df[my_df[\"class\"] == \"hero\"]"
   ]
  },
  {
   "cell_type": "markdown",
   "id": "b31286bb",
   "metadata": {},
   "source": [
    "And that's not all! We can even specify several conditions. For example, we might want to select all heroes in Sweden:"
   ]
  },
  {
   "cell_type": "code",
   "execution_count": 122,
   "id": "c1a2d5e0",
   "metadata": {},
   "outputs": [
    {
     "data": {
      "text/html": [
       "<div>\n",
       "<style scoped>\n",
       "    .dataframe tbody tr th:only-of-type {\n",
       "        vertical-align: middle;\n",
       "    }\n",
       "\n",
       "    .dataframe tbody tr th {\n",
       "        vertical-align: top;\n",
       "    }\n",
       "\n",
       "    .dataframe thead th {\n",
       "        text-align: right;\n",
       "    }\n",
       "</style>\n",
       "<table border=\"1\" class=\"dataframe\">\n",
       "  <thead>\n",
       "    <tr style=\"text-align: right;\">\n",
       "      <th></th>\n",
       "      <th>first_name</th>\n",
       "      <th>last_name</th>\n",
       "      <th>alias</th>\n",
       "      <th>class</th>\n",
       "      <th>city</th>\n",
       "      <th>country</th>\n",
       "    </tr>\n",
       "  </thead>\n",
       "  <tbody>\n",
       "    <tr>\n",
       "      <th>0</th>\n",
       "      <td>Lax</td>\n",
       "      <td>Salmonsson</td>\n",
       "      <td>The Salmon</td>\n",
       "      <td>hero</td>\n",
       "      <td>Uppsala</td>\n",
       "      <td>Sweden</td>\n",
       "    </tr>\n",
       "    <tr>\n",
       "      <th>3</th>\n",
       "      <td>Walter</td>\n",
       "      <td>Bruce</td>\n",
       "      <td>Batswede</td>\n",
       "      <td>hero</td>\n",
       "      <td>Gothamburg</td>\n",
       "      <td>Sweden</td>\n",
       "    </tr>\n",
       "  </tbody>\n",
       "</table>\n",
       "</div>"
      ],
      "text/plain": [
       "  first_name   last_name       alias class        city country\n",
       "0        Lax  Salmonsson  The Salmon  hero     Uppsala  Sweden\n",
       "3     Walter       Bruce    Batswede  hero  Gothamburg  Sweden"
      ]
     },
     "execution_count": 122,
     "metadata": {},
     "output_type": "execute_result"
    }
   ],
   "source": [
    "my_df[(my_df[\"class\"] == \"hero\") & (my_df[\"country\"] == \"Sweden\")]"
   ]
  },
  {
   "cell_type": "markdown",
   "id": "14a3fd22",
   "metadata": {},
   "source": [
    "**OBS!** If you want to use several conditions, don't forget to use parentheses around every condition."
   ]
  },
  {
   "cell_type": "markdown",
   "id": "504d6690",
   "metadata": {},
   "source": [
    "Perhaps we want to select a particular value from a row, for example, the hero name of hero 3, Walter Bruce. Then, we can use the following syntax:"
   ]
  },
  {
   "cell_type": "code",
   "execution_count": 101,
   "id": "688b4fcc",
   "metadata": {},
   "outputs": [
    {
     "data": {
      "text/plain": [
       "'Batswede'"
      ]
     },
     "execution_count": 101,
     "metadata": {},
     "output_type": "execute_result"
    }
   ],
   "source": [
    "my_df.loc[3][2]"
   ]
  },
  {
   "cell_type": "markdown",
   "id": "fb11b58d",
   "metadata": {},
   "source": [
    "If we don't use the ``loc`` method, it will try to select element 2 (the third element, because again, indexes start at 0) from a column named 3 and it will prompt an error because no such column exists in this dataframe. Alternatively, if we want to select a row by index instead of by value, we can use the ``iloc`` method:"
   ]
  },
  {
   "cell_type": "code",
   "execution_count": 110,
   "id": "1ccd4c5b",
   "metadata": {},
   "outputs": [
    {
     "data": {
      "text/html": [
       "<div>\n",
       "<style scoped>\n",
       "    .dataframe tbody tr th:only-of-type {\n",
       "        vertical-align: middle;\n",
       "    }\n",
       "\n",
       "    .dataframe tbody tr th {\n",
       "        vertical-align: top;\n",
       "    }\n",
       "\n",
       "    .dataframe thead th {\n",
       "        text-align: right;\n",
       "    }\n",
       "</style>\n",
       "<table border=\"1\" class=\"dataframe\">\n",
       "  <thead>\n",
       "    <tr style=\"text-align: right;\">\n",
       "      <th></th>\n",
       "      <th>0</th>\n",
       "      <th>1</th>\n",
       "      <th>2</th>\n",
       "      <th>3</th>\n",
       "      <th>4</th>\n",
       "      <th>5</th>\n",
       "      <th>6</th>\n",
       "    </tr>\n",
       "  </thead>\n",
       "  <tbody>\n",
       "    <tr>\n",
       "      <th>first_name</th>\n",
       "      <td>Lax</td>\n",
       "      <td>Ivo</td>\n",
       "      <td>Luis</td>\n",
       "      <td>Walter</td>\n",
       "      <td>Jac</td>\n",
       "      <td>Juanito</td>\n",
       "      <td>Banan</td>\n",
       "    </tr>\n",
       "    <tr>\n",
       "      <th>last_name</th>\n",
       "      <td>Salmonsson</td>\n",
       "      <td>Yolk</td>\n",
       "      <td>Gibert</td>\n",
       "      <td>Bruce</td>\n",
       "      <td>Skämt</td>\n",
       "      <td>Naipes</td>\n",
       "      <td>D'Artagnan</td>\n",
       "    </tr>\n",
       "    <tr>\n",
       "      <th>alias</th>\n",
       "      <td>The Salmon</td>\n",
       "      <td>Dr. Eggsalt</td>\n",
       "      <td>Orceman</td>\n",
       "      <td>Batswede</td>\n",
       "      <td>Skojaren</td>\n",
       "      <td>El Bromas</td>\n",
       "      <td>Musketeer</td>\n",
       "    </tr>\n",
       "    <tr>\n",
       "      <th>class</th>\n",
       "      <td>hero</td>\n",
       "      <td>villain</td>\n",
       "      <td>hero</td>\n",
       "      <td>hero</td>\n",
       "      <td>villain</td>\n",
       "      <td>villain</td>\n",
       "      <td>hero</td>\n",
       "    </tr>\n",
       "    <tr>\n",
       "      <th>city</th>\n",
       "      <td>Uppsala</td>\n",
       "      <td>Tomatown</td>\n",
       "      <td>Orce</td>\n",
       "      <td>Gothamburg</td>\n",
       "      <td>Gothamburg</td>\n",
       "      <td>Grandía</td>\n",
       "      <td>Morecastle</td>\n",
       "    </tr>\n",
       "    <tr>\n",
       "      <th>country</th>\n",
       "      <td>Sweden</td>\n",
       "      <td>Easterland</td>\n",
       "      <td>Spain</td>\n",
       "      <td>Sweden</td>\n",
       "      <td>Sweden</td>\n",
       "      <td>Spain</td>\n",
       "      <td>France</td>\n",
       "    </tr>\n",
       "  </tbody>\n",
       "</table>\n",
       "</div>"
      ],
      "text/plain": [
       "                     0            1        2           3           4  \\\n",
       "first_name         Lax          Ivo     Luis      Walter         Jac   \n",
       "last_name   Salmonsson         Yolk   Gibert       Bruce       Skämt   \n",
       "alias       The Salmon  Dr. Eggsalt  Orceman    Batswede    Skojaren   \n",
       "class             hero      villain     hero        hero     villain   \n",
       "city           Uppsala     Tomatown     Orce  Gothamburg  Gothamburg   \n",
       "country         Sweden   Easterland    Spain      Sweden      Sweden   \n",
       "\n",
       "                    5           6  \n",
       "first_name    Juanito       Banan  \n",
       "last_name      Naipes  D'Artagnan  \n",
       "alias       El Bromas   Musketeer  \n",
       "class         villain        hero  \n",
       "city          Grandía  Morecastle  \n",
       "country         Spain      France  "
      ]
     },
     "metadata": {},
     "output_type": "display_data"
    },
    {
     "data": {
      "text/plain": [
       "0       hero\n",
       "1    villain\n",
       "2       hero\n",
       "3       hero\n",
       "4    villain\n",
       "5    villain\n",
       "6       hero\n",
       "Name: class, dtype: object"
      ]
     },
     "metadata": {},
     "output_type": "display_data"
    }
   ],
   "source": [
    "display(my_df.T)\n",
    "display(my_df.T.iloc[3])"
   ]
  },
  {
   "cell_type": "markdown",
   "id": "86db15cd",
   "metadata": {},
   "source": [
    "Here I **transposed** the dataframe (turned rows into columns and vice-versa) using the **``T``** method to show how ``iloc`` uses indexes instead of values. In this case, the row (former column) at index 3 (fourth position) is called ``class``. If we tried to access this row with the ``loc`` method, it would prompt an error, because the row label is ``class``, not 3. If we use the original dataframe, both ``loc`` and ``iloc`` will do the exact same thing, because the label of the fourth row is equal to its index, 3:"
   ]
  },
  {
   "cell_type": "code",
   "execution_count": 112,
   "id": "dc8cda80",
   "metadata": {},
   "outputs": [
    {
     "data": {
      "text/plain": [
       "first_name        Walter\n",
       "last_name          Bruce\n",
       "alias           Batswede\n",
       "class               hero\n",
       "city          Gothamburg\n",
       "country           Sweden\n",
       "Name: 3, dtype: object"
      ]
     },
     "metadata": {},
     "output_type": "display_data"
    },
    {
     "data": {
      "text/plain": [
       "first_name        Walter\n",
       "last_name          Bruce\n",
       "alias           Batswede\n",
       "class               hero\n",
       "city          Gothamburg\n",
       "country           Sweden\n",
       "Name: 3, dtype: object"
      ]
     },
     "metadata": {},
     "output_type": "display_data"
    }
   ],
   "source": [
    "display(my_df.loc[3])\n",
    "display(my_df.iloc[3])"
   ]
  },
  {
   "cell_type": "markdown",
   "id": "677c5ef2",
   "metadata": {},
   "source": [
    "It is also possible to select several full rows with the ``loc`` or ``iloc`` methods:"
   ]
  },
  {
   "cell_type": "code",
   "execution_count": 106,
   "id": "4043ac66",
   "metadata": {},
   "outputs": [
    {
     "data": {
      "text/html": [
       "<div>\n",
       "<style scoped>\n",
       "    .dataframe tbody tr th:only-of-type {\n",
       "        vertical-align: middle;\n",
       "    }\n",
       "\n",
       "    .dataframe tbody tr th {\n",
       "        vertical-align: top;\n",
       "    }\n",
       "\n",
       "    .dataframe thead th {\n",
       "        text-align: right;\n",
       "    }\n",
       "</style>\n",
       "<table border=\"1\" class=\"dataframe\">\n",
       "  <thead>\n",
       "    <tr style=\"text-align: right;\">\n",
       "      <th></th>\n",
       "      <th>first_name</th>\n",
       "      <th>last_name</th>\n",
       "      <th>alias</th>\n",
       "      <th>class</th>\n",
       "      <th>city</th>\n",
       "      <th>country</th>\n",
       "    </tr>\n",
       "  </thead>\n",
       "  <tbody>\n",
       "    <tr>\n",
       "      <th>1</th>\n",
       "      <td>Ivo</td>\n",
       "      <td>Yolk</td>\n",
       "      <td>Dr. Eggsalt</td>\n",
       "      <td>villain</td>\n",
       "      <td>Tomatown</td>\n",
       "      <td>Easterland</td>\n",
       "    </tr>\n",
       "    <tr>\n",
       "      <th>2</th>\n",
       "      <td>Luis</td>\n",
       "      <td>Gibert</td>\n",
       "      <td>Orceman</td>\n",
       "      <td>hero</td>\n",
       "      <td>Orce</td>\n",
       "      <td>Spain</td>\n",
       "    </tr>\n",
       "    <tr>\n",
       "      <th>3</th>\n",
       "      <td>Walter</td>\n",
       "      <td>Bruce</td>\n",
       "      <td>Batswede</td>\n",
       "      <td>hero</td>\n",
       "      <td>Gothamburg</td>\n",
       "      <td>Sweden</td>\n",
       "    </tr>\n",
       "  </tbody>\n",
       "</table>\n",
       "</div>"
      ],
      "text/plain": [
       "  first_name last_name        alias    class        city     country\n",
       "1        Ivo      Yolk  Dr. Eggsalt  villain    Tomatown  Easterland\n",
       "2       Luis    Gibert      Orceman     hero        Orce       Spain\n",
       "3     Walter     Bruce     Batswede     hero  Gothamburg      Sweden"
      ]
     },
     "execution_count": 106,
     "metadata": {},
     "output_type": "execute_result"
    }
   ],
   "source": [
    "my_df.loc[1:3, :]"
   ]
  },
  {
   "cell_type": "markdown",
   "id": "e9b0712b",
   "metadata": {},
   "source": [
    "And there is yet more to come... For example, we can sort the data using any column; for example, I will sort the dataframe by last name in alphabetical order:"
   ]
  },
  {
   "cell_type": "code",
   "execution_count": 86,
   "id": "e507b629",
   "metadata": {},
   "outputs": [
    {
     "data": {
      "text/html": [
       "<div>\n",
       "<style scoped>\n",
       "    .dataframe tbody tr th:only-of-type {\n",
       "        vertical-align: middle;\n",
       "    }\n",
       "\n",
       "    .dataframe tbody tr th {\n",
       "        vertical-align: top;\n",
       "    }\n",
       "\n",
       "    .dataframe thead th {\n",
       "        text-align: right;\n",
       "    }\n",
       "</style>\n",
       "<table border=\"1\" class=\"dataframe\">\n",
       "  <thead>\n",
       "    <tr style=\"text-align: right;\">\n",
       "      <th></th>\n",
       "      <th>first_name</th>\n",
       "      <th>last_name</th>\n",
       "      <th>alias</th>\n",
       "      <th>class</th>\n",
       "      <th>city</th>\n",
       "      <th>country</th>\n",
       "    </tr>\n",
       "  </thead>\n",
       "  <tbody>\n",
       "    <tr>\n",
       "      <th>3</th>\n",
       "      <td>Walter</td>\n",
       "      <td>Bruce</td>\n",
       "      <td>Batswede</td>\n",
       "      <td>hero</td>\n",
       "      <td>Gothamburg</td>\n",
       "      <td>Sweden</td>\n",
       "    </tr>\n",
       "    <tr>\n",
       "      <th>6</th>\n",
       "      <td>Banan</td>\n",
       "      <td>D'Artagnan</td>\n",
       "      <td>Musketeer</td>\n",
       "      <td>hero</td>\n",
       "      <td>Morecastle</td>\n",
       "      <td>France</td>\n",
       "    </tr>\n",
       "    <tr>\n",
       "      <th>2</th>\n",
       "      <td>Luis</td>\n",
       "      <td>Gibert</td>\n",
       "      <td>Orceman</td>\n",
       "      <td>hero</td>\n",
       "      <td>Orce</td>\n",
       "      <td>Spain</td>\n",
       "    </tr>\n",
       "    <tr>\n",
       "      <th>5</th>\n",
       "      <td>Juanito</td>\n",
       "      <td>Naipes</td>\n",
       "      <td>El Bromas</td>\n",
       "      <td>villain</td>\n",
       "      <td>Grandía</td>\n",
       "      <td>Spain</td>\n",
       "    </tr>\n",
       "    <tr>\n",
       "      <th>0</th>\n",
       "      <td>Lax</td>\n",
       "      <td>Salmonsson</td>\n",
       "      <td>The Salmon</td>\n",
       "      <td>hero</td>\n",
       "      <td>Uppsala</td>\n",
       "      <td>Sweden</td>\n",
       "    </tr>\n",
       "    <tr>\n",
       "      <th>4</th>\n",
       "      <td>Jac</td>\n",
       "      <td>Skämt</td>\n",
       "      <td>Skojaren</td>\n",
       "      <td>villain</td>\n",
       "      <td>Gothamburg</td>\n",
       "      <td>Sweden</td>\n",
       "    </tr>\n",
       "    <tr>\n",
       "      <th>1</th>\n",
       "      <td>Ivo</td>\n",
       "      <td>Yolk</td>\n",
       "      <td>Dr. Eggsalt</td>\n",
       "      <td>villain</td>\n",
       "      <td>Tomatown</td>\n",
       "      <td>Easterland</td>\n",
       "    </tr>\n",
       "  </tbody>\n",
       "</table>\n",
       "</div>"
      ],
      "text/plain": [
       "  first_name   last_name        alias    class        city     country\n",
       "3     Walter       Bruce     Batswede     hero  Gothamburg      Sweden\n",
       "6      Banan  D'Artagnan    Musketeer     hero  Morecastle      France\n",
       "2       Luis      Gibert      Orceman     hero        Orce       Spain\n",
       "5    Juanito      Naipes    El Bromas  villain     Grandía       Spain\n",
       "0        Lax  Salmonsson   The Salmon     hero     Uppsala      Sweden\n",
       "4        Jac       Skämt     Skojaren  villain  Gothamburg      Sweden\n",
       "1        Ivo        Yolk  Dr. Eggsalt  villain    Tomatown  Easterland"
      ]
     },
     "metadata": {},
     "output_type": "display_data"
    }
   ],
   "source": [
    "new_df = my_df.sort_values(by = \"last_name\", ascending = True)\n",
    "display(new_df)"
   ]
  },
  {
   "cell_type": "markdown",
   "id": "b3fcd105",
   "metadata": {},
   "source": [
    "The default sorting is sorting by index:"
   ]
  },
  {
   "cell_type": "code",
   "execution_count": 87,
   "id": "1023f267",
   "metadata": {},
   "outputs": [
    {
     "data": {
      "text/html": [
       "<div>\n",
       "<style scoped>\n",
       "    .dataframe tbody tr th:only-of-type {\n",
       "        vertical-align: middle;\n",
       "    }\n",
       "\n",
       "    .dataframe tbody tr th {\n",
       "        vertical-align: top;\n",
       "    }\n",
       "\n",
       "    .dataframe thead th {\n",
       "        text-align: right;\n",
       "    }\n",
       "</style>\n",
       "<table border=\"1\" class=\"dataframe\">\n",
       "  <thead>\n",
       "    <tr style=\"text-align: right;\">\n",
       "      <th></th>\n",
       "      <th>first_name</th>\n",
       "      <th>last_name</th>\n",
       "      <th>alias</th>\n",
       "      <th>class</th>\n",
       "      <th>city</th>\n",
       "      <th>country</th>\n",
       "    </tr>\n",
       "  </thead>\n",
       "  <tbody>\n",
       "    <tr>\n",
       "      <th>0</th>\n",
       "      <td>Lax</td>\n",
       "      <td>Salmonsson</td>\n",
       "      <td>The Salmon</td>\n",
       "      <td>hero</td>\n",
       "      <td>Uppsala</td>\n",
       "      <td>Sweden</td>\n",
       "    </tr>\n",
       "    <tr>\n",
       "      <th>1</th>\n",
       "      <td>Ivo</td>\n",
       "      <td>Yolk</td>\n",
       "      <td>Dr. Eggsalt</td>\n",
       "      <td>villain</td>\n",
       "      <td>Tomatown</td>\n",
       "      <td>Easterland</td>\n",
       "    </tr>\n",
       "    <tr>\n",
       "      <th>2</th>\n",
       "      <td>Luis</td>\n",
       "      <td>Gibert</td>\n",
       "      <td>Orceman</td>\n",
       "      <td>hero</td>\n",
       "      <td>Orce</td>\n",
       "      <td>Spain</td>\n",
       "    </tr>\n",
       "    <tr>\n",
       "      <th>3</th>\n",
       "      <td>Walter</td>\n",
       "      <td>Bruce</td>\n",
       "      <td>Batswede</td>\n",
       "      <td>hero</td>\n",
       "      <td>Gothamburg</td>\n",
       "      <td>Sweden</td>\n",
       "    </tr>\n",
       "    <tr>\n",
       "      <th>4</th>\n",
       "      <td>Jac</td>\n",
       "      <td>Skämt</td>\n",
       "      <td>Skojaren</td>\n",
       "      <td>villain</td>\n",
       "      <td>Gothamburg</td>\n",
       "      <td>Sweden</td>\n",
       "    </tr>\n",
       "    <tr>\n",
       "      <th>5</th>\n",
       "      <td>Juanito</td>\n",
       "      <td>Naipes</td>\n",
       "      <td>El Bromas</td>\n",
       "      <td>villain</td>\n",
       "      <td>Grandía</td>\n",
       "      <td>Spain</td>\n",
       "    </tr>\n",
       "    <tr>\n",
       "      <th>6</th>\n",
       "      <td>Banan</td>\n",
       "      <td>D'Artagnan</td>\n",
       "      <td>Musketeer</td>\n",
       "      <td>hero</td>\n",
       "      <td>Morecastle</td>\n",
       "      <td>France</td>\n",
       "    </tr>\n",
       "  </tbody>\n",
       "</table>\n",
       "</div>"
      ],
      "text/plain": [
       "  first_name   last_name        alias    class        city     country\n",
       "0        Lax  Salmonsson   The Salmon     hero     Uppsala      Sweden\n",
       "1        Ivo        Yolk  Dr. Eggsalt  villain    Tomatown  Easterland\n",
       "2       Luis      Gibert      Orceman     hero        Orce       Spain\n",
       "3     Walter       Bruce     Batswede     hero  Gothamburg      Sweden\n",
       "4        Jac       Skämt     Skojaren  villain  Gothamburg      Sweden\n",
       "5    Juanito      Naipes    El Bromas  villain     Grandía       Spain\n",
       "6      Banan  D'Artagnan    Musketeer     hero  Morecastle      France"
      ]
     },
     "execution_count": 87,
     "metadata": {},
     "output_type": "execute_result"
    }
   ],
   "source": [
    "new_df.sort_index()"
   ]
  },
  {
   "cell_type": "markdown",
   "id": "ddcfcfdf",
   "metadata": {},
   "source": [
    "We can also interchange the positions of columns and rows, as you can do when you **transpose** a matrix:"
   ]
  },
  {
   "cell_type": "code",
   "execution_count": 88,
   "id": "0f49ecf0",
   "metadata": {},
   "outputs": [
    {
     "data": {
      "text/html": [
       "<div>\n",
       "<style scoped>\n",
       "    .dataframe tbody tr th:only-of-type {\n",
       "        vertical-align: middle;\n",
       "    }\n",
       "\n",
       "    .dataframe tbody tr th {\n",
       "        vertical-align: top;\n",
       "    }\n",
       "\n",
       "    .dataframe thead th {\n",
       "        text-align: right;\n",
       "    }\n",
       "</style>\n",
       "<table border=\"1\" class=\"dataframe\">\n",
       "  <thead>\n",
       "    <tr style=\"text-align: right;\">\n",
       "      <th></th>\n",
       "      <th>0</th>\n",
       "      <th>1</th>\n",
       "      <th>2</th>\n",
       "      <th>3</th>\n",
       "      <th>4</th>\n",
       "      <th>5</th>\n",
       "      <th>6</th>\n",
       "    </tr>\n",
       "  </thead>\n",
       "  <tbody>\n",
       "    <tr>\n",
       "      <th>first_name</th>\n",
       "      <td>Lax</td>\n",
       "      <td>Ivo</td>\n",
       "      <td>Luis</td>\n",
       "      <td>Walter</td>\n",
       "      <td>Jac</td>\n",
       "      <td>Juanito</td>\n",
       "      <td>Banan</td>\n",
       "    </tr>\n",
       "    <tr>\n",
       "      <th>last_name</th>\n",
       "      <td>Salmonsson</td>\n",
       "      <td>Yolk</td>\n",
       "      <td>Gibert</td>\n",
       "      <td>Bruce</td>\n",
       "      <td>Skämt</td>\n",
       "      <td>Naipes</td>\n",
       "      <td>D'Artagnan</td>\n",
       "    </tr>\n",
       "    <tr>\n",
       "      <th>alias</th>\n",
       "      <td>The Salmon</td>\n",
       "      <td>Dr. Eggsalt</td>\n",
       "      <td>Orceman</td>\n",
       "      <td>Batswede</td>\n",
       "      <td>Skojaren</td>\n",
       "      <td>El Bromas</td>\n",
       "      <td>Musketeer</td>\n",
       "    </tr>\n",
       "    <tr>\n",
       "      <th>class</th>\n",
       "      <td>hero</td>\n",
       "      <td>villain</td>\n",
       "      <td>hero</td>\n",
       "      <td>hero</td>\n",
       "      <td>villain</td>\n",
       "      <td>villain</td>\n",
       "      <td>hero</td>\n",
       "    </tr>\n",
       "    <tr>\n",
       "      <th>city</th>\n",
       "      <td>Uppsala</td>\n",
       "      <td>Tomatown</td>\n",
       "      <td>Orce</td>\n",
       "      <td>Gothamburg</td>\n",
       "      <td>Gothamburg</td>\n",
       "      <td>Grandía</td>\n",
       "      <td>Morecastle</td>\n",
       "    </tr>\n",
       "    <tr>\n",
       "      <th>country</th>\n",
       "      <td>Sweden</td>\n",
       "      <td>Easterland</td>\n",
       "      <td>Spain</td>\n",
       "      <td>Sweden</td>\n",
       "      <td>Sweden</td>\n",
       "      <td>Spain</td>\n",
       "      <td>France</td>\n",
       "    </tr>\n",
       "  </tbody>\n",
       "</table>\n",
       "</div>"
      ],
      "text/plain": [
       "                     0            1        2           3           4  \\\n",
       "first_name         Lax          Ivo     Luis      Walter         Jac   \n",
       "last_name   Salmonsson         Yolk   Gibert       Bruce       Skämt   \n",
       "alias       The Salmon  Dr. Eggsalt  Orceman    Batswede    Skojaren   \n",
       "class             hero      villain     hero        hero     villain   \n",
       "city           Uppsala     Tomatown     Orce  Gothamburg  Gothamburg   \n",
       "country         Sweden   Easterland    Spain      Sweden      Sweden   \n",
       "\n",
       "                    5           6  \n",
       "first_name    Juanito       Banan  \n",
       "last_name      Naipes  D'Artagnan  \n",
       "alias       El Bromas   Musketeer  \n",
       "class         villain        hero  \n",
       "city          Grandía  Morecastle  \n",
       "country         Spain      France  "
      ]
     },
     "metadata": {},
     "output_type": "display_data"
    }
   ],
   "source": [
    "display(my_df.T)"
   ]
  },
  {
   "cell_type": "markdown",
   "id": "c4de525a",
   "metadata": {},
   "source": [
    "If you have a dataframe with thousand of data, printing the full thing might not be wise. In this case, you can use the ``head()`` and ``tail()`` methods to display the beginning or the end of the dataframe, respectively. With these methods, you can choose the number of rows that are displayed (five by default):"
   ]
  },
  {
   "cell_type": "code",
   "execution_count": 71,
   "id": "3caa41c7",
   "metadata": {},
   "outputs": [
    {
     "data": {
      "text/html": [
       "<div>\n",
       "<style scoped>\n",
       "    .dataframe tbody tr th:only-of-type {\n",
       "        vertical-align: middle;\n",
       "    }\n",
       "\n",
       "    .dataframe tbody tr th {\n",
       "        vertical-align: top;\n",
       "    }\n",
       "\n",
       "    .dataframe thead th {\n",
       "        text-align: right;\n",
       "    }\n",
       "</style>\n",
       "<table border=\"1\" class=\"dataframe\">\n",
       "  <thead>\n",
       "    <tr style=\"text-align: right;\">\n",
       "      <th></th>\n",
       "      <th>first_name</th>\n",
       "      <th>last_name</th>\n",
       "      <th>alias</th>\n",
       "      <th>class</th>\n",
       "      <th>city</th>\n",
       "      <th>country</th>\n",
       "    </tr>\n",
       "  </thead>\n",
       "  <tbody>\n",
       "    <tr>\n",
       "      <th>0</th>\n",
       "      <td>Lax</td>\n",
       "      <td>Salmonsson</td>\n",
       "      <td>The Salmon</td>\n",
       "      <td>hero</td>\n",
       "      <td>Uppsala</td>\n",
       "      <td>Sweden</td>\n",
       "    </tr>\n",
       "    <tr>\n",
       "      <th>1</th>\n",
       "      <td>Ivo</td>\n",
       "      <td>Yolk</td>\n",
       "      <td>Dr. Eggsalt</td>\n",
       "      <td>villain</td>\n",
       "      <td>Tomatown</td>\n",
       "      <td>Easterland</td>\n",
       "    </tr>\n",
       "    <tr>\n",
       "      <th>2</th>\n",
       "      <td>Luis</td>\n",
       "      <td>Gibert</td>\n",
       "      <td>Orceman</td>\n",
       "      <td>hero</td>\n",
       "      <td>Orce</td>\n",
       "      <td>Spain</td>\n",
       "    </tr>\n",
       "    <tr>\n",
       "      <th>3</th>\n",
       "      <td>Walter</td>\n",
       "      <td>Bruce</td>\n",
       "      <td>Batswede</td>\n",
       "      <td>hero</td>\n",
       "      <td>Gothamburg</td>\n",
       "      <td>Sweden</td>\n",
       "    </tr>\n",
       "    <tr>\n",
       "      <th>4</th>\n",
       "      <td>Jac</td>\n",
       "      <td>Skämt</td>\n",
       "      <td>Skojaren</td>\n",
       "      <td>villain</td>\n",
       "      <td>Gothamburg</td>\n",
       "      <td>Sweden</td>\n",
       "    </tr>\n",
       "  </tbody>\n",
       "</table>\n",
       "</div>"
      ],
      "text/plain": [
       "  first_name   last_name        alias    class        city     country\n",
       "0        Lax  Salmonsson   The Salmon     hero     Uppsala      Sweden\n",
       "1        Ivo        Yolk  Dr. Eggsalt  villain    Tomatown  Easterland\n",
       "2       Luis      Gibert      Orceman     hero        Orce       Spain\n",
       "3     Walter       Bruce     Batswede     hero  Gothamburg      Sweden\n",
       "4        Jac       Skämt     Skojaren  villain  Gothamburg      Sweden"
      ]
     },
     "execution_count": 71,
     "metadata": {},
     "output_type": "execute_result"
    }
   ],
   "source": [
    "my_df.head()"
   ]
  },
  {
   "cell_type": "code",
   "execution_count": 66,
   "id": "42e5ea6c",
   "metadata": {},
   "outputs": [
    {
     "data": {
      "text/html": [
       "<div>\n",
       "<style scoped>\n",
       "    .dataframe tbody tr th:only-of-type {\n",
       "        vertical-align: middle;\n",
       "    }\n",
       "\n",
       "    .dataframe tbody tr th {\n",
       "        vertical-align: top;\n",
       "    }\n",
       "\n",
       "    .dataframe thead th {\n",
       "        text-align: right;\n",
       "    }\n",
       "</style>\n",
       "<table border=\"1\" class=\"dataframe\">\n",
       "  <thead>\n",
       "    <tr style=\"text-align: right;\">\n",
       "      <th></th>\n",
       "      <th>first_name</th>\n",
       "      <th>last_name</th>\n",
       "      <th>alias</th>\n",
       "      <th>class</th>\n",
       "      <th>city</th>\n",
       "      <th>country</th>\n",
       "    </tr>\n",
       "  </thead>\n",
       "  <tbody>\n",
       "    <tr>\n",
       "      <th>0</th>\n",
       "      <td>Lax</td>\n",
       "      <td>Salmonsson</td>\n",
       "      <td>The Salmon</td>\n",
       "      <td>hero</td>\n",
       "      <td>Uppsala</td>\n",
       "      <td>Sweden</td>\n",
       "    </tr>\n",
       "    <tr>\n",
       "      <th>1</th>\n",
       "      <td>Ivo</td>\n",
       "      <td>Yolk</td>\n",
       "      <td>Dr. Eggsalt</td>\n",
       "      <td>villain</td>\n",
       "      <td>Tomatown</td>\n",
       "      <td>Easterland</td>\n",
       "    </tr>\n",
       "  </tbody>\n",
       "</table>\n",
       "</div>"
      ],
      "text/plain": [
       "  first_name   last_name        alias    class      city     country\n",
       "0        Lax  Salmonsson   The Salmon     hero   Uppsala      Sweden\n",
       "1        Ivo        Yolk  Dr. Eggsalt  villain  Tomatown  Easterland"
      ]
     },
     "execution_count": 66,
     "metadata": {},
     "output_type": "execute_result"
    }
   ],
   "source": [
    "my_df.head(2)"
   ]
  },
  {
   "cell_type": "code",
   "execution_count": 67,
   "id": "05fbbbaa",
   "metadata": {},
   "outputs": [
    {
     "data": {
      "text/html": [
       "<div>\n",
       "<style scoped>\n",
       "    .dataframe tbody tr th:only-of-type {\n",
       "        vertical-align: middle;\n",
       "    }\n",
       "\n",
       "    .dataframe tbody tr th {\n",
       "        vertical-align: top;\n",
       "    }\n",
       "\n",
       "    .dataframe thead th {\n",
       "        text-align: right;\n",
       "    }\n",
       "</style>\n",
       "<table border=\"1\" class=\"dataframe\">\n",
       "  <thead>\n",
       "    <tr style=\"text-align: right;\">\n",
       "      <th></th>\n",
       "      <th>first_name</th>\n",
       "      <th>last_name</th>\n",
       "      <th>alias</th>\n",
       "      <th>class</th>\n",
       "      <th>city</th>\n",
       "      <th>country</th>\n",
       "    </tr>\n",
       "  </thead>\n",
       "  <tbody>\n",
       "    <tr>\n",
       "      <th>2</th>\n",
       "      <td>Luis</td>\n",
       "      <td>Gibert</td>\n",
       "      <td>Orceman</td>\n",
       "      <td>hero</td>\n",
       "      <td>Orce</td>\n",
       "      <td>Spain</td>\n",
       "    </tr>\n",
       "    <tr>\n",
       "      <th>3</th>\n",
       "      <td>Walter</td>\n",
       "      <td>Bruce</td>\n",
       "      <td>Batswede</td>\n",
       "      <td>hero</td>\n",
       "      <td>Gothamburg</td>\n",
       "      <td>Sweden</td>\n",
       "    </tr>\n",
       "    <tr>\n",
       "      <th>4</th>\n",
       "      <td>Jac</td>\n",
       "      <td>Skämt</td>\n",
       "      <td>Skojaren</td>\n",
       "      <td>villain</td>\n",
       "      <td>Gothamburg</td>\n",
       "      <td>Sweden</td>\n",
       "    </tr>\n",
       "    <tr>\n",
       "      <th>5</th>\n",
       "      <td>Juanito</td>\n",
       "      <td>Naipes</td>\n",
       "      <td>El Bromas</td>\n",
       "      <td>villain</td>\n",
       "      <td>Grandía</td>\n",
       "      <td>Spain</td>\n",
       "    </tr>\n",
       "    <tr>\n",
       "      <th>6</th>\n",
       "      <td>Banan</td>\n",
       "      <td>D'Artagnan</td>\n",
       "      <td>Musketeer</td>\n",
       "      <td>hero</td>\n",
       "      <td>Morecastle</td>\n",
       "      <td>France</td>\n",
       "    </tr>\n",
       "  </tbody>\n",
       "</table>\n",
       "</div>"
      ],
      "text/plain": [
       "  first_name   last_name      alias    class        city country\n",
       "2       Luis      Gibert    Orceman     hero        Orce   Spain\n",
       "3     Walter       Bruce   Batswede     hero  Gothamburg  Sweden\n",
       "4        Jac       Skämt   Skojaren  villain  Gothamburg  Sweden\n",
       "5    Juanito      Naipes  El Bromas  villain     Grandía   Spain\n",
       "6      Banan  D'Artagnan  Musketeer     hero  Morecastle  France"
      ]
     },
     "execution_count": 67,
     "metadata": {},
     "output_type": "execute_result"
    }
   ],
   "source": [
    "my_df.tail()"
   ]
  },
  {
   "cell_type": "code",
   "execution_count": 68,
   "id": "2b34cc5b",
   "metadata": {},
   "outputs": [
    {
     "data": {
      "text/html": [
       "<div>\n",
       "<style scoped>\n",
       "    .dataframe tbody tr th:only-of-type {\n",
       "        vertical-align: middle;\n",
       "    }\n",
       "\n",
       "    .dataframe tbody tr th {\n",
       "        vertical-align: top;\n",
       "    }\n",
       "\n",
       "    .dataframe thead th {\n",
       "        text-align: right;\n",
       "    }\n",
       "</style>\n",
       "<table border=\"1\" class=\"dataframe\">\n",
       "  <thead>\n",
       "    <tr style=\"text-align: right;\">\n",
       "      <th></th>\n",
       "      <th>first_name</th>\n",
       "      <th>last_name</th>\n",
       "      <th>alias</th>\n",
       "      <th>class</th>\n",
       "      <th>city</th>\n",
       "      <th>country</th>\n",
       "    </tr>\n",
       "  </thead>\n",
       "  <tbody>\n",
       "    <tr>\n",
       "      <th>5</th>\n",
       "      <td>Juanito</td>\n",
       "      <td>Naipes</td>\n",
       "      <td>El Bromas</td>\n",
       "      <td>villain</td>\n",
       "      <td>Grandía</td>\n",
       "      <td>Spain</td>\n",
       "    </tr>\n",
       "    <tr>\n",
       "      <th>6</th>\n",
       "      <td>Banan</td>\n",
       "      <td>D'Artagnan</td>\n",
       "      <td>Musketeer</td>\n",
       "      <td>hero</td>\n",
       "      <td>Morecastle</td>\n",
       "      <td>France</td>\n",
       "    </tr>\n",
       "  </tbody>\n",
       "</table>\n",
       "</div>"
      ],
      "text/plain": [
       "  first_name   last_name      alias    class        city country\n",
       "5    Juanito      Naipes  El Bromas  villain     Grandía   Spain\n",
       "6      Banan  D'Artagnan  Musketeer     hero  Morecastle  France"
      ]
     },
     "execution_count": 68,
     "metadata": {},
     "output_type": "execute_result"
    }
   ],
   "source": [
    "my_df.tail(2)"
   ]
  },
  {
   "cell_type": "markdown",
   "id": "ea4f7a2a",
   "metadata": {},
   "source": [
    "#### Creating dataframes from scratch"
   ]
  },
  {
   "cell_type": "markdown",
   "id": "d41d21ce",
   "metadata": {},
   "source": [
    "We can also create dataframes from scratch by specifying the contents. For example, the code below creates a ``n``x``n`` dataframe, where ``n`` is any integer, where the rows (``index``) and the columns go from 0 to ``n``, and the values are random integers from 0 to ``2n``:"
   ]
  },
  {
   "cell_type": "code",
   "execution_count": 135,
   "id": "6033d6dc",
   "metadata": {},
   "outputs": [],
   "source": [
    "import numpy as np\n",
    "\n",
    "n = 7\n",
    "int_df = pd.DataFrame(np.random.randint(0, 2*n, (n, n)), index = range(0, n), columns = range(0, n))"
   ]
  },
  {
   "cell_type": "markdown",
   "id": "98c97f39",
   "metadata": {},
   "source": [
    "**OBS!** Here we are using **numpy**, another Python library, to generate random integers. We won't discuss this library in depth in the course, but you can also takes some notes on its possible uses."
   ]
  },
  {
   "cell_type": "code",
   "execution_count": 136,
   "id": "6ab95e98",
   "metadata": {},
   "outputs": [
    {
     "data": {
      "text/html": [
       "<div>\n",
       "<style scoped>\n",
       "    .dataframe tbody tr th:only-of-type {\n",
       "        vertical-align: middle;\n",
       "    }\n",
       "\n",
       "    .dataframe tbody tr th {\n",
       "        vertical-align: top;\n",
       "    }\n",
       "\n",
       "    .dataframe thead th {\n",
       "        text-align: right;\n",
       "    }\n",
       "</style>\n",
       "<table border=\"1\" class=\"dataframe\">\n",
       "  <thead>\n",
       "    <tr style=\"text-align: right;\">\n",
       "      <th></th>\n",
       "      <th>0</th>\n",
       "      <th>1</th>\n",
       "      <th>2</th>\n",
       "      <th>3</th>\n",
       "      <th>4</th>\n",
       "      <th>5</th>\n",
       "      <th>6</th>\n",
       "    </tr>\n",
       "  </thead>\n",
       "  <tbody>\n",
       "    <tr>\n",
       "      <th>0</th>\n",
       "      <td>0</td>\n",
       "      <td>0</td>\n",
       "      <td>8</td>\n",
       "      <td>4</td>\n",
       "      <td>9</td>\n",
       "      <td>7</td>\n",
       "      <td>2</td>\n",
       "    </tr>\n",
       "    <tr>\n",
       "      <th>1</th>\n",
       "      <td>2</td>\n",
       "      <td>1</td>\n",
       "      <td>10</td>\n",
       "      <td>6</td>\n",
       "      <td>1</td>\n",
       "      <td>7</td>\n",
       "      <td>4</td>\n",
       "    </tr>\n",
       "    <tr>\n",
       "      <th>2</th>\n",
       "      <td>4</td>\n",
       "      <td>6</td>\n",
       "      <td>12</td>\n",
       "      <td>2</td>\n",
       "      <td>7</td>\n",
       "      <td>10</td>\n",
       "      <td>6</td>\n",
       "    </tr>\n",
       "    <tr>\n",
       "      <th>3</th>\n",
       "      <td>9</td>\n",
       "      <td>11</td>\n",
       "      <td>7</td>\n",
       "      <td>11</td>\n",
       "      <td>6</td>\n",
       "      <td>12</td>\n",
       "      <td>6</td>\n",
       "    </tr>\n",
       "    <tr>\n",
       "      <th>4</th>\n",
       "      <td>3</td>\n",
       "      <td>0</td>\n",
       "      <td>7</td>\n",
       "      <td>12</td>\n",
       "      <td>4</td>\n",
       "      <td>8</td>\n",
       "      <td>7</td>\n",
       "    </tr>\n",
       "    <tr>\n",
       "      <th>5</th>\n",
       "      <td>13</td>\n",
       "      <td>13</td>\n",
       "      <td>0</td>\n",
       "      <td>4</td>\n",
       "      <td>5</td>\n",
       "      <td>3</td>\n",
       "      <td>6</td>\n",
       "    </tr>\n",
       "    <tr>\n",
       "      <th>6</th>\n",
       "      <td>4</td>\n",
       "      <td>12</td>\n",
       "      <td>1</td>\n",
       "      <td>9</td>\n",
       "      <td>4</td>\n",
       "      <td>5</td>\n",
       "      <td>6</td>\n",
       "    </tr>\n",
       "  </tbody>\n",
       "</table>\n",
       "</div>"
      ],
      "text/plain": [
       "    0   1   2   3  4   5  6\n",
       "0   0   0   8   4  9   7  2\n",
       "1   2   1  10   6  1   7  4\n",
       "2   4   6  12   2  7  10  6\n",
       "3   9  11   7  11  6  12  6\n",
       "4   3   0   7  12  4   8  7\n",
       "5  13  13   0   4  5   3  6\n",
       "6   4  12   1   9  4   5  6"
      ]
     },
     "metadata": {},
     "output_type": "display_data"
    }
   ],
   "source": [
    "display(int_df)"
   ]
  },
  {
   "cell_type": "markdown",
   "id": "6ab6e542",
   "metadata": {},
   "source": [
    "Now that we have a numeric dataframe, we can calculate the mean values across rows and columns using the ``mean()`` method:"
   ]
  },
  {
   "cell_type": "code",
   "execution_count": 159,
   "id": "61eeb4c8",
   "metadata": {},
   "outputs": [
    {
     "data": {
      "text/plain": [
       "0    5.000000\n",
       "1    6.142857\n",
       "2    6.428571\n",
       "3    6.857143\n",
       "4    5.142857\n",
       "5    7.428571\n",
       "6    5.285714\n",
       "dtype: float64"
      ]
     },
     "metadata": {},
     "output_type": "display_data"
    },
    {
     "data": {
      "text/plain": [
       "0    4.285714\n",
       "1    4.428571\n",
       "2    6.714286\n",
       "3    8.857143\n",
       "4    5.857143\n",
       "5    6.285714\n",
       "6    5.857143\n",
       "dtype: float64"
      ]
     },
     "metadata": {},
     "output_type": "display_data"
    }
   ],
   "source": [
    "display(int_df.mean()) # Column mean\n",
    "display(int_df.mean(1)) # Row mean"
   ]
  },
  {
   "cell_type": "markdown",
   "id": "d416c8ac",
   "metadata": {},
   "source": [
    "We can also check how many times a particular value is present:"
   ]
  },
  {
   "cell_type": "code",
   "execution_count": 174,
   "id": "cfcf10a3",
   "metadata": {},
   "outputs": [
    {
     "data": {
      "text/plain": [
       "4     2\n",
       "0     1\n",
       "2     1\n",
       "9     1\n",
       "3     1\n",
       "13    1\n",
       "Name: 0, dtype: int64"
      ]
     },
     "metadata": {},
     "output_type": "display_data"
    }
   ],
   "source": [
    "display(int_df[0].value_counts())"
   ]
  },
  {
   "cell_type": "markdown",
   "id": "e60489d4",
   "metadata": {},
   "source": [
    "Feel free to play around with this dataframe and modify its size, values and row or column names. Keep in mind that, like in lists, you can include **different data types**. For example, in this new dataframe, we have integer indexes and float values:"
   ]
  },
  {
   "cell_type": "code",
   "execution_count": 153,
   "id": "14f8c249",
   "metadata": {},
   "outputs": [],
   "source": [
    "n = 7\n",
    "df = pd.DataFrame(np.random.rand(n, n)*2*n, index = range(0, n), columns = range(0, n))"
   ]
  },
  {
   "cell_type": "code",
   "execution_count": 154,
   "id": "df26cbd1",
   "metadata": {},
   "outputs": [
    {
     "data": {
      "text/html": [
       "<div>\n",
       "<style scoped>\n",
       "    .dataframe tbody tr th:only-of-type {\n",
       "        vertical-align: middle;\n",
       "    }\n",
       "\n",
       "    .dataframe tbody tr th {\n",
       "        vertical-align: top;\n",
       "    }\n",
       "\n",
       "    .dataframe thead th {\n",
       "        text-align: right;\n",
       "    }\n",
       "</style>\n",
       "<table border=\"1\" class=\"dataframe\">\n",
       "  <thead>\n",
       "    <tr style=\"text-align: right;\">\n",
       "      <th></th>\n",
       "      <th>0</th>\n",
       "      <th>1</th>\n",
       "      <th>2</th>\n",
       "      <th>3</th>\n",
       "      <th>4</th>\n",
       "      <th>5</th>\n",
       "      <th>6</th>\n",
       "    </tr>\n",
       "  </thead>\n",
       "  <tbody>\n",
       "    <tr>\n",
       "      <th>0</th>\n",
       "      <td>2.023063</td>\n",
       "      <td>1.365997</td>\n",
       "      <td>13.143370</td>\n",
       "      <td>13.244441</td>\n",
       "      <td>0.132622</td>\n",
       "      <td>5.705956</td>\n",
       "      <td>6.844655</td>\n",
       "    </tr>\n",
       "    <tr>\n",
       "      <th>1</th>\n",
       "      <td>11.376349</td>\n",
       "      <td>13.803060</td>\n",
       "      <td>10.845299</td>\n",
       "      <td>13.303765</td>\n",
       "      <td>1.308713</td>\n",
       "      <td>12.980027</td>\n",
       "      <td>6.446806</td>\n",
       "    </tr>\n",
       "    <tr>\n",
       "      <th>2</th>\n",
       "      <td>1.780631</td>\n",
       "      <td>3.727359</td>\n",
       "      <td>6.537626</td>\n",
       "      <td>3.217363</td>\n",
       "      <td>6.336619</td>\n",
       "      <td>4.870261</td>\n",
       "      <td>9.160495</td>\n",
       "    </tr>\n",
       "    <tr>\n",
       "      <th>3</th>\n",
       "      <td>9.632777</td>\n",
       "      <td>1.142723</td>\n",
       "      <td>8.374347</td>\n",
       "      <td>10.281570</td>\n",
       "      <td>11.265754</td>\n",
       "      <td>12.310988</td>\n",
       "      <td>11.600424</td>\n",
       "    </tr>\n",
       "    <tr>\n",
       "      <th>4</th>\n",
       "      <td>1.800441</td>\n",
       "      <td>12.782365</td>\n",
       "      <td>10.806445</td>\n",
       "      <td>10.335307</td>\n",
       "      <td>0.615660</td>\n",
       "      <td>3.536047</td>\n",
       "      <td>9.383028</td>\n",
       "    </tr>\n",
       "    <tr>\n",
       "      <th>5</th>\n",
       "      <td>8.556277</td>\n",
       "      <td>5.210815</td>\n",
       "      <td>9.721565</td>\n",
       "      <td>12.836790</td>\n",
       "      <td>3.489331</td>\n",
       "      <td>11.882124</td>\n",
       "      <td>2.424095</td>\n",
       "    </tr>\n",
       "    <tr>\n",
       "      <th>6</th>\n",
       "      <td>3.135453</td>\n",
       "      <td>10.112988</td>\n",
       "      <td>6.168289</td>\n",
       "      <td>6.383324</td>\n",
       "      <td>3.626061</td>\n",
       "      <td>7.835864</td>\n",
       "      <td>13.654926</td>\n",
       "    </tr>\n",
       "  </tbody>\n",
       "</table>\n",
       "</div>"
      ],
      "text/plain": [
       "           0          1          2          3          4          5          6\n",
       "0   2.023063   1.365997  13.143370  13.244441   0.132622   5.705956   6.844655\n",
       "1  11.376349  13.803060  10.845299  13.303765   1.308713  12.980027   6.446806\n",
       "2   1.780631   3.727359   6.537626   3.217363   6.336619   4.870261   9.160495\n",
       "3   9.632777   1.142723   8.374347  10.281570  11.265754  12.310988  11.600424\n",
       "4   1.800441  12.782365  10.806445  10.335307   0.615660   3.536047   9.383028\n",
       "5   8.556277   5.210815   9.721565  12.836790   3.489331  11.882124   2.424095\n",
       "6   3.135453  10.112988   6.168289   6.383324   3.626061   7.835864  13.654926"
      ]
     },
     "metadata": {},
     "output_type": "display_data"
    }
   ],
   "source": [
    "display(df)"
   ]
  },
  {
   "cell_type": "markdown",
   "id": "f883378e",
   "metadata": {},
   "source": [
    "Now, we can replace the first value of column 1 with a ``NaN`` value, and in column 2 with a string:"
   ]
  },
  {
   "cell_type": "code",
   "execution_count": 155,
   "id": "4f2a25ca",
   "metadata": {},
   "outputs": [],
   "source": [
    "df[1][0] = np.nan\n",
    "df[2][0] = \"hi\""
   ]
  },
  {
   "cell_type": "code",
   "execution_count": 156,
   "id": "0f150a1b",
   "metadata": {},
   "outputs": [
    {
     "data": {
      "text/html": [
       "<div>\n",
       "<style scoped>\n",
       "    .dataframe tbody tr th:only-of-type {\n",
       "        vertical-align: middle;\n",
       "    }\n",
       "\n",
       "    .dataframe tbody tr th {\n",
       "        vertical-align: top;\n",
       "    }\n",
       "\n",
       "    .dataframe thead th {\n",
       "        text-align: right;\n",
       "    }\n",
       "</style>\n",
       "<table border=\"1\" class=\"dataframe\">\n",
       "  <thead>\n",
       "    <tr style=\"text-align: right;\">\n",
       "      <th></th>\n",
       "      <th>0</th>\n",
       "      <th>1</th>\n",
       "      <th>2</th>\n",
       "      <th>3</th>\n",
       "      <th>4</th>\n",
       "      <th>5</th>\n",
       "      <th>6</th>\n",
       "    </tr>\n",
       "  </thead>\n",
       "  <tbody>\n",
       "    <tr>\n",
       "      <th>0</th>\n",
       "      <td>2.023063</td>\n",
       "      <td>NaN</td>\n",
       "      <td>hi</td>\n",
       "      <td>13.244441</td>\n",
       "      <td>0.132622</td>\n",
       "      <td>5.705956</td>\n",
       "      <td>6.844655</td>\n",
       "    </tr>\n",
       "    <tr>\n",
       "      <th>1</th>\n",
       "      <td>11.376349</td>\n",
       "      <td>13.803060</td>\n",
       "      <td>10.845299</td>\n",
       "      <td>13.303765</td>\n",
       "      <td>1.308713</td>\n",
       "      <td>12.980027</td>\n",
       "      <td>6.446806</td>\n",
       "    </tr>\n",
       "    <tr>\n",
       "      <th>2</th>\n",
       "      <td>1.780631</td>\n",
       "      <td>3.727359</td>\n",
       "      <td>6.537626</td>\n",
       "      <td>3.217363</td>\n",
       "      <td>6.336619</td>\n",
       "      <td>4.870261</td>\n",
       "      <td>9.160495</td>\n",
       "    </tr>\n",
       "    <tr>\n",
       "      <th>3</th>\n",
       "      <td>9.632777</td>\n",
       "      <td>1.142723</td>\n",
       "      <td>8.374347</td>\n",
       "      <td>10.281570</td>\n",
       "      <td>11.265754</td>\n",
       "      <td>12.310988</td>\n",
       "      <td>11.600424</td>\n",
       "    </tr>\n",
       "    <tr>\n",
       "      <th>4</th>\n",
       "      <td>1.800441</td>\n",
       "      <td>12.782365</td>\n",
       "      <td>10.806445</td>\n",
       "      <td>10.335307</td>\n",
       "      <td>0.615660</td>\n",
       "      <td>3.536047</td>\n",
       "      <td>9.383028</td>\n",
       "    </tr>\n",
       "    <tr>\n",
       "      <th>5</th>\n",
       "      <td>8.556277</td>\n",
       "      <td>5.210815</td>\n",
       "      <td>9.721565</td>\n",
       "      <td>12.836790</td>\n",
       "      <td>3.489331</td>\n",
       "      <td>11.882124</td>\n",
       "      <td>2.424095</td>\n",
       "    </tr>\n",
       "    <tr>\n",
       "      <th>6</th>\n",
       "      <td>3.135453</td>\n",
       "      <td>10.112988</td>\n",
       "      <td>6.168289</td>\n",
       "      <td>6.383324</td>\n",
       "      <td>3.626061</td>\n",
       "      <td>7.835864</td>\n",
       "      <td>13.654926</td>\n",
       "    </tr>\n",
       "  </tbody>\n",
       "</table>\n",
       "</div>"
      ],
      "text/plain": [
       "           0          1          2          3          4          5          6\n",
       "0   2.023063        NaN         hi  13.244441   0.132622   5.705956   6.844655\n",
       "1  11.376349  13.803060  10.845299  13.303765   1.308713  12.980027   6.446806\n",
       "2   1.780631   3.727359   6.537626   3.217363   6.336619   4.870261   9.160495\n",
       "3   9.632777   1.142723   8.374347  10.281570  11.265754  12.310988  11.600424\n",
       "4   1.800441  12.782365  10.806445  10.335307   0.615660   3.536047   9.383028\n",
       "5   8.556277   5.210815   9.721565  12.836790   3.489331  11.882124   2.424095\n",
       "6   3.135453  10.112988   6.168289   6.383324   3.626061   7.835864  13.654926"
      ]
     },
     "metadata": {},
     "output_type": "display_data"
    }
   ],
   "source": [
    "display(df)"
   ]
  },
  {
   "cell_type": "markdown",
   "id": "dcf25786",
   "metadata": {},
   "source": [
    "Let's check the data types of the columns in the dataframe:"
   ]
  },
  {
   "cell_type": "code",
   "execution_count": 157,
   "id": "ae508156",
   "metadata": {},
   "outputs": [
    {
     "data": {
      "text/plain": [
       "0    float64\n",
       "1    float64\n",
       "2     object\n",
       "3    float64\n",
       "4    float64\n",
       "5    float64\n",
       "6    float64\n",
       "dtype: object"
      ]
     },
     "execution_count": 157,
     "metadata": {},
     "output_type": "execute_result"
    }
   ],
   "source": [
    "df.dtypes"
   ]
  },
  {
   "cell_type": "markdown",
   "id": "7c8e4263",
   "metadata": {},
   "source": [
    "As you can see, most columns only include floats, but for column 1, that includes different types of objects, the data type is referred to as ``object``, meaning that it can include objects of any class. Note that this is the result of including a string: ``NaNs`` are also considered floats, with the particularity that we can remove the rows with ``NaNs`` by using the ``dropna`` function:"
   ]
  },
  {
   "cell_type": "code",
   "execution_count": 158,
   "id": "e1f31cf9",
   "metadata": {},
   "outputs": [
    {
     "data": {
      "text/html": [
       "<div>\n",
       "<style scoped>\n",
       "    .dataframe tbody tr th:only-of-type {\n",
       "        vertical-align: middle;\n",
       "    }\n",
       "\n",
       "    .dataframe tbody tr th {\n",
       "        vertical-align: top;\n",
       "    }\n",
       "\n",
       "    .dataframe thead th {\n",
       "        text-align: right;\n",
       "    }\n",
       "</style>\n",
       "<table border=\"1\" class=\"dataframe\">\n",
       "  <thead>\n",
       "    <tr style=\"text-align: right;\">\n",
       "      <th></th>\n",
       "      <th>0</th>\n",
       "      <th>1</th>\n",
       "      <th>2</th>\n",
       "      <th>3</th>\n",
       "      <th>4</th>\n",
       "      <th>5</th>\n",
       "      <th>6</th>\n",
       "    </tr>\n",
       "  </thead>\n",
       "  <tbody>\n",
       "    <tr>\n",
       "      <th>1</th>\n",
       "      <td>11.376349</td>\n",
       "      <td>13.803060</td>\n",
       "      <td>10.845299</td>\n",
       "      <td>13.303765</td>\n",
       "      <td>1.308713</td>\n",
       "      <td>12.980027</td>\n",
       "      <td>6.446806</td>\n",
       "    </tr>\n",
       "    <tr>\n",
       "      <th>2</th>\n",
       "      <td>1.780631</td>\n",
       "      <td>3.727359</td>\n",
       "      <td>6.537626</td>\n",
       "      <td>3.217363</td>\n",
       "      <td>6.336619</td>\n",
       "      <td>4.870261</td>\n",
       "      <td>9.160495</td>\n",
       "    </tr>\n",
       "    <tr>\n",
       "      <th>3</th>\n",
       "      <td>9.632777</td>\n",
       "      <td>1.142723</td>\n",
       "      <td>8.374347</td>\n",
       "      <td>10.281570</td>\n",
       "      <td>11.265754</td>\n",
       "      <td>12.310988</td>\n",
       "      <td>11.600424</td>\n",
       "    </tr>\n",
       "    <tr>\n",
       "      <th>4</th>\n",
       "      <td>1.800441</td>\n",
       "      <td>12.782365</td>\n",
       "      <td>10.806445</td>\n",
       "      <td>10.335307</td>\n",
       "      <td>0.615660</td>\n",
       "      <td>3.536047</td>\n",
       "      <td>9.383028</td>\n",
       "    </tr>\n",
       "    <tr>\n",
       "      <th>5</th>\n",
       "      <td>8.556277</td>\n",
       "      <td>5.210815</td>\n",
       "      <td>9.721565</td>\n",
       "      <td>12.836790</td>\n",
       "      <td>3.489331</td>\n",
       "      <td>11.882124</td>\n",
       "      <td>2.424095</td>\n",
       "    </tr>\n",
       "    <tr>\n",
       "      <th>6</th>\n",
       "      <td>3.135453</td>\n",
       "      <td>10.112988</td>\n",
       "      <td>6.168289</td>\n",
       "      <td>6.383324</td>\n",
       "      <td>3.626061</td>\n",
       "      <td>7.835864</td>\n",
       "      <td>13.654926</td>\n",
       "    </tr>\n",
       "  </tbody>\n",
       "</table>\n",
       "</div>"
      ],
      "text/plain": [
       "           0          1          2          3          4          5          6\n",
       "1  11.376349  13.803060  10.845299  13.303765   1.308713  12.980027   6.446806\n",
       "2   1.780631   3.727359   6.537626   3.217363   6.336619   4.870261   9.160495\n",
       "3   9.632777   1.142723   8.374347  10.281570  11.265754  12.310988  11.600424\n",
       "4   1.800441  12.782365  10.806445  10.335307   0.615660   3.536047   9.383028\n",
       "5   8.556277   5.210815   9.721565  12.836790   3.489331  11.882124   2.424095\n",
       "6   3.135453  10.112988   6.168289   6.383324   3.626061   7.835864  13.654926"
      ]
     },
     "metadata": {},
     "output_type": "display_data"
    }
   ],
   "source": [
    "display(df.dropna())"
   ]
  },
  {
   "cell_type": "markdown",
   "id": "9cf042e7",
   "metadata": {},
   "source": [
    "There is a counterpart of this function, ``fillna``, that can be used to fill missing values with ``NaNs``."
   ]
  },
  {
   "cell_type": "markdown",
   "id": "67fe2099",
   "metadata": {},
   "source": [
    "## What should I do now?\n",
    "Try to **create your own dataframe** from a ``csv`` file. Play around with the different methods: transpose the dataframe, select data, etc. You can also try options that were not introduced in this notebook, for example, try **adding new columns to the dataframe**, or test the ``fillna`` function! When you feel confident enough, you can try to **replicate** all the changes that you made to the dataframe by looping directly through the file.\n",
    "\n",
    "**OBS!** Don't forget to write the final result of your parsing to a file."
   ]
  },
  {
   "cell_type": "code",
   "execution_count": null,
   "id": "0bc3b021",
   "metadata": {},
   "outputs": [],
   "source": [
    "# Write your code here"
   ]
  },
  {
   "cell_type": "markdown",
   "id": "4f40cf1c",
   "metadata": {},
   "source": [
    "## Re\n",
    "So far, we learned how to process ``csv`` files, but you might need to deal with many different file formats. For some standardized formats that you might encounter, such as ``fasta`` files or ``GenBank`` files, there are functions in Biopython that can read the files for you. However, this will not always be the case. Knowing how to process texts, and being able to write a script to parse a file from scratch, might come in handy. The re module, which is a default module in Python, can be useful in these contexts. The name **re** stands for **r**egular **e**xpressions. **Regular expressions** let us define which sub-strings we want to extract from another string or text.\n",
    "\n",
    "The best way to illustrate this is with an example. To test this library, I created a new file, ``metaphors.txt``. We will read the file and try to count the number of words:"
   ]
  },
  {
   "cell_type": "code",
   "execution_count": 325,
   "id": "80847033",
   "metadata": {},
   "outputs": [
    {
     "name": "stdout",
     "output_type": "stream",
     "text": [
      "It was the last day of June. We were only one week past the longest day of the year. I could hear the cicadas sing, their crackling loud as fire wood burning to ashes. I was starting to regret that trip. One of my cousins had invited me to her summer house, located in the village where our mothers were born. When I received her invitation, my first instinct was to turn it down: The village was as welcoming as an active volcano in the summer. But my cousin insisted that I hadn't seen my family for too long, nurtured my homesickness with a collection of happy memories. In the end, I swear, I was looking forward to the damn trip. That changed as soon as I arrived to the summer house and felt the warmth of the sun on my scalp, patting my head and piercing my eyes with its claws. Let me tell you: light is sharper than steel. The breeze was dry and carried dust as if it was blowing from the desert. Plants around me were golden and dead like the statue of an old hero. The nearest body of water was a lagoon on the mountainside that glimmered like silver from the summer house.\n"
     ]
    }
   ],
   "source": [
    "lines = \"\"\n",
    "with open(\"metaphors.txt\") as meta:\n",
    "    for line in meta:\n",
    "        lines += line.replace(\"\\n\", \"\")\n",
    "print(lines)"
   ]
  },
  {
   "cell_type": "markdown",
   "id": "f37e6d12",
   "metadata": {},
   "source": [
    "We can easily count the number of words in the string ``lines`` with ``re``:"
   ]
  },
  {
   "cell_type": "code",
   "execution_count": 326,
   "id": "d4ba708e",
   "metadata": {},
   "outputs": [
    {
     "name": "stdout",
     "output_type": "stream",
     "text": [
      "210\n"
     ]
    }
   ],
   "source": [
    "import re\n",
    "words = re.findall(\"\\w+\", lines)\n",
    "print(len(words))"
   ]
  },
  {
   "cell_type": "markdown",
   "id": "399e6b05",
   "metadata": {},
   "source": [
    "The ``\\w`` flag tells the computer to match alphanumeric characters. The ``+`` flag tells it to merge characters into words. Therefore, this should work (at least in theory). To check if it is correct, we can also count the words in the file using the command line. The function ``system()`` in the ``os`` module allows to run strings as shell commands. The ``wc -w`` command counts the number of words in a file."
   ]
  },
  {
   "cell_type": "code",
   "execution_count": 327,
   "id": "f15aebb2",
   "metadata": {},
   "outputs": [
    {
     "name": "stdout",
     "output_type": "stream",
     "text": [
      "     209 metaphors.txt\n"
     ]
    }
   ],
   "source": [
    "import os\n",
    "os.system(\"wc -w metaphors.txt\");"
   ]
  },
  {
   "cell_type": "markdown",
   "id": "89a3f30b",
   "metadata": {},
   "source": [
    "One word less! Why might it be? Does ``re``, perhaps, count words with apostrophes like ``hadn't`` as two words?"
   ]
  },
  {
   "cell_type": "code",
   "execution_count": 328,
   "id": "00328c4c",
   "metadata": {},
   "outputs": [
    {
     "name": "stdout",
     "output_type": "stream",
     "text": [
      "['It', 'was', 'the', 'last', 'day', 'of', 'June', 'We', 'were', 'only', 'one', 'week', 'past', 'the', 'longest', 'day', 'of', 'the', 'year', 'I', 'could', 'hear', 'the', 'cicadas', 'sing', 'their', 'crackling', 'loud', 'as', 'fire', 'wood', 'burning', 'to', 'ashes', 'I', 'was', 'starting', 'to', 'regret', 'that', 'trip', 'One', 'of', 'my', 'cousins', 'had', 'invited', 'me', 'to', 'her', 'summer', 'house', 'located', 'in', 'the', 'village', 'where', 'our', 'mothers', 'were', 'born', 'When', 'I', 'received', 'her', 'invitation', 'my', 'first', 'instinct', 'was', 'to', 'turn', 'it', 'down', 'The', 'village', 'was', 'as', 'welcoming', 'as', 'an', 'active', 'volcano', 'in', 'the', 'summer', 'But', 'my', 'cousin', 'insisted', 'that', 'I', 'hadn', 't', 'seen', 'my', 'family', 'for', 'too', 'long', 'nurtured', 'my', 'homesickness', 'with', 'a', 'collection', 'of', 'happy', 'memories', 'In', 'the', 'end', 'I', 'swear', 'I', 'was', 'looking', 'forward', 'to', 'the', 'damn', 'trip', 'That', 'changed', 'as', 'soon', 'as', 'I', 'arrived', 'to', 'the', 'summer', 'house', 'and', 'felt', 'the', 'warmth', 'of', 'the', 'sun', 'on', 'my', 'scalp', 'patting', 'my', 'head', 'and', 'piercing', 'my', 'eyes', 'with', 'its', 'claws', 'Let', 'me', 'tell', 'you', 'light', 'is', 'sharper', 'than', 'steel', 'The', 'breeze', 'was', 'dry', 'and', 'carried', 'dust', 'as', 'if', 'it', 'was', 'blowing', 'from', 'the', 'desert', 'Plants', 'around', 'me', 'were', 'golden', 'and', 'dead', 'like', 'the', 'statue', 'of', 'an', 'old', 'hero', 'The', 'nearest', 'body', 'of', 'water', 'was', 'a', 'lagoon', 'on', 'the', 'mountainside', 'that', 'glimmered', 'like', 'silver', 'from', 'the', 'summer', 'house']\n"
     ]
    }
   ],
   "source": [
    "print(words)"
   ]
  },
  {
   "cell_type": "markdown",
   "id": "2fb38e16",
   "metadata": {},
   "source": [
    "Let's replace ``hadn't`` with ``hadnot`` in the text and repeat the experiment. We could use the ``replace()`` method for strings, but we will use the ``re.sub()`` function instead to test this module:"
   ]
  },
  {
   "cell_type": "code",
   "execution_count": 329,
   "id": "0c6cf02d",
   "metadata": {},
   "outputs": [
    {
     "name": "stdout",
     "output_type": "stream",
     "text": [
      "It was the last day of June. We were only one week past the longest day of the year. I could hear the cicadas sing, their crackling loud as fire wood burning to ashes. I was starting to regret that trip. One of my cousins had invited me to her summer house, located in the village where our mothers were born. When I received her invitation, my first instinct was to turn it down: The village was as welcoming as an active volcano in the summer. But my cousin insisted that I hadnot seen my family for too long, nurtured my homesickness with a collection of happy memories. In the end, I swear, I was looking forward to the damn trip. That changed as soon as I arrived to the summer house and felt the warmth of the sun on my scalp, patting my head and piercing my eyes with its claws. Let me tell you: light is sharper than steel. The breeze was dry and carried dust as if it was blowing from the desert. Plants around me were golden and dead like the statue of an old hero. The nearest body of water was a lagoon on the mountainside that glimmered like silver from the summer house.\n"
     ]
    }
   ],
   "source": [
    "#lines = lines.replace(\"hadn't\", \"had not\")\n",
    "new_lines = re.sub(\"hadn't\", \"hadnot\", lines, 1)\n",
    "print(new_lines)"
   ]
  },
  {
   "cell_type": "code",
   "execution_count": 330,
   "id": "5cc878d3",
   "metadata": {},
   "outputs": [
    {
     "data": {
      "text/plain": [
       "209"
      ]
     },
     "execution_count": 330,
     "metadata": {},
     "output_type": "execute_result"
    }
   ],
   "source": [
    "words = re.findall(\"\\w+\", new_lines)\n",
    "len(words)"
   ]
  },
  {
   "cell_type": "markdown",
   "id": "dce0dc32",
   "metadata": {},
   "source": [
    "Now we got the correct number! So that was the problem... is there any way to circumvent it? Yes, there is! But we can't use the default ``\\w+`` definition of words, we need to provide our own definition."
   ]
  },
  {
   "cell_type": "code",
   "execution_count": 331,
   "id": "e58ff7fa",
   "metadata": {},
   "outputs": [
    {
     "name": "stdout",
     "output_type": "stream",
     "text": [
      "209\n"
     ]
    }
   ],
   "source": [
    "words = re.findall(r\"[A-z']+\", lines)\n",
    "print(len(words))"
   ]
  },
  {
   "cell_type": "markdown",
   "id": "43256947",
   "metadata": {},
   "source": [
    "We did it! But at what cost? Perhaps you are lost now. What does ``r\"[A-z']+\"`` mean?, you might be asking. Let's look into it:\n",
    "\n",
    "1. ``[A-z']``: The regular expression. Any uppercase or lowercase letter from A to Z (English alphabet) or an apostrophe.\n",
    "\n",
    "3. **``+``**: Match the preceeding regular expression **one or more times**. Without this, it would count characters instead of words (it would match the expression for each character)."
   ]
  },
  {
   "cell_type": "markdown",
   "id": "4194d94d",
   "metadata": {},
   "source": [
    "Now perhaps we want to count how many words including an ``a`` we have in the text. With this purpose, we can use the operator **``*``**, that takes **zero or more matches**."
   ]
  },
  {
   "cell_type": "code",
   "execution_count": 332,
   "id": "c441a557",
   "metadata": {},
   "outputs": [
    {
     "name": "stdout",
     "output_type": "stream",
     "text": [
      "['was', 'last', 'day', 'past', 'day', 'year', 'hear', 'cicadas', 'crackling', 'as', 'ashes', 'was', 'starting', 'that', 'had', 'located', 'village', 'invitation', 'was', 'village', 'was', 'as', 'as', 'an', 'active', 'volcano', 'that', 'hadn', 'family', 'a', 'happy', 'swear', 'was', 'forward', 'damn', 'That', 'changed', 'as', 'as', 'arrived', 'and', 'warmth', 'scalp', 'patting', 'head', 'and', 'claws', 'sharper', 'than', 'was', 'and', 'carried', 'as', 'was', 'Plants', 'around', 'and', 'dead', 'statue', 'an', 'nearest', 'water', 'was', 'a', 'lagoon', 'mountainside', 'that']\n"
     ]
    }
   ],
   "source": [
    "a_words = re.findall(r\"([A-z]*a[A-z]*)+\", lines)\n",
    "print(a_words)"
   ]
  },
  {
   "cell_type": "markdown",
   "id": "209868f5",
   "metadata": {},
   "source": [
    " The difference with the **``+``** operator is that it doesn't have to find at least one match. Here, if we were to replace the ``*`` with ``+``, we would lose those words that don't have any other character before or after a, such as ``and``, ``as`` or ``a``:"
   ]
  },
  {
   "cell_type": "code",
   "execution_count": 333,
   "id": "80ee483d",
   "metadata": {},
   "outputs": [
    {
     "name": "stdout",
     "output_type": "stream",
     "text": [
      "['was', 'last', 'day', 'past', 'day', 'year', 'hear', 'cicadas', 'crackling', 'was', 'starting', 'that', 'had', 'located', 'village', 'invitation', 'was', 'village', 'was', 'volcano', 'that', 'hadn', 'family', 'happy', 'swear', 'was', 'forward', 'damn', 'That', 'changed', 'warmth', 'scalp', 'patting', 'head', 'claws', 'sharper', 'than', 'was', 'carried', 'was', 'Plants', 'dead', 'statue', 'nearest', 'water', 'was', 'lagoon', 'mountainside', 'that']\n"
     ]
    }
   ],
   "source": [
    "a_words = re.findall(r\"([A-z]+a[A-z]+)+\", lines)\n",
    "print(a_words)"
   ]
  },
  {
   "cell_type": "markdown",
   "id": "c0a5764b",
   "metadata": {},
   "source": [
    "Now, perhaps we want to get some statistics out of our file. It would be nice to count, for example, the number of times that each word appears, regardless of if it is lowercase or uppercase."
   ]
  },
  {
   "cell_type": "code",
   "execution_count": 334,
   "id": "5999d63d",
   "metadata": {},
   "outputs": [
    {
     "name": "stdout",
     "output_type": "stream",
     "text": [
      "{'the': 18, 'was': 8, 'my': 8, 'of': 7, 'i': 7, 'as': 6, 'to': 6, 'that': 4, 'summer': 4, 'and': 4, 'it': 3, 'were': 3, 'me': 3, 'house': 3, 'in': 3, 'day': 2, 'one': 2, 'trip': 2, 'her': 2, 'village': 2, 'an': 2, 'with': 2, 'a': 2, 'on': 2, 'from': 2, 'like': 2, 'last': 1, 'june': 1, 'we': 1, 'only': 1, 'week': 1, 'past': 1, 'longest': 1, 'year': 1, 'could': 1, 'hear': 1, 'cicadas': 1, 'sing': 1, 'their': 1, 'crackling': 1, 'loud': 1, 'fire': 1, 'wood': 1, 'burning': 1, 'ashes': 1, 'starting': 1, 'regret': 1, 'cousins': 1, 'had': 1, 'invited': 1, 'located': 1, 'where': 1, 'our': 1, 'mothers': 1, 'born': 1, 'when': 1, 'received': 1, 'invitation': 1, 'first': 1, 'instinct': 1, 'turn': 1, 'down': 1, 'welcoming': 1, 'active': 1, 'volcano': 1, 'but': 1, 'cousin': 1, 'insisted': 1, \"hadn't\": 1, 'seen': 1, 'family': 1, 'for': 1, 'too': 1, 'long': 1, 'nurtured': 1, 'homesickness': 1, 'collection': 1, 'happy': 1, 'memories': 1, 'end': 1, 'swear': 1, 'looking': 1, 'forward': 1, 'damn': 1, 'changed': 1, 'soon': 1, 'arrived': 1, 'felt': 1, 'warmth': 1, 'sun': 1, 'scalp': 1, 'patting': 1, 'head': 1, 'piercing': 1, 'eyes': 1, 'its': 1, 'claws': 1, 'let': 1, 'tell': 1, 'you': 1, 'light': 1, 'is': 1, 'sharper': 1, 'than': 1, 'steel': 1, 'breeze': 1, 'dry': 1, 'carried': 1, 'dust': 1, 'if': 1, 'blowing': 1, 'desert': 1, 'plants': 1, 'around': 1, 'golden': 1, 'dead': 1, 'statue': 1, 'old': 1, 'hero': 1, 'nearest': 1, 'body': 1, 'water': 1, 'lagoon': 1, 'mountainside': 1, 'glimmered': 1, 'silver': 1}\n"
     ]
    }
   ],
   "source": [
    "words = re.findall(r\"[A-z']+\", lines.lower()) # Get words\n",
    "word_count = {} # Create empty dictionary\n",
    "for word in words: # Loop through words\n",
    "    if word not in word_count.keys(): # If the word is not in the dictionary\n",
    "        word_count[word] = 1 # Initialize the count with one\n",
    "    else: word_count[word] += 1 # Otherwise add 1 to the count\n",
    "        \n",
    "word_count = dict(sorted(word_count.items(), key = lambda wc: wc[1], reverse = True)) # Sort by highest counts\n",
    "print(word_count)"
   ]
  },
  {
   "cell_type": "markdown",
   "id": "cee05618",
   "metadata": {},
   "source": [
    "We have some statistics, but this is not the nicest way to look at them. Perhaps it would be best to **plot** this information. Which brings us to..."
   ]
  },
  {
   "cell_type": "markdown",
   "id": "3c306336",
   "metadata": {},
   "source": [
    "## Plotting in Python\n",
    "...is very painful. Seriously, if there is a Python hell you will probably have to try to make a very specific plot using **matplotlib** with no guidelines or instructions. You need to write ridiculously long scripts to make very simple plots. If this doesn't convince you to use matplotlib, what will? So, because this is a basic course, we will go through a basic example in matplotlib, a bar plot of our word counts, and compare it to a basic example with the more beginner-friendly library **seaborn**."
   ]
  },
  {
   "cell_type": "code",
   "execution_count": 362,
   "id": "f4c24cc6",
   "metadata": {},
   "outputs": [
    {
     "data": {
      "image/png": "[encoded data removed]",
      "text/plain": [
       "<Figure size 1000x300 with 1 Axes>"
      ]
     },
     "metadata": {},
     "output_type": "display_data"
    }
   ],
   "source": [
    "from matplotlib import pyplot as plt # Import module\n",
    "x = list(word_count.keys())[:16] # Define our x (16 first values)\n",
    "y = list(word_count.values())[:16]\n",
    "plt.figure(figsize = (10, 3)) # Create figure of size (10, 3)\n",
    "plt.bar(x, y); # Plot keys in x axis and values in y"
   ]
  },
  {
   "cell_type": "markdown",
   "id": "62a1018e",
   "metadata": {},
   "source": [
    "This was simple, I'll give you that. But we definitely want to change some defaults, such as the ticks of the y axis or the spaces between the plot frame and the first and last bars. Let's try to do that..."
   ]
  },
  {
   "cell_type": "code",
   "execution_count": 363,
   "id": "ae416f35",
   "metadata": {},
   "outputs": [
    {
     "data": {
      "image/png": "[encoded data removed]",
      "text/plain": [
       "<Figure size 1000x300 with 1 Axes>"
      ]
     },
     "metadata": {},
     "output_type": "display_data"
    }
   ],
   "source": [
    "x = list(word_count.keys())[:16]\n",
    "y = list(word_count.values())[:16]\n",
    "plt.figure(figsize = (10, 3))\n",
    "plt.bar(x, y);\n",
    "plt.yticks(range(1, max(y)+1, 2)); # New line (change ticks of y axis)\n",
    "plt.margins(x = 0.01, tight = True) # New line (change margins)"
   ]
  },
  {
   "cell_type": "markdown",
   "id": "e6965eac",
   "metadata": {},
   "source": [
    "Much nicer! Even though the plot doesn't look so nice yet. A common (and fair) criticism of matplotlib is that it has **poor defaults**, and I think this plot illustrates that. But not all is negative: despite its flaws, matplotlib is also **quite flexible**. Let's try a new style for our plot:"
   ]
  },
  {
   "cell_type": "code",
   "execution_count": 369,
   "id": "24802508",
   "metadata": {},
   "outputs": [
    {
     "data": {
      "image/png": "[encoded data removed]",
      "text/plain": [
       "<Figure size 1000x300 with 1 Axes>"
      ]
     },
     "metadata": {},
     "output_type": "display_data"
    }
   ],
   "source": [
    "x = list(word_count.keys())[:16]\n",
    "y = list(word_count.values())[:16]\n",
    "with plt.style.context(\"seaborn\"): # New line (eeeh... isn't this... you know... the name of the other package?)\n",
    "    plt.figure(figsize = (10, 3))\n",
    "    plt.bar(x, y);\n",
    "    plt.yticks(range(1, max(y)+1, 2));\n",
    "    plt.margins(x = 0.01, tight = True)"
   ]
  },
  {
   "cell_type": "code",
   "execution_count": 370,
   "id": "11904a9f",
   "metadata": {},
   "outputs": [],
   "source": [
    "import seaborn"
   ]
  },
  {
   "cell_type": "code",
   "execution_count": null,
   "id": "75fc406c",
   "metadata": {},
   "outputs": [],
   "source": []
  }
 ],
 "metadata": {
  "kernelspec": {
   "display_name": "Python 3 (ipykernel)",
   "language": "python",
   "name": "python3"
  },
  "language_info": {
   "codemirror_mode": {
    "name": "ipython",
    "version": 3
   },
   "file_extension": ".py",
   "mimetype": "text/x-python",
   "name": "python",
   "nbconvert_exporter": "python",
   "pygments_lexer": "ipython3",
   "version": "3.11.0"
  }
 },
 "nbformat": 4,
 "nbformat_minor": 5
}
