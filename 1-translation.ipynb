{
 "cells": [
  {
   "cell_type": "markdown",
   "id": "16a30f0c",
   "metadata": {},
   "source": [
    "# How to transcribe and translate a DNA sequence"
   ]
  },
  {
   "cell_type": "markdown",
   "id": "f75349f1",
   "metadata": {},
   "source": [
    "## First we need to import the required modules:"
   ]
  },
  {
   "cell_type": "code",
   "execution_count": 1,
   "id": "fa1cf615",
   "metadata": {},
   "outputs": [],
   "source": [
    "from Bio import SeqIO\n",
    "from Bio.SeqIO.FastaIO import as_fasta"
   ]
  },
  {
   "cell_type": "markdown",
   "id": "102e56cd",
   "metadata": {},
   "source": [
    "## Then, we can open the file using \"with open(filename)\":"
   ]
  },
  {
   "cell_type": "code",
   "execution_count": 2,
   "id": "1200b90d",
   "metadata": {},
   "outputs": [
    {
     "name": "stdout",
     "output_type": "stream",
     "text": [
      "ATGTTTGAACCAATGGAACTTACCAATGACGCGGTGATTAAAGTCATCGGCGTCGGCGGCGGCGGCGGTAATGCTGTTGAACACATGGTGCGCGAGCGCATTGAAGGTGTTGAATTCTTCGCGGTAAATACCGATGCACAAGCGCTGCGTAAAACAGCGGTTGGACAGACGATTCAAATCGGTAGCGGTATCACCAAAGGACTGGGCGCTGGCGCTAATCCAGAAGTTGGCCGCAATGCGGCTGATGAGGATCGCGATGCATTGCGTGCGGCGCTGGAAGGTGCAGACATGGTCTTTATTGCTGCGGGTATGGGTGGTGGTACCGGTACAGGTGCAGCACCAGTCGTCGCTGAAGTGGCAAAAGATTTGGGTATCCTGACCGTTGCTGTCGTCACTAAGCCTTTCAACTTTGAAGGCAAGAAGCGTATGGCATTCGCGGAGCAGGGGATCACTGAACTGTCCAAGCATGTGGACTCTCTGATCACTATCCCGAACGACAAACTGCTGAAAGTTCTGGGCCGCGGTATCTCCCTGCTGGATGCGTTTGGCGCAGCGAACGATGTACTGAAAGGCGCTGTGCAAGGTATCGCTGAACTGATTACTCGTCCGGGTTTGATGAACGTGGACTTTGCAGACGTACGCACCGTAATGTCTGAGATGGGCTACGCAATGATGGGTTCTGGCGTGGCGAGCGGTGAAGACCGTGCGGAAGAAGCTGCTGAAATGGCTATCTCTTCTCCGCTGCTGGAAGATATCGACCTGTCTGGCGCGCGCGGCGTGCTGGTTAACATCACGGCGGGCTTCGACCTGCGTCTGGATGAGTTCGAAACGGTAGGTAACACCATCCGTGCATTTGCTTCCGACAACGCGACTGTGGTTATCGGTACTTCTCTTGACCCGGATATGAATGACGAGCTGCGCGTAACCGTTGTTGCGACAGGTATCGGCATGGACAAACGTCCTGAAATCACTCTGGTGACCAATAAGCAGGTTCAGCAGCCAGTGATGGATCGCTACCAGCAGCATGGGATGGCTCCGCTGACCCAGGAGCAGAAGCCGGTTGCTAAAGTCGTGAATGACAATGCGCCGCAAACTGCGAAAGAGCCGGATTATCTGGATATCCCAGCATTCCTGCGTAAGCAAGCTGATTAA\n"
     ]
    }
   ],
   "source": [
    "with open(\"ftsZ.fna\", \"r\") as handle: #Open the file (read only mode, r)\n",
    "    record = SeqIO.read(handle, \"fasta\") #Read the file, which is in fasta format, with the read function from SeqIO\n",
    "    print(record.seq) #Print the DNA sequence"
   ]
  },
  {
   "cell_type": "markdown",
   "id": "410871b0",
   "metadata": {},
   "source": [
    "SeqIO.read only works on single records. If we want to read a file with several sequences, we use the function SeqIO.parse instead."
   ]
  },
  {
   "cell_type": "markdown",
   "id": "86785edd",
   "metadata": {},
   "source": [
    "### When we read a fasta file in Biopython, we get a record object with several attributes:"
   ]
  },
  {
   "cell_type": "code",
   "execution_count": 3,
   "id": "ef3f0c99",
   "metadata": {},
   "outputs": [
    {
     "name": "stdout",
     "output_type": "stream",
     "text": [
      "ID: NC_000913.3:105305-106456\n",
      "Name: NC_000913.3:105305-106456\n",
      "Description: NC_000913.3:105305-106456 ftsZ [organism=Escherichia coli str. K-12 substr. MG1655] [GeneID=944786] [chromosome=]\n",
      "Number of features: 0\n",
      "Seq('ATGTTTGAACCAATGGAACTTACCAATGACGCGGTGATTAAAGTCATCGGCGTC...TAA')\n"
     ]
    }
   ],
   "source": [
    "print(record)"
   ]
  },
  {
   "cell_type": "markdown",
   "id": "dcbb2edc",
   "metadata": {},
   "source": [
    "### In a fasta file, we get the description attribute as a header and then the sequence, this way:"
   ]
  },
  {
   "cell_type": "code",
   "execution_count": 4,
   "id": "59038a96",
   "metadata": {},
   "outputs": [
    {
     "name": "stdout",
     "output_type": "stream",
     "text": [
      ">NC_000913.3:105305-106456 ftsZ [organism=Escherichia coli str. K-12 substr. MG1655] [GeneID=944786] [chromosome=]\n",
      "ATGTTTGAACCAATGGAACTTACCAATGACGCGGTGATTAAAGTCATCGGCGTCGGCGGCGGCGGCGGTAATGCTGTTGAACACATGGTGCGCGAGCGCATTGAAGGTGTTGAATTCTTCGCGGTAAATACCGATGCACAAGCGCTGCGTAAAACAGCGGTTGGACAGACGATTCAAATCGGTAGCGGTATCACCAAAGGACTGGGCGCTGGCGCTAATCCAGAAGTTGGCCGCAATGCGGCTGATGAGGATCGCGATGCATTGCGTGCGGCGCTGGAAGGTGCAGACATGGTCTTTATTGCTGCGGGTATGGGTGGTGGTACCGGTACAGGTGCAGCACCAGTCGTCGCTGAAGTGGCAAAAGATTTGGGTATCCTGACCGTTGCTGTCGTCACTAAGCCTTTCAACTTTGAAGGCAAGAAGCGTATGGCATTCGCGGAGCAGGGGATCACTGAACTGTCCAAGCATGTGGACTCTCTGATCACTATCCCGAACGACAAACTGCTGAAAGTTCTGGGCCGCGGTATCTCCCTGCTGGATGCGTTTGGCGCAGCGAACGATGTACTGAAAGGCGCTGTGCAAGGTATCGCTGAACTGATTACTCGTCCGGGTTTGATGAACGTGGACTTTGCAGACGTACGCACCGTAATGTCTGAGATGGGCTACGCAATGATGGGTTCTGGCGTGGCGAGCGGTGAAGACCGTGCGGAAGAAGCTGCTGAAATGGCTATCTCTTCTCCGCTGCTGGAAGATATCGACCTGTCTGGCGCGCGCGGCGTGCTGGTTAACATCACGGCGGGCTTCGACCTGCGTCTGGATGAGTTCGAAACGGTAGGTAACACCATCCGTGCATTTGCTTCCGACAACGCGACTGTGGTTATCGGTACTTCTCTTGACCCGGATATGAATGACGAGCTGCGCGTAACCGTTGTTGCGACAGGTATCGGCATGGACAAACGTCCTGAAATCACTCTGGTGACCAATAAGCAGGTTCAGCAGCCAGTGATGGATCGCTACCAGCAGCATGGGATGGCTCCGCTGACCCAGGAGCAGAAGCCGGTTGCTAAAGTCGTGAATGACAATGCGCCGCAAACTGCGAAAGAGCCGGATTATCTGGATATCCCAGCATTCCTGCGTAAGCAAGCTGATTAA\n"
     ]
    }
   ],
   "source": [
    "print(f\">{record.description}\")\n",
    "print(record.seq)"
   ]
  },
  {
   "cell_type": "markdown",
   "id": "665d081f",
   "metadata": {},
   "source": [
    "## The DNA sequence can be converted to RNA by using the transcribe() function:"
   ]
  },
  {
   "cell_type": "code",
   "execution_count": 5,
   "id": "f2ad942a",
   "metadata": {},
   "outputs": [
    {
     "name": "stdout",
     "output_type": "stream",
     "text": [
      "AUGUUUGAACCAAUGGAACUUACCAAUGACGCGGUGAUUAAAGUCAUCGGCGUCGGCGGCGGCGGCGGUAAUGCUGUUGAACACAUGGUGCGCGAGCGCAUUGAAGGUGUUGAAUUCUUCGCGGUAAAUACCGAUGCACAAGCGCUGCGUAAAACAGCGGUUGGACAGACGAUUCAAAUCGGUAGCGGUAUCACCAAAGGACUGGGCGCUGGCGCUAAUCCAGAAGUUGGCCGCAAUGCGGCUGAUGAGGAUCGCGAUGCAUUGCGUGCGGCGCUGGAAGGUGCAGACAUGGUCUUUAUUGCUGCGGGUAUGGGUGGUGGUACCGGUACAGGUGCAGCACCAGUCGUCGCUGAAGUGGCAAAAGAUUUGGGUAUCCUGACCGUUGCUGUCGUCACUAAGCCUUUCAACUUUGAAGGCAAGAAGCGUAUGGCAUUCGCGGAGCAGGGGAUCACUGAACUGUCCAAGCAUGUGGACUCUCUGAUCACUAUCCCGAACGACAAACUGCUGAAAGUUCUGGGCCGCGGUAUCUCCCUGCUGGAUGCGUUUGGCGCAGCGAACGAUGUACUGAAAGGCGCUGUGCAAGGUAUCGCUGAACUGAUUACUCGUCCGGGUUUGAUGAACGUGGACUUUGCAGACGUACGCACCGUAAUGUCUGAGAUGGGCUACGCAAUGAUGGGUUCUGGCGUGGCGAGCGGUGAAGACCGUGCGGAAGAAGCUGCUGAAAUGGCUAUCUCUUCUCCGCUGCUGGAAGAUAUCGACCUGUCUGGCGCGCGCGGCGUGCUGGUUAACAUCACGGCGGGCUUCGACCUGCGUCUGGAUGAGUUCGAAACGGUAGGUAACACCAUCCGUGCAUUUGCUUCCGACAACGCGACUGUGGUUAUCGGUACUUCUCUUGACCCGGAUAUGAAUGACGAGCUGCGCGUAACCGUUGUUGCGACAGGUAUCGGCAUGGACAAACGUCCUGAAAUCACUCUGGUGACCAAUAAGCAGGUUCAGCAGCCAGUGAUGGAUCGCUACCAGCAGCAUGGGAUGGCUCCGCUGACCCAGGAGCAGAAGCCGGUUGCUAAAGUCGUGAAUGACAAUGCGCCGCAAACUGCGAAAGAGCCGGAUUAUCUGGAUAUCCCAGCAUUCCUGCGUAAGCAAGCUGAUUAA\n"
     ]
    }
   ],
   "source": [
    "RNA_seq = record.seq.transcribe() #In this case, we transcribe (DNA > RNA) the sequence\n",
    "print(RNA_seq) #Print the RNA sequence"
   ]
  },
  {
   "cell_type": "markdown",
   "id": "b6a01c3a",
   "metadata": {},
   "source": [
    "## We can easily convert the DNA or RNA sequence into protein by using the translate() function:"
   ]
  },
  {
   "cell_type": "code",
   "execution_count": 6,
   "id": "05d391de",
   "metadata": {},
   "outputs": [
    {
     "name": "stdout",
     "output_type": "stream",
     "text": [
      "MFEPMELTNDAVIKVIGVGGGGGNAVEHMVRERIEGVEFFAVNTDAQALRKTAVGQTIQIGSGITKGLGAGANPEVGRNAADEDRDALRAALEGADMVFIAAGMGGGTGTGAAPVVAEVAKDLGILTVAVVTKPFNFEGKKRMAFAEQGITELSKHVDSLITIPNDKLLKVLGRGISLLDAFGAANDVLKGAVQGIAELITRPGLMNVDFADVRTVMSEMGYAMMGSGVASGEDRAEEAAEMAISSPLLEDIDLSGARGVLVNITAGFDLRLDEFETVGNTIRAFASDNATVVIGTSLDPDMNDELRVTVVATGIGMDKRPEITLVTNKQVQQPVMDRYQQHGMAPLTQEQKPVAKVVNDNAPQTAKEPDYLDIPAFLRKQAD*\n"
     ]
    }
   ],
   "source": [
    "protein_seq = RNA_seq.translate() #We overwrite the DNA sequence with the translation (DNA > RNA > protein)\n",
    "print(protein_seq) #Print the protein sequence"
   ]
  },
  {
   "cell_type": "markdown",
   "id": "3e3448a4",
   "metadata": {},
   "source": [
    "The asterisk at the end represents the stop codon. If we don't want the asterisk, we have to specify that the translation should stop at the stop codon:"
   ]
  },
  {
   "cell_type": "code",
   "execution_count": 7,
   "id": "5d7cf2af",
   "metadata": {},
   "outputs": [
    {
     "name": "stdout",
     "output_type": "stream",
     "text": [
      "MFEPMELTNDAVIKVIGVGGGGGNAVEHMVRERIEGVEFFAVNTDAQALRKTAVGQTIQIGSGITKGLGAGANPEVGRNAADEDRDALRAALEGADMVFIAAGMGGGTGTGAAPVVAEVAKDLGILTVAVVTKPFNFEGKKRMAFAEQGITELSKHVDSLITIPNDKLLKVLGRGISLLDAFGAANDVLKGAVQGIAELITRPGLMNVDFADVRTVMSEMGYAMMGSGVASGEDRAEEAAEMAISSPLLEDIDLSGARGVLVNITAGFDLRLDEFETVGNTIRAFASDNATVVIGTSLDPDMNDELRVTVVATGIGMDKRPEITLVTNKQVQQPVMDRYQQHGMAPLTQEQKPVAKVVNDNAPQTAKEPDYLDIPAFLRKQAD\n"
     ]
    }
   ],
   "source": [
    "protein_seq = RNA_seq.translate(to_stop=True)\n",
    "print(protein_seq) #Print the protein sequence without asterisk"
   ]
  },
  {
   "cell_type": "markdown",
   "id": "d1971538",
   "metadata": {},
   "source": [
    "## Now, we can save the output to a fasta file by using the as_fasta function that we imported in the beginning:"
   ]
  },
  {
   "cell_type": "code",
   "execution_count": 10,
   "id": "ce6bcf45",
   "metadata": {},
   "outputs": [],
   "source": [
    "out_file = \"ftsZ.faa\" #Name of output file\n",
    "protein_record = record #Create a new record that is a copy of the original\n",
    "protein_record.seq = protein_seq #Replace the DNA sequence with the protein sequence\n",
    "with open(out_file, \"w\") as faa: #Open new file in write mode\n",
    "    faa.write(as_fasta(protein_record)) #Write amino acid sequence in fasta format with as_fasta"
   ]
  },
  {
   "cell_type": "code",
   "execution_count": 8,
   "id": "df61d84c",
   "metadata": {},
   "outputs": [],
   "source": [
    "out_file = \"ftsZ.faa\"\n",
    "protein_record = record\n",
    "protein_record.seq = protein_seq\n",
    "with open(out_file, \"w\") as faa:\n",
    "    SeqIO.write(protein_record, faa, \"fasta\") #Alternatively, we can use SeqIO to write to fasta format"
   ]
  },
  {
   "cell_type": "markdown",
   "id": "50c62409",
   "metadata": {},
   "source": [
    "## Finally, we can check the content of the newly-created file"
   ]
  },
  {
   "cell_type": "code",
   "execution_count": 9,
   "id": "74f467b6",
   "metadata": {},
   "outputs": [
    {
     "name": "stdout",
     "output_type": "stream",
     "text": [
      ">NC_000913.3:105305-106456 ftsZ [organism=Escherichia coli str. K-12 substr. MG1655] [GeneID=944786] [chromosome=]\n",
      "MFEPMELTNDAVIKVIGVGGGGGNAVEHMVRERIEGVEFFAVNTDAQALRKTAVGQTIQI\n",
      "GSGITKGLGAGANPEVGRNAADEDRDALRAALEGADMVFIAAGMGGGTGTGAAPVVAEVA\n",
      "KDLGILTVAVVTKPFNFEGKKRMAFAEQGITELSKHVDSLITIPNDKLLKVLGRGISLLD\n",
      "AFGAANDVLKGAVQGIAELITRPGLMNVDFADVRTVMSEMGYAMMGSGVASGEDRAEEAA\n",
      "EMAISSPLLEDIDLSGARGVLVNITAGFDLRLDEFETVGNTIRAFASDNATVVIGTSLDP\n",
      "DMNDELRVTVVATGIGMDKRPEITLVTNKQVQQPVMDRYQQHGMAPLTQEQKPVAKVVND\n",
      "NAPQTAKEPDYLDIPAFLRKQAD\n"
     ]
    }
   ],
   "source": [
    "with open(out_file, \"r\") as faa:\n",
    "    for line in faa: #Here we loop normally through the file to check its contents\n",
    "        print(line, end=\"\") #Fasta files already have a line break at the end of each line"
   ]
  }
 ],
 "metadata": {
  "kernelspec": {
   "display_name": "Python 3 (ipykernel)",
   "language": "python",
   "name": "python3"
  },
  "language_info": {
   "codemirror_mode": {
    "name": "ipython",
    "version": 3
   },
   "file_extension": ".py",
   "mimetype": "text/x-python",
   "name": "python",
   "nbconvert_exporter": "python",
   "pygments_lexer": "ipython3",
   "version": "3.9.0"
  }
 },
 "nbformat": 4,
 "nbformat_minor": 5
}
