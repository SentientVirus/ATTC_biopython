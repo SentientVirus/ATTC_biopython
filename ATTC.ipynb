{
 "cells": [
  {
   "cell_type": "code",
   "execution_count": 10,
   "id": "fa1cf615",
   "metadata": {},
   "outputs": [],
   "source": [
    "from Bio import SeqIO\n",
    "from Bio.SeqIO.FastaIO import as_fasta"
   ]
  },
  {
   "cell_type": "code",
   "execution_count": 28,
   "id": "1200b90d",
   "metadata": {},
   "outputs": [
    {
     "name": "stdout",
     "output_type": "stream",
     "text": [
      "NC_000913.3:105305-106456\n"
     ]
    }
   ],
   "source": [
    "with open(\"ftsZ.fasta\", 'r') as handle:\n",
    "    record = SeqIO.read(handle, \"fasta\")\n",
    "    print(record.id)"
   ]
  },
  {
   "cell_type": "code",
   "execution_count": 29,
   "id": "f2ad942a",
   "metadata": {},
   "outputs": [
    {
     "name": "stdout",
     "output_type": "stream",
     "text": [
      "AUGUUUGAACCAAUGGAACUUACCAAUGACGCGGUGAUUAAAGUCAUCGGCGUCGGCGGCGGCGGCGGUAAUGCUGUUGAACACAUGGUGCGCGAGCGCAUUGAAGGUGUUGAAUUCUUCGCGGUAAAUACCGAUGCACAAGCGCUGCGUAAAACAGCGGUUGGACAGACGAUUCAAAUCGGUAGCGGUAUCACCAAAGGACUGGGCGCUGGCGCUAAUCCAGAAGUUGGCCGCAAUGCGGCUGAUGAGGAUCGCGAUGCAUUGCGUGCGGCGCUGGAAGGUGCAGACAUGGUCUUUAUUGCUGCGGGUAUGGGUGGUGGUACCGGUACAGGUGCAGCACCAGUCGUCGCUGAAGUGGCAAAAGAUUUGGGUAUCCUGACCGUUGCUGUCGUCACUAAGCCUUUCAACUUUGAAGGCAAGAAGCGUAUGGCAUUCGCGGAGCAGGGGAUCACUGAACUGUCCAAGCAUGUGGACUCUCUGAUCACUAUCCCGAACGACAAACUGCUGAAAGUUCUGGGCCGCGGUAUCUCCCUGCUGGAUGCGUUUGGCGCAGCGAACGAUGUACUGAAAGGCGCUGUGCAAGGUAUCGCUGAACUGAUUACUCGUCCGGGUUUGAUGAACGUGGACUUUGCAGACGUACGCACCGUAAUGUCUGAGAUGGGCUACGCAAUGAUGGGUUCUGGCGUGGCGAGCGGUGAAGACCGUGCGGAAGAAGCUGCUGAAAUGGCUAUCUCUUCUCCGCUGCUGGAAGAUAUCGACCUGUCUGGCGCGCGCGGCGUGCUGGUUAACAUCACGGCGGGCUUCGACCUGCGUCUGGAUGAGUUCGAAACGGUAGGUAACACCAUCCGUGCAUUUGCUUCCGACAACGCGACUGUGGUUAUCGGUACUUCUCUUGACCCGGAUAUGAAUGACGAGCUGCGCGUAACCGUUGUUGCGACAGGUAUCGGCAUGGACAAACGUCCUGAAAUCACUCUGGUGACCAAUAAGCAGGUUCAGCAGCCAGUGAUGGAUCGCUACCAGCAGCAUGGGAUGGCUCCGCUGACCCAGGAGCAGAAGCCGGUUGCUAAAGUCGUGAAUGACAAUGCGCCGCAAACUGCGAAAGAGCCGGAUUAUCUGGAUAUCCCAGCAUUCCUGCGUAAGCAAGCUGAUUAA\n"
     ]
    }
   ],
   "source": [
    "with open(\"ftsZ.fasta\", 'r') as handle:\n",
    "    record = SeqIO.read(handle, \"fasta\")\n",
    "    RNA_record = record.seq.transcribe()\n",
    "    print(RNA_record)"
   ]
  },
  {
   "cell_type": "code",
   "execution_count": 30,
   "id": "05d391de",
   "metadata": {},
   "outputs": [
    {
     "name": "stdout",
     "output_type": "stream",
     "text": [
      "MFEPMELTNDAVIKVIGVGGGGGNAVEHMVRERIEGVEFFAVNTDAQALRKTAVGQTIQIGSGITKGLGAGANPEVGRNAADEDRDALRAALEGADMVFIAAGMGGGTGTGAAPVVAEVAKDLGILTVAVVTKPFNFEGKKRMAFAEQGITELSKHVDSLITIPNDKLLKVLGRGISLLDAFGAANDVLKGAVQGIAELITRPGLMNVDFADVRTVMSEMGYAMMGSGVASGEDRAEEAAEMAISSPLLEDIDLSGARGVLVNITAGFDLRLDEFETVGNTIRAFASDNATVVIGTSLDPDMNDELRVTVVATGIGMDKRPEITLVTNKQVQQPVMDRYQQHGMAPLTQEQKPVAKVVNDNAPQTAKEPDYLDIPAFLRKQAD*\n"
     ]
    }
   ],
   "source": [
    "with open(\"ftsZ.fasta\", 'r') as handle:\n",
    "    record = SeqIO.read(handle, \"fasta\")\n",
    "    RNA_record = record.seq.transcribe()\n",
    "    protein_record = RNA_record.translate()\n",
    "    print(protein_record)"
   ]
  },
  {
   "cell_type": "code",
   "execution_count": null,
   "id": "ce6bcf45",
   "metadata": {},
   "outputs": [],
   "source": []
  }
 ],
 "metadata": {
  "kernelspec": {
   "display_name": "Python 3 (ipykernel)",
   "language": "python",
   "name": "python3"
  },
  "language_info": {
   "codemirror_mode": {
    "name": "ipython",
    "version": 3
   },
   "file_extension": ".py",
   "mimetype": "text/x-python",
   "name": "python",
   "nbconvert_exporter": "python",
   "pygments_lexer": "ipython3",
   "version": "3.9.0"
  }
 },
 "nbformat": 4,
 "nbformat_minor": 5
}
