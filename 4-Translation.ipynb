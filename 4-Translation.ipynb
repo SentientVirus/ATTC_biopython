{
 "cells": [
  {
   "cell_type": "markdown",
   "id": "16a30f0c",
   "metadata": {},
   "source": [
    "# How to transcribe and translate a DNA sequence"
   ]
  },
  {
   "cell_type": "markdown",
   "id": "f75349f1",
   "metadata": {},
   "source": [
    "First, we need to import the required modules:"
   ]
  },
  {
   "cell_type": "code",
   "execution_count": 1,
   "id": "fa1cf615",
   "metadata": {},
   "outputs": [],
   "source": [
    "from Bio import SeqIO\n",
    "from Bio.SeqIO.FastaIO import as_fasta"
   ]
  },
  {
   "cell_type": "markdown",
   "id": "102e56cd",
   "metadata": {},
   "source": [
    "Then, we can open the file using ``with open(<filename>)`` and parse its content with the **``SeqIO.read()``** function:"
   ]
  },
  {
   "cell_type": "code",
   "execution_count": 26,
   "id": "1200b90d",
   "metadata": {},
   "outputs": [],
   "source": [
    "with open(\"ftsZ.fna\", \"r\") as handle: #Open the file (read only mode, r)\n",
    "    record = SeqIO.read(handle, \"fasta\") #Read the file, which is in fasta format, with the read function from SeqIO"
   ]
  },
  {
   "cell_type": "markdown",
   "id": "410871b0",
   "metadata": {},
   "source": [
    "**OBS!** ``SeqIO.read()`` only works on single records. If we want to read a file with **several sequences**, we use the function **``SeqIO.parse()``** instead."
   ]
  },
  {
   "cell_type": "markdown",
   "id": "86785edd",
   "metadata": {},
   "source": [
    "When we read a ``fasta`` file in Biopython, we get an object of class ``SeqRecord``, that we stored in the ``record`` variable, and what you can see after printing are the various attributes that this class has:"
   ]
  },
  {
   "cell_type": "code",
   "execution_count": 3,
   "id": "ef3f0c99",
   "metadata": {},
   "outputs": [
    {
     "name": "stdout",
     "output_type": "stream",
     "text": [
      "ID: NC_000913.3:105305-106456\n",
      "Name: NC_000913.3:105305-106456\n",
      "Description: NC_000913.3:105305-106456 ftsZ [organism=Escherichia coli str. K-12 substr. MG1655] [GeneID=944786] [chromosome=]\n",
      "Number of features: 0\n",
      "Seq('ATGTTTGAACCAATGGAACTTACCAATGACGCGGTGATTAAAGTCATCGGCGTC...TAA')\n"
     ]
    }
   ],
   "source": [
    "print(record)"
   ]
  },
  {
   "cell_type": "markdown",
   "id": "7654dec6",
   "metadata": {},
   "source": [
    "We can look more into attributes and methods by using ``dir()``:"
   ]
  },
  {
   "cell_type": "code",
   "execution_count": 23,
   "id": "42532243",
   "metadata": {},
   "outputs": [
    {
     "data": {
      "text/plain": [
       "['__add__',\n",
       " '__bool__',\n",
       " '__bytes__',\n",
       " '__class__',\n",
       " '__contains__',\n",
       " '__delattr__',\n",
       " '__dict__',\n",
       " '__dir__',\n",
       " '__doc__',\n",
       " '__eq__',\n",
       " '__format__',\n",
       " '__ge__',\n",
       " '__getattribute__',\n",
       " '__getitem__',\n",
       " '__getstate__',\n",
       " '__gt__',\n",
       " '__hash__',\n",
       " '__init__',\n",
       " '__init_subclass__',\n",
       " '__iter__',\n",
       " '__le__',\n",
       " '__len__',\n",
       " '__lt__',\n",
       " '__module__',\n",
       " '__ne__',\n",
       " '__new__',\n",
       " '__radd__',\n",
       " '__reduce__',\n",
       " '__reduce_ex__',\n",
       " '__repr__',\n",
       " '__setattr__',\n",
       " '__sizeof__',\n",
       " '__str__',\n",
       " '__subclasshook__',\n",
       " '__weakref__',\n",
       " '_per_letter_annotations',\n",
       " '_seq',\n",
       " '_set_per_letter_annotations',\n",
       " '_set_seq',\n",
       " 'annotations',\n",
       " 'count',\n",
       " 'dbxrefs',\n",
       " 'description',\n",
       " 'features',\n",
       " 'format',\n",
       " 'id',\n",
       " 'islower',\n",
       " 'isupper',\n",
       " 'letter_annotations',\n",
       " 'lower',\n",
       " 'name',\n",
       " 'reverse_complement',\n",
       " 'seq',\n",
       " 'translate',\n",
       " 'upper']"
      ]
     },
     "execution_count": 23,
     "metadata": {},
     "output_type": "execute_result"
    }
   ],
   "source": [
    "dir(record)"
   ]
  },
  {
   "cell_type": "markdown",
   "id": "dd10d46b",
   "metadata": {},
   "source": [
    "To check if the parsing worked, let's take a look at one attribute in particular: the ``seq`` attribute, where the gene sequence is stored:"
   ]
  },
  {
   "cell_type": "code",
   "execution_count": 25,
   "id": "f56d57a3",
   "metadata": {},
   "outputs": [
    {
     "name": "stdout",
     "output_type": "stream",
     "text": [
      "ATGTTTGAACCAATGGAACTTACCAATGACGCGGTGATTAAAGTCATCGGCGTCGGCGGCGGCGGCGGTAATGCTGTTGAACACATGGTGCGCGAGCGCATTGAAGGTGTTGAATTCTTCGCGGTAAATACCGATGCACAAGCGCTGCGTAAAACAGCGGTTGGACAGACGATTCAAATCGGTAGCGGTATCACCAAAGGACTGGGCGCTGGCGCTAATCCAGAAGTTGGCCGCAATGCGGCTGATGAGGATCGCGATGCATTGCGTGCGGCGCTGGAAGGTGCAGACATGGTCTTTATTGCTGCGGGTATGGGTGGTGGTACCGGTACAGGTGCAGCACCAGTCGTCGCTGAAGTGGCAAAAGATTTGGGTATCCTGACCGTTGCTGTCGTCACTAAGCCTTTCAACTTTGAAGGCAAGAAGCGTATGGCATTCGCGGAGCAGGGGATCACTGAACTGTCCAAGCATGTGGACTCTCTGATCACTATCCCGAACGACAAACTGCTGAAAGTTCTGGGCCGCGGTATCTCCCTGCTGGATGCGTTTGGCGCAGCGAACGATGTACTGAAAGGCGCTGTGCAAGGTATCGCTGAACTGATTACTCGTCCGGGTTTGATGAACGTGGACTTTGCAGACGTACGCACCGTAATGTCTGAGATGGGCTACGCAATGATGGGTTCTGGCGTGGCGAGCGGTGAAGACCGTGCGGAAGAAGCTGCTGAAATGGCTATCTCTTCTCCGCTGCTGGAAGATATCGACCTGTCTGGCGCGCGCGGCGTGCTGGTTAACATCACGGCGGGCTTCGACCTGCGTCTGGATGAGTTCGAAACGGTAGGTAACACCATCCGTGCATTTGCTTCCGACAACGCGACTGTGGTTATCGGTACTTCTCTTGACCCGGATATGAATGACGAGCTGCGCGTAACCGTTGTTGCGACAGGTATCGGCATGGACAAACGTCCTGAAATCACTCTGGTGACCAATAAGCAGGTTCAGCAGCCAGTGATGGATCGCTACCAGCAGCATGGGATGGCTCCGCTGACCCAGGAGCAGAAGCCGGTTGCTAAAGTCGTGAATGACAATGCGCCGCAAACTGCGAAAGAGCCGGATTATCTGGATATCCCAGCATTCCTGCGTAAGCAAGCTGATTAA\n"
     ]
    }
   ],
   "source": [
    "print(record.seq)"
   ]
  },
  {
   "cell_type": "markdown",
   "id": "93a7e491",
   "metadata": {},
   "source": [
    "It worked! But we are looking only at a part of the information that we have. The ``seq`` attribute is not the only useful one. In this tutorial, we want to create a new ``fasta`` file. In this file type, we have a ``description`` as a header and then the sequence, this way:"
   ]
  },
  {
   "cell_type": "code",
   "execution_count": 24,
   "id": "59038a96",
   "metadata": {},
   "outputs": [
    {
     "name": "stdout",
     "output_type": "stream",
     "text": [
      ">NC_000913.3:105305-106456 ftsZ [organism=Escherichia coli str. K-12 substr. MG1655] [GeneID=944786] [chromosome=]\n",
      "ATGTTTGAACCAATGGAACTTACCAATGACGCGGTGATTAAAGTCATCGGCGTCGGCGGCGGCGGCGGTAATGCTGTTGAACACATGGTGCGCGAGCGCATTGAAGGTGTTGAATTCTTCGCGGTAAATACCGATGCACAAGCGCTGCGTAAAACAGCGGTTGGACAGACGATTCAAATCGGTAGCGGTATCACCAAAGGACTGGGCGCTGGCGCTAATCCAGAAGTTGGCCGCAATGCGGCTGATGAGGATCGCGATGCATTGCGTGCGGCGCTGGAAGGTGCAGACATGGTCTTTATTGCTGCGGGTATGGGTGGTGGTACCGGTACAGGTGCAGCACCAGTCGTCGCTGAAGTGGCAAAAGATTTGGGTATCCTGACCGTTGCTGTCGTCACTAAGCCTTTCAACTTTGAAGGCAAGAAGCGTATGGCATTCGCGGAGCAGGGGATCACTGAACTGTCCAAGCATGTGGACTCTCTGATCACTATCCCGAACGACAAACTGCTGAAAGTTCTGGGCCGCGGTATCTCCCTGCTGGATGCGTTTGGCGCAGCGAACGATGTACTGAAAGGCGCTGTGCAAGGTATCGCTGAACTGATTACTCGTCCGGGTTTGATGAACGTGGACTTTGCAGACGTACGCACCGTAATGTCTGAGATGGGCTACGCAATGATGGGTTCTGGCGTGGCGAGCGGTGAAGACCGTGCGGAAGAAGCTGCTGAAATGGCTATCTCTTCTCCGCTGCTGGAAGATATCGACCTGTCTGGCGCGCGCGGCGTGCTGGTTAACATCACGGCGGGCTTCGACCTGCGTCTGGATGAGTTCGAAACGGTAGGTAACACCATCCGTGCATTTGCTTCCGACAACGCGACTGTGGTTATCGGTACTTCTCTTGACCCGGATATGAATGACGAGCTGCGCGTAACCGTTGTTGCGACAGGTATCGGCATGGACAAACGTCCTGAAATCACTCTGGTGACCAATAAGCAGGTTCAGCAGCCAGTGATGGATCGCTACCAGCAGCATGGGATGGCTCCGCTGACCCAGGAGCAGAAGCCGGTTGCTAAAGTCGTGAATGACAATGCGCCGCAAACTGCGAAAGAGCCGGATTATCTGGATATCCCAGCATTCCTGCGTAAGCAAGCTGATTAA\n"
     ]
    }
   ],
   "source": [
    "print(f\">{record.description}\")\n",
    "print(record.seq)"
   ]
  },
  {
   "cell_type": "markdown",
   "id": "31b897b8",
   "metadata": {},
   "source": [
    "In the example above, we printed the ``description`` attribute of the ``record`` object as a header, and then the ``seq`` attribute. The ``seq`` attribute consists of an object of class ``Seq`` that includes a string representing the gene sequence. There are several interesting methods that you can apply on a ``Seq`` object; for example, you can search for specific sub-sequences inside your sequence. Let's search for the start codon (``ATG``):"
   ]
  },
  {
   "cell_type": "code",
   "execution_count": 11,
   "id": "adbdc98f",
   "metadata": {},
   "outputs": [
    {
     "data": {
      "text/plain": [
       "0"
      ]
     },
     "execution_count": 11,
     "metadata": {},
     "output_type": "execute_result"
    }
   ],
   "source": [
    "record.seq.find(\"ATG\")"
   ]
  },
  {
   "cell_type": "markdown",
   "id": "76d00cb8",
   "metadata": {},
   "source": [
    "The cell above returned positon 0, since, of course, the start codon should be at the start of the sequence. We can also count the number of times a sub-sequence is present in a sequence. For example, let's do that for the stop codon ``TAA``:"
   ]
  },
  {
   "cell_type": "code",
   "execution_count": 16,
   "id": "5834f76c",
   "metadata": {},
   "outputs": [
    {
     "data": {
      "text/plain": [
       "14"
      ]
     },
     "execution_count": 16,
     "metadata": {},
     "output_type": "execute_result"
    }
   ],
   "source": [
    "record.seq.count(\"TAA\")"
   ]
  },
  {
   "cell_type": "markdown",
   "id": "f606baea",
   "metadata": {},
   "source": [
    "It returned 14! How is that possible? Do we have 14 stop codons? Of course not! The sequence is searched in the sequence string without taking into account the codon frames. In this case, because we have a gene, codons start at every third possition, but if we were looking at a full genome, for example, we might have genes overlapping over different codon frames, so this can be useful. We can look into all the methods that are available for the ``Seq`` class by using ``dir()``:"
   ]
  },
  {
   "cell_type": "code",
   "execution_count": 21,
   "id": "128309ef",
   "metadata": {},
   "outputs": [
    {
     "data": {
      "text/plain": [
       "['__abstractmethods__',\n",
       " '__add__',\n",
       " '__array_ufunc__',\n",
       " '__bytes__',\n",
       " '__class__',\n",
       " '__contains__',\n",
       " '__delattr__',\n",
       " '__dict__',\n",
       " '__dir__',\n",
       " '__doc__',\n",
       " '__eq__',\n",
       " '__format__',\n",
       " '__ge__',\n",
       " '__getattribute__',\n",
       " '__getitem__',\n",
       " '__getstate__',\n",
       " '__gt__',\n",
       " '__hash__',\n",
       " '__imul__',\n",
       " '__init__',\n",
       " '__init_subclass__',\n",
       " '__iter__',\n",
       " '__le__',\n",
       " '__len__',\n",
       " '__lt__',\n",
       " '__module__',\n",
       " '__mul__',\n",
       " '__ne__',\n",
       " '__new__',\n",
       " '__radd__',\n",
       " '__reduce__',\n",
       " '__reduce_ex__',\n",
       " '__repr__',\n",
       " '__rmul__',\n",
       " '__setattr__',\n",
       " '__sizeof__',\n",
       " '__slots__',\n",
       " '__str__',\n",
       " '__subclasshook__',\n",
       " '__weakref__',\n",
       " '_abc_impl',\n",
       " '_data',\n",
       " 'back_transcribe',\n",
       " 'complement',\n",
       " 'complement_rna',\n",
       " 'count',\n",
       " 'count_overlap',\n",
       " 'defined',\n",
       " 'defined_ranges',\n",
       " 'endswith',\n",
       " 'find',\n",
       " 'index',\n",
       " 'islower',\n",
       " 'isupper',\n",
       " 'join',\n",
       " 'lower',\n",
       " 'lstrip',\n",
       " 'replace',\n",
       " 'reverse_complement',\n",
       " 'reverse_complement_rna',\n",
       " 'rfind',\n",
       " 'rindex',\n",
       " 'rsplit',\n",
       " 'rstrip',\n",
       " 'split',\n",
       " 'startswith',\n",
       " 'strip',\n",
       " 'transcribe',\n",
       " 'translate',\n",
       " 'ungap',\n",
       " 'upper']"
      ]
     },
     "execution_count": 21,
     "metadata": {},
     "output_type": "execute_result"
    }
   ],
   "source": [
    "dir(record.seq)"
   ]
  },
  {
   "cell_type": "markdown",
   "id": "665d081f",
   "metadata": {},
   "source": [
    "Here you can see many other useful attributes and, more commonly, methods. Some of these methods are shared with strings, such as ``split``, ``strip`` or ``startwith``. However, there are others that are unique to ``Seq`` objects. For this tutorial, we will try some of them to transform the DNA sequence into protein. First, the DNA sequence can be converted to RNA by using the **``transcribe()``** function:"
   ]
  },
  {
   "cell_type": "code",
   "execution_count": 5,
   "id": "f2ad942a",
   "metadata": {},
   "outputs": [
    {
     "name": "stdout",
     "output_type": "stream",
     "text": [
      "AUGUUUGAACCAAUGGAACUUACCAAUGACGCGGUGAUUAAAGUCAUCGGCGUCGGCGGCGGCGGCGGUAAUGCUGUUGAACACAUGGUGCGCGAGCGCAUUGAAGGUGUUGAAUUCUUCGCGGUAAAUACCGAUGCACAAGCGCUGCGUAAAACAGCGGUUGGACAGACGAUUCAAAUCGGUAGCGGUAUCACCAAAGGACUGGGCGCUGGCGCUAAUCCAGAAGUUGGCCGCAAUGCGGCUGAUGAGGAUCGCGAUGCAUUGCGUGCGGCGCUGGAAGGUGCAGACAUGGUCUUUAUUGCUGCGGGUAUGGGUGGUGGUACCGGUACAGGUGCAGCACCAGUCGUCGCUGAAGUGGCAAAAGAUUUGGGUAUCCUGACCGUUGCUGUCGUCACUAAGCCUUUCAACUUUGAAGGCAAGAAGCGUAUGGCAUUCGCGGAGCAGGGGAUCACUGAACUGUCCAAGCAUGUGGACUCUCUGAUCACUAUCCCGAACGACAAACUGCUGAAAGUUCUGGGCCGCGGUAUCUCCCUGCUGGAUGCGUUUGGCGCAGCGAACGAUGUACUGAAAGGCGCUGUGCAAGGUAUCGCUGAACUGAUUACUCGUCCGGGUUUGAUGAACGUGGACUUUGCAGACGUACGCACCGUAAUGUCUGAGAUGGGCUACGCAAUGAUGGGUUCUGGCGUGGCGAGCGGUGAAGACCGUGCGGAAGAAGCUGCUGAAAUGGCUAUCUCUUCUCCGCUGCUGGAAGAUAUCGACCUGUCUGGCGCGCGCGGCGUGCUGGUUAACAUCACGGCGGGCUUCGACCUGCGUCUGGAUGAGUUCGAAACGGUAGGUAACACCAUCCGUGCAUUUGCUUCCGACAACGCGACUGUGGUUAUCGGUACUUCUCUUGACCCGGAUAUGAAUGACGAGCUGCGCGUAACCGUUGUUGCGACAGGUAUCGGCAUGGACAAACGUCCUGAAAUCACUCUGGUGACCAAUAAGCAGGUUCAGCAGCCAGUGAUGGAUCGCUACCAGCAGCAUGGGAUGGCUCCGCUGACCCAGGAGCAGAAGCCGGUUGCUAAAGUCGUGAAUGACAAUGCGCCGCAAACUGCGAAAGAGCCGGAUUAUCUGGAUAUCCCAGCAUUCCUGCGUAAGCAAGCUGAUUAA\n"
     ]
    }
   ],
   "source": [
    "RNA_seq = record.seq.transcribe() # Transcribe (DNA > RNA) the sequence\n",
    "print(RNA_seq) # Print the RNA sequence"
   ]
  },
  {
   "cell_type": "markdown",
   "id": "b6a01c3a",
   "metadata": {},
   "source": [
    "Then, we can easily convert the DNA or RNA sequence into protein by using the **``translate()``** function:"
   ]
  },
  {
   "cell_type": "code",
   "execution_count": 6,
   "id": "05d391de",
   "metadata": {},
   "outputs": [
    {
     "name": "stdout",
     "output_type": "stream",
     "text": [
      "MFEPMELTNDAVIKVIGVGGGGGNAVEHMVRERIEGVEFFAVNTDAQALRKTAVGQTIQIGSGITKGLGAGANPEVGRNAADEDRDALRAALEGADMVFIAAGMGGGTGTGAAPVVAEVAKDLGILTVAVVTKPFNFEGKKRMAFAEQGITELSKHVDSLITIPNDKLLKVLGRGISLLDAFGAANDVLKGAVQGIAELITRPGLMNVDFADVRTVMSEMGYAMMGSGVASGEDRAEEAAEMAISSPLLEDIDLSGARGVLVNITAGFDLRLDEFETVGNTIRAFASDNATVVIGTSLDPDMNDELRVTVVATGIGMDKRPEITLVTNKQVQQPVMDRYQQHGMAPLTQEQKPVAKVVNDNAPQTAKEPDYLDIPAFLRKQAD*\n"
     ]
    }
   ],
   "source": [
    "protein_seq = RNA_seq.translate() # Overwrite the DNA sequence with the translation (DNA > RNA > protein)\n",
    "print(protein_seq) # Print the protein sequence"
   ]
  },
  {
   "cell_type": "markdown",
   "id": "3e3448a4",
   "metadata": {},
   "source": [
    "The asterisk at the end represents the **stop codon**. If we don't want the asterisk, we have to specify that the translation should stop at the stop codon:"
   ]
  },
  {
   "cell_type": "code",
   "execution_count": 7,
   "id": "5d7cf2af",
   "metadata": {},
   "outputs": [
    {
     "name": "stdout",
     "output_type": "stream",
     "text": [
      "MFEPMELTNDAVIKVIGVGGGGGNAVEHMVRERIEGVEFFAVNTDAQALRKTAVGQTIQIGSGITKGLGAGANPEVGRNAADEDRDALRAALEGADMVFIAAGMGGGTGTGAAPVVAEVAKDLGILTVAVVTKPFNFEGKKRMAFAEQGITELSKHVDSLITIPNDKLLKVLGRGISLLDAFGAANDVLKGAVQGIAELITRPGLMNVDFADVRTVMSEMGYAMMGSGVASGEDRAEEAAEMAISSPLLEDIDLSGARGVLVNITAGFDLRLDEFETVGNTIRAFASDNATVVIGTSLDPDMNDELRVTVVATGIGMDKRPEITLVTNKQVQQPVMDRYQQHGMAPLTQEQKPVAKVVNDNAPQTAKEPDYLDIPAFLRKQAD\n"
     ]
    }
   ],
   "source": [
    "protein_seq = RNA_seq.translate(to_stop = True) # Translate until the stop codon (not included)\n",
    "print(protein_seq) # Print the protein sequence again"
   ]
  },
  {
   "cell_type": "markdown",
   "id": "08250d39",
   "metadata": {},
   "source": [
    "**OBS!** The translate function can be used directly on DNA sequences, but here we used the ``transcribe()`` function first to test more methods."
   ]
  },
  {
   "cell_type": "markdown",
   "id": "d1971538",
   "metadata": {},
   "source": [
    "Now, we can save the output to a fasta file by using the **``as_fasta()``** function that we imported in the beginning:"
   ]
  },
  {
   "cell_type": "code",
   "execution_count": 10,
   "id": "ce6bcf45",
   "metadata": {},
   "outputs": [],
   "source": [
    "out_file = \"ftsZ.faa\" # Name of output file\n",
    "protein_record = record # Create a new record that is a copy of the original\n",
    "protein_record.seq = protein_seq # Replace the DNA sequence with the protein sequence\n",
    "with open(out_file, \"w\") as faa: # Open new file in write mode\n",
    "    faa.write(as_fasta(protein_record)) # Write amino acid sequence in fasta format with as_fasta"
   ]
  },
  {
   "cell_type": "markdown",
   "id": "e3326dca",
   "metadata": {},
   "source": [
    "There are alternatives to using this function; for example, you can use the **``SeqIO.write()``** function and specify the output file type:"
   ]
  },
  {
   "cell_type": "code",
   "execution_count": 8,
   "id": "df61d84c",
   "metadata": {},
   "outputs": [],
   "source": [
    "out_file = \"ftsZ.faa\"\n",
    "protein_record = record\n",
    "protein_record.seq = protein_seq\n",
    "with open(out_file, \"w\") as faa:\n",
    "    SeqIO.write(protein_record, faa, \"fasta\") # Write amino acid sequence to fasta with SeqIO.write"
   ]
  },
  {
   "cell_type": "markdown",
   "id": "50c62409",
   "metadata": {},
   "source": [
    "Last, we can check the content of the newly-created file:"
   ]
  },
  {
   "cell_type": "code",
   "execution_count": 9,
   "id": "74f467b6",
   "metadata": {},
   "outputs": [
    {
     "name": "stdout",
     "output_type": "stream",
     "text": [
      ">NC_000913.3:105305-106456 ftsZ [organism=Escherichia coli str. K-12 substr. MG1655] [GeneID=944786] [chromosome=]\n",
      "MFEPMELTNDAVIKVIGVGGGGGNAVEHMVRERIEGVEFFAVNTDAQALRKTAVGQTIQI\n",
      "GSGITKGLGAGANPEVGRNAADEDRDALRAALEGADMVFIAAGMGGGTGTGAAPVVAEVA\n",
      "KDLGILTVAVVTKPFNFEGKKRMAFAEQGITELSKHVDSLITIPNDKLLKVLGRGISLLD\n",
      "AFGAANDVLKGAVQGIAELITRPGLMNVDFADVRTVMSEMGYAMMGSGVASGEDRAEEAA\n",
      "EMAISSPLLEDIDLSGARGVLVNITAGFDLRLDEFETVGNTIRAFASDNATVVIGTSLDP\n",
      "DMNDELRVTVVATGIGMDKRPEITLVTNKQVQQPVMDRYQQHGMAPLTQEQKPVAKVVND\n",
      "NAPQTAKEPDYLDIPAFLRKQAD\n"
     ]
    }
   ],
   "source": [
    "with open(out_file, \"r\") as faa:\n",
    "    for line in faa: #Here we loop normally through the file to check its contents\n",
    "        print(line, end = \"\") #Fasta files already have a line break at the end of each line"
   ]
  },
  {
   "cell_type": "markdown",
   "id": "a64d2a81",
   "metadata": {},
   "source": [
    "We managed to translate the sequence and save it to a new file! Perhaps you want to try to do the same now."
   ]
  },
  {
   "cell_type": "markdown",
   "id": "5cfa4a1a",
   "metadata": {},
   "source": [
    "## So, what do I do now?\n",
    "Download a file containing the DNA sequence of a gene from NCBI and try to translate the sequence yourself. You can also save the translated version to a new file if you want, and you can play around with other attributes of the ``SeqRecord`` class; for example, by modifying the description. You can use the cell below."
   ]
  },
  {
   "cell_type": "code",
   "execution_count": null,
   "id": "2f5c33be",
   "metadata": {},
   "outputs": [],
   "source": [
    "# Write your code here"
   ]
  }
 ],
 "metadata": {
  "kernelspec": {
   "display_name": "Python 3 (ipykernel)",
   "language": "python",
   "name": "python3"
  },
  "language_info": {
   "codemirror_mode": {
    "name": "ipython",
    "version": 3
   },
   "file_extension": ".py",
   "mimetype": "text/x-python",
   "name": "python",
   "nbconvert_exporter": "python",
   "pygments_lexer": "ipython3",
   "version": "3.11.0"
  }
 },
 "nbformat": 4,
 "nbformat_minor": 5
}
