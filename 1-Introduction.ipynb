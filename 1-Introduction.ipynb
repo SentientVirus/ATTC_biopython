{
 "cells": [
  {
   "cell_type": "markdown",
   "id": "7900f526",
   "metadata": {},
   "source": [
    "# Introduction to programming"
   ]
  },
  {
   "cell_type": "markdown",
   "id": "9c944c05",
   "metadata": {},
   "source": [
    "## What is programming?\n",
    "When you are programming, you are giving a computer the instructions to perform one or several tasks. For example, I will tell the computer to perform a sum here:"
   ]
  },
  {
   "cell_type": "code",
   "execution_count": 2,
   "id": "94384a9a",
   "metadata": {},
   "outputs": [
    {
     "data": {
      "text/plain": [
       "28"
      ]
     },
     "execution_count": 2,
     "metadata": {},
     "output_type": "execute_result"
    }
   ],
   "source": [
    "63-35"
   ]
  },
  {
   "cell_type": "markdown",
   "id": "0f6a088f",
   "metadata": {},
   "source": [
    "As you can see, I have given the computer two initial data (63 and 35), which we call **inputs**, and the instruction to substract 35 to 63 (defined by the - symbol). As instructed, the computer has returned the result of this calculation, the **output**.\n",
    "\n",
    "Therefore, we can think of programming as follows:\n",
    "``inputs + instructions = output``"
   ]
  },
  {
   "cell_type": "markdown",
   "id": "cf5a2061",
   "metadata": {},
   "source": [
    "## What is the purpose?\n",
    "The idea is that the computer **performs a task for us**. The task can be, for example, a complicated mathematical calculation, or even a simple one like in the example. It can also be a different type of task, like displaying an image or sorting data. These are examples of basic tasks, but it can be more complex, like managing a server or running a genome analysis pipeline.\n",
    "\n",
    "One of the main advantages of programming is that it allows us to **automate tasks**. In addition, a computer programme will usually give us the same answer from the same input data, which is not so easy when we perform a lab experiment. This means that, in theory, it should be **more reproducible**. However, in practice, you need access to the instructions that have been fed to the computer, not just the inputs and outputs, and these methods are often not published."
   ]
  },
  {
   "cell_type": "markdown",
   "id": "00373280",
   "metadata": {},
   "source": [
    "## How does it work?\n",
    "This is quite simple: you feed the inputs and the instructions to the computer, then this code (**source code**) is processed by a **compiler**, which \"translates\" it to a language that the computer can understand (**object code**). Usually, a programme is made up of several pieces of code called **modules**. These modules are put together by a **linker**. Often, even single-module programmes need to be linked after they are combined, because linkers also replace symbolic links (\"fake\" addresses that you create to point to the true addresses of files) with true addresses. After the compiler and the linker have done their work, you get the so-called **machine code**, the final instructions that your machine will execute.\n",
    "\n",
    "To summarize, the process works as follows:\n",
    "\n",
    "1. Writing source code\n",
    "\n",
    "2. Compiling code\n",
    "\n",
    "3. Linking code\n",
    "\n",
    "4. Executing code\n",
    "\n",
    "Reference: https://www.webopedia.com/definitions/compilation/"
   ]
  },
  {
   "cell_type": "markdown",
   "id": "477a3829",
   "metadata": {},
   "source": [
    "## Why Python?\n",
    "Well, why not? Perhaps I'm not being very convincing here... let's look at some numbers:\n",
    "\n",
    "According to Stack Overflow's 2022 Developer Survey, Python is the fourth most used programming language, with a 48.07% of respondents using Python. Among those who are learning to code, the number goes up to 58.38%. Let's display it more nicely:"
   ]
  },
  {
   "cell_type": "code",
   "execution_count": 13,
   "id": "4454a840",
   "metadata": {},
   "outputs": [
    {
     "data": {
      "image/png": "[encoded data removed]",
      "text/plain": [
       "<Figure size 720x360 with 1 Axes>"
      ]
     },
     "metadata": {
      "needs_background": "light"
     },
     "output_type": "display_data"
    }
   ],
   "source": [
    "from matplotlib import pyplot as plt\n",
    "languages = {\"JavaScript\": 65.36, \"HTML/CSS\": 55.08, \"SQL\": 49.43, \"Python\": 48.07, \"TypeScript\": 34.83, \"Java\": 33.27, \"Bash/shell\": 29.07, \"C#\": 27.98, \"C++\": 22.55, \"PHP\": 20.87}\n",
    "fig, ax = plt.subplots(figsize = (10, 5))\n",
    "plt.bar(languages.keys(), height = languages.values());"
   ]
  },
  {
   "cell_type": "markdown",
   "id": "5f20f07f",
   "metadata": {},
   "source": [
    "Note that here I'm only displaying the 10 most used programming languages. If you want to learn more, you can check the survey [here](https://survey.stackoverflow.co/2022/#most-popular-technologies-language).\n",
    "\n",
    "### Well, if JavaScript is the most used language, why am I not learning JavaScript?\n",
    "You have to take into account that different programming languages are popular in different fields. For example, JavaScript, PHP and HTML/CSS are widely used for web development, which is not the purpose of this course. But of course, if you want to develop your own website, you should look into these programming languages! SQL is used to manage databases, so it is also very useful if you want to be a web administrator. And C++ is very popular in technical fields.\n",
    "\n",
    "Your choice of programming language should depend on your needs, on your goal and on what is already available. As a Bioinformatician, you might need to learn several programming languages. Bash will be essential to you if you are using a Linux computer, and you might also want to learn R if you need a specific R package, e.g., to do differential expression analyses with DESeq2."
   ]
  },
  {
   "cell_type": "markdown",
   "id": "e3442fac",
   "metadata": {},
   "source": [
    "## How do I get started?\n",
    "Good that you asked! In this course, you will be using [Anaconda](https://www.anaconda.com). Follow the link to Anaconda or search for it with your preferred browser. Then, click on the ``Download`` button. You should be prompted to install the version of Anaconda that best suits your operative system."
   ]
  },
  {
   "cell_type": "markdown",
   "id": "344c9432",
   "metadata": {},
   "source": [
    "Once that you install Anaconda, in your command line you will be in the ``base`` environment. Now you should create a new environment from the course repository. First you need to clone this repository to your local computer. To do so run the following command:\n",
    "``https://github.com/SentientVirus/ATTC_biopython.git``\n",
    "\n",
    "Now, you should create a conda environment from the ``biopython.yml`` file. From your ``base`` environment, from the command line, also knows as shell or, if you have a Windows computer, through Anaconda Prompt, type ``conda env create -f biopython.yml``.\n",
    "\n",
    "This environment contains all the packages you will need from the course, even though some of them, such as Pandas or Biopython, are not default Python packages and have to be installed (``conda install ..``). In general terms, you shouldn't install anything to the ``base`` environment, but work in a separate environment.\n",
    "\n",
    "Now, let's activate the environment that we created. The first line of the ``.yml`` file sets the name of the environment; in this case, it is called ``bioinfo``:\n",
    "``conda activate bioinfo``\n",
    "\n",
    "You can open Anaconda Navigator and check for applications on the ``bioinfo`` channel. You will see that Jupyter Notebook is one of those applications. Look for Jupyter Notebook and click on launch, then try to run this notebook!\n",
    "\n",
    "## Jupyter Notebook\n",
    "### What is it?\n",
    "The [Jupyter Notebooks](https://jupyter.org), as their name indicates, are notebooks that combine text (this one has so much text that I might as well turn it into an essay...) and code! They were created to facilitate sharing documents. As you can see, it is super easy to comment code, you can even add walls of text. See this paragraph? It's a wall. There are no bigger walls than this one. Bear with me. Continue reading, I promise you it will be worth it... or maybe not. Actually, not at all. Sorry about this, I just wanted to make a point. Blah blah blah. And I could keep going. Yes, this is a threat. Okay, maybe this is enough. Maybe not.\n",
    "\n",
    "Ejem, as I was saying, Jupyter Notebooks were created with the idea to make them collaborative, but they have other advantages. For example, you can organize your code in chunks and run it in a different order. Let me give you an example:"
   ]
  },
  {
   "cell_type": "code",
   "execution_count": 33,
   "id": "d135f143",
   "metadata": {},
   "outputs": [],
   "source": [
    "num = 9 #Set a starting value for num"
   ]
  },
  {
   "cell_type": "code",
   "execution_count": 35,
   "id": "dc35ae84",
   "metadata": {},
   "outputs": [],
   "source": [
    "num -= 1 #Remove 1 from the value of num"
   ]
  },
  {
   "cell_type": "code",
   "execution_count": 34,
   "id": "cca115c6",
   "metadata": {},
   "outputs": [],
   "source": [
    "num *= 3 #Multiply num by 3"
   ]
  },
  {
   "cell_type": "code",
   "execution_count": 36,
   "id": "073f9737",
   "metadata": {},
   "outputs": [
    {
     "name": "stdout",
     "output_type": "stream",
     "text": [
      "26\n"
     ]
    }
   ],
   "source": [
    "print(num) #Show the final value of num"
   ]
  },
  {
   "cell_type": "markdown",
   "id": "6a939951",
   "metadata": {},
   "source": [
    "Hmm... Shouldn't the result be 24? What has happened? Maybe it's time you run this notebook and find out..."
   ]
  },
  {
   "cell_type": "markdown",
   "id": "bcf6d74f",
   "metadata": {},
   "source": [
    "### Wait, how do I run the notebook? Isn't this a PDF?"
   ]
  },
  {
   "cell_type": "markdown",
   "id": "5b5fd168",
   "metadata": {},
   "source": [
    "The tutorials in this course are written in Jupyter Notebook. As you can see from the tutorial PDFs, one of the functionalities of Jupyter notebooks is that they can be converted to PDFs, but we won't cover this during the course. Once that you have installed Jupyter Notebook, you can run all the tutorials directly on the notebooks!\n",
    "\n",
    "As you have seen, Jupyter Notebook can be run from Anaconda Navigator, but you can also run it through the shell (or through Anaconda Prompt if you have a Windows computer) by simply typing:\n",
    "\n",
    "``jupyter notebook``\n",
    "\n",
    "**OBS!** The environment that is activated when you run this command must have ``jupyter notebook`` installed. When you run the remaining tutorials of this course, make sure that you activate the ``bioinfo`` environment before you open the notebook, as the packages that you will need are installed there! Otherwise you will have to re-install the packages manually. You should also keep in mind that Jupyter Notebook will be run on the directory where you execute the command, so make sure you run it in the directory where you keep your notebooks!"
   ]
  },
  {
   "cell_type": "markdown",
   "id": "a5f6e8f3",
   "metadata": {},
   "source": [
    "## Python IDEs\n",
    "Integrated Development Environments (IDEs) are software applications designed to help you develop your code. The idea is that you should write and test-run your code using the interface that is provided by these applications. The simplest Python IDE is the **Integrated Development and Learning Environment (IDLE)**. To run it, you can use the following command (in the shell):\n",
    "\n",
    "``python -m idlelib <your script>``\n",
    "\n",
    "**OBS!** Replace ``<your script>`` with the name of the file that you want to run. You can try creating an empty file, ``test.py``, and paste the following code in it:"
   ]
  },
  {
   "cell_type": "code",
   "execution_count": 39,
   "id": "f0b3813d",
   "metadata": {},
   "outputs": [
    {
     "name": "stdout",
     "output_type": "stream",
     "text": [
      "/Users/marmo435/Courses/ATTC_4/ATTC_biopython\n"
     ]
    }
   ],
   "source": [
    "import os #Loading module\n",
    "print(os.getcwd()) #Get current working directory (cwd) and print it"
   ]
  },
  {
   "cell_type": "markdown",
   "id": "2751dd5b",
   "metadata": {},
   "source": [
    "Include the comments as well! You'll see that the ``import`` and ``print`` commands, as well as the comments, use a different color scheme! Then you can click on ``Run``, and you'll see how it is run in the Python console. This code should return your current working directory. Feel free to play with the settings or write your own code if you feel confident to do so."
   ]
  },
  {
   "cell_type": "markdown",
   "id": "80cc3952",
   "metadata": {},
   "source": [
    "### Other IDEs\n",
    "Anaconda also includes Python IDEs, **Spyder** and **PyCharm**. If you want to try them, you can install them in an Anaconda environment, either through the ``conda install`` command or through Anaconda Navigator. Keep in mind that these IDEs are more advanced than IDLE, so it might be a little overwhelming before you have been introduced to basic concepts in Python and we will be using Jupyter Notebook to run the code for this course. However, if you want, you can copy the code in these notebooks into an IDE and try its different functionalities."
   ]
  }
 ],
 "metadata": {
  "kernelspec": {
   "display_name": "Python 3 (ipykernel)",
   "language": "python",
   "name": "python3"
  },
  "language_info": {
   "codemirror_mode": {
    "name": "ipython",
    "version": 3
   },
   "file_extension": ".py",
   "mimetype": "text/x-python",
   "name": "python",
   "nbconvert_exporter": "python",
   "pygments_lexer": "ipython3",
   "version": "3.11.0"
  }
 },
 "nbformat": 4,
 "nbformat_minor": 5
}
