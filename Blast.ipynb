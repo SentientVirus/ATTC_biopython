{
 "cells": [
  {
   "cell_type": "markdown",
   "id": "7ce5bee1",
   "metadata": {},
   "source": [
    "# Running BLAST through Biopython"
   ]
  },
  {
   "cell_type": "code",
   "execution_count": 22,
   "id": "6896af1a",
   "metadata": {},
   "outputs": [],
   "source": [
    "from Bio.Blast.Applications import NcbiblastpCommandline as cline_blast\n",
    "from Bio.Blast.Applications import NcbimakeblastdbCommandline as makeblastdb\n",
    "import os"
   ]
  },
  {
   "cell_type": "markdown",
   "id": "947099ca",
   "metadata": {},
   "source": [
    "With this module, generating Blast commands is quite easy:"
   ]
  },
  {
   "cell_type": "code",
   "execution_count": 26,
   "id": "cf28f1fb",
   "metadata": {},
   "outputs": [],
   "source": [
    "ftsA = makeblastdb(dbtype = \"prot\", input_file = \"ftsA.faa\")\n",
    "cline_input = cline_blast(query=\"ftsZ.faa\", db=ftsA, evalue=0.001, remote=True, ungapped=True)"
   ]
  },
  {
   "cell_type": "code",
   "execution_count": 27,
   "id": "3bbbc7e9",
   "metadata": {},
   "outputs": [
    {
     "name": "stdout",
     "output_type": "stream",
     "text": [
      "blastp -query ftsZ.faa -db makeblastdb -dbtype prot -in ftsA.faa -evalue 0.001 -remote -ungapped\n"
     ]
    },
    {
     "ename": "ApplicationError",
     "evalue": "Non-zero return code 127 from 'blastp -query ftsZ.fna -db nr -evalue 0.001 -remote -ungapped', message '/bin/sh: blastp: command not found'",
     "output_type": "error",
     "traceback": [
      "\u001b[0;31m---------------------------------------------------------------------------\u001b[0m",
      "\u001b[0;31mApplicationError\u001b[0m                          Traceback (most recent call last)",
      "Cell \u001b[0;32mIn[27], line 1\u001b[0m\n\u001b[0;32m----> 1\u001b[0m \u001b[43mcline\u001b[49m\u001b[43m(\u001b[49m\u001b[38;5;28;43mprint\u001b[39;49m\u001b[43m(\u001b[49m\u001b[43mcline_input\u001b[49m\u001b[43m)\u001b[49m\u001b[43m)\u001b[49m\n",
      "File \u001b[0;32m~/opt/anaconda3/envs/bioinfo/lib/python3.11/site-packages/Bio/Application/__init__.py:574\u001b[0m, in \u001b[0;36mAbstractCommandline.__call__\u001b[0;34m(self, stdin, stdout, stderr, cwd, env)\u001b[0m\n\u001b[1;32m    571\u001b[0m     stderr_arg\u001b[38;5;241m.\u001b[39mclose()\n\u001b[1;32m    573\u001b[0m \u001b[38;5;28;01mif\u001b[39;00m return_code:\n\u001b[0;32m--> 574\u001b[0m     \u001b[38;5;28;01mraise\u001b[39;00m ApplicationError(return_code, \u001b[38;5;28mstr\u001b[39m(\u001b[38;5;28mself\u001b[39m), stdout_str, stderr_str)\n\u001b[1;32m    575\u001b[0m \u001b[38;5;28;01mreturn\u001b[39;00m stdout_str, stderr_str\n",
      "\u001b[0;31mApplicationError\u001b[0m: Non-zero return code 127 from 'blastp -query ftsZ.fna -db nr -evalue 0.001 -remote -ungapped', message '/bin/sh: blastp: command not found'"
     ]
    }
   ],
   "source": [
    "cline(print(cline_input))"
   ]
  },
  {
   "cell_type": "code",
   "execution_count": null,
   "id": "1a7fab61",
   "metadata": {},
   "outputs": [],
   "source": []
  }
 ],
 "metadata": {
  "kernelspec": {
   "display_name": "Python 3 (ipykernel)",
   "language": "python",
   "name": "python3"
  },
  "language_info": {
   "codemirror_mode": {
    "name": "ipython",
    "version": 3
   },
   "file_extension": ".py",
   "mimetype": "text/x-python",
   "name": "python",
   "nbconvert_exporter": "python",
   "pygments_lexer": "ipython3",
   "version": "3.11.0"
  }
 },
 "nbformat": 4,
 "nbformat_minor": 5
}
