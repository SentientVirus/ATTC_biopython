{
 "cells": [
  {
   "cell_type": "markdown",
   "id": "7c44f269",
   "metadata": {},
   "source": [
    "# Object-oriented programming\n",
    "Object-oriented programming is based on **objects** that have a series of **attributes** and **methods** than can be applied to them.\n",
    "\n",
    "## Okay, but what is an object?\n",
    "An object can be anything in the real world that we want to represent in our code. YOU (yes, you), for example, could be an object: you would have attributes such as hair type, height, favourite ice-cream flavor, horoscope sign, etc. You would also have methods, for example, you can walk around, jump, sit down, smile, cry. If you could be simulated in a computer programme, there would be methods to make you move or smile as I mentioned. Unfortunately, people are too complex to be simulated in a programme, so we will have to use a simpler object as an example: the number one. No, that's not you."
   ]
  },
  {
   "cell_type": "code",
   "execution_count": 8,
   "id": "b692863b",
   "metadata": {},
   "outputs": [
    {
     "name": "stdout",
     "output_type": "stream",
     "text": [
      "['__abs__', '__add__', '__and__', '__bool__', '__ceil__', '__class__', '__delattr__', '__dir__', '__divmod__', '__doc__', '__eq__', '__float__', '__floor__', '__floordiv__', '__format__', '__ge__', '__getattribute__', '__getnewargs__', '__getstate__', '__gt__', '__hash__', '__index__', '__init__', '__init_subclass__', '__int__', '__invert__', '__le__', '__lshift__', '__lt__', '__mod__', '__mul__', '__ne__', '__neg__', '__new__', '__or__', '__pos__', '__pow__', '__radd__', '__rand__', '__rdivmod__', '__reduce__', '__reduce_ex__', '__repr__', '__rfloordiv__', '__rlshift__', '__rmod__', '__rmul__', '__ror__', '__round__', '__rpow__', '__rrshift__', '__rshift__', '__rsub__', '__rtruediv__', '__rxor__', '__setattr__', '__sizeof__', '__str__', '__sub__', '__subclasshook__', '__truediv__', '__trunc__', '__xor__', 'as_integer_ratio', 'bit_count', 'bit_length', 'conjugate', 'denominator', 'from_bytes', 'imag', 'numerator', 'real', 'to_bytes']\n"
     ]
    }
   ],
   "source": [
    "print(dir(1))"
   ]
  },
  {
   "cell_type": "markdown",
   "id": "c0c51039",
   "metadata": {},
   "source": [
    "What has been printed here are the methods and attributes that apply to the object ``1``. Internal methods have the format ``__method__``, whereas attributes and other methods are just listed by their names. External methods are called as ``object.method()``, whereas attributes are called as ``object.attribute``. The use of internal methods is less straightforward; for example, you call the method ``__str__`` when you use the ``print`` **function**. Which brings us to..."
   ]
  },
  {
   "cell_type": "markdown",
   "id": "5902d89a",
   "metadata": {},
   "source": [
    "## Methods vs functions"
   ]
  },
  {
   "cell_type": "markdown",
   "id": "8028b4a7",
   "metadata": {},
   "source": [
    "**Functions** are similar to methods, they both perform a series of instructions. However, even though functions can also be applied to objects, they don't have to be linked to an object or a type of object. So, following this real-life analogy where you are an object, let's say that a function could make it rain. It could make you open an umbrella, or worsen your mood, but rain doesn't fall to annoy you (I hope not, at least). The rain is a good analogy because the purpose of functions is to make it easier for you to run the same code twice and, of course, bad weather is not a one-time event.\n",
    "\n",
    "Here, you can see how the ``print`` function can be applied to different types of objects:"
   ]
  },
  {
   "cell_type": "code",
   "execution_count": 50,
   "id": "223e6c6f",
   "metadata": {},
   "outputs": [
    {
     "name": "stdout",
     "output_type": "stream",
     "text": [
      "<class 'int'> <class 'list'>\n"
     ]
    }
   ],
   "source": [
    "print(type(1), type([1, 1]))"
   ]
  },
  {
   "cell_type": "markdown",
   "id": "a5d5cd2b",
   "metadata": {},
   "source": [
    "``type`` is also a function that gives us the type (called **class**) of each object. The object ``1`` is an integer, abbreviated as ``int`` in Python, and the object ``[1, 1]`` is a list."
   ]
  },
  {
   "cell_type": "markdown",
   "id": "89ed6eec",
   "metadata": {},
   "source": [
    "## Objects vs variables\n",
    "We have looked into objects and what they are, but there is a similar concept that is often confused with objects, and it is that of **variables**. Variables are names that we give to objects. By calling the variable, we have access to information about the object. Going back to the analogy where you are an object, your full name could be a variable: in Sweden, if someone googles your full name, they can get some information about you, such as your birthday or your age. But perhaps you have also included that information in your Twitter profile, where you are using the fake name Lax Salmonsson so that your boss doesn't fire you because of your strong opinions on the price of salmon."
   ]
  },
  {
   "cell_type": "code",
   "execution_count": 48,
   "id": "5613b2ae",
   "metadata": {},
   "outputs": [
    {
     "name": "stdout",
     "output_type": "stream",
     "text": [
      "(3.5, 0.0)\n",
      "4.0\n",
      "(7, 2)\n"
     ]
    }
   ],
   "source": [
    "var1 = 1\n",
    "var2 = 1\n",
    "var3 = 3.5\n",
    "print((var3.real, var3.imag))\n",
    "print(round(var3, 0))\n",
    "print(var3.as_integer_ratio())"
   ]
  },
  {
   "cell_type": "code",
   "execution_count": 24,
   "id": "00f16a73",
   "metadata": {},
   "outputs": [
    {
     "name": "stdout",
     "output_type": "stream",
     "text": [
      "<method-wrapper '__rand__' of int object at 0x100d150f8>\n",
      "<method-wrapper '__rand__' of int object at 0x100d150f8>\n"
     ]
    }
   ],
   "source": [
    "print(var1.__rand__)\n",
    "print(var2.__rand__)"
   ]
  },
  {
   "cell_type": "code",
   "execution_count": null,
   "id": "1a5be35a",
   "metadata": {},
   "outputs": [],
   "source": []
  }
 ],
 "metadata": {
  "kernelspec": {
   "display_name": "Python 3 (ipykernel)",
   "language": "python",
   "name": "python3"
  },
  "language_info": {
   "codemirror_mode": {
    "name": "ipython",
    "version": 3
   },
   "file_extension": ".py",
   "mimetype": "text/x-python",
   "name": "python",
   "nbconvert_exporter": "python",
   "pygments_lexer": "ipython3",
   "version": "3.11.0"
  }
 },
 "nbformat": 4,
 "nbformat_minor": 5
}
