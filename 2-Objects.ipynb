{
 "cells": [
  {
   "cell_type": "markdown",
   "id": "7c44f269",
   "metadata": {},
   "source": [
    "# Object-oriented programming\n",
    "Object-oriented programming is based on **objects** that have a series of **attributes** and **methods** than can be applied to them.\n",
    "\n",
    "## Okay, but what is an object?\n",
    "An object can be anything in the real world that we want to represent in our code. YOU (yes, you), for example, could be an object: you would have attributes such as hair type, height, favourite ice-cream flavor, horoscope sign, etc. You would also have methods, for example, you can walk around, jump, sit down, smile, cry. If you could be simulated in a computer programme, there would be methods to make you move or smile as I mentioned. Unfortunately, people are too complex to be simulated in a programme, so we will have to use a simpler object as an example: the number one."
   ]
  },
  {
   "cell_type": "code",
   "execution_count": 314,
   "id": "b692863b",
   "metadata": {},
   "outputs": [
    {
     "name": "stdout",
     "output_type": "stream",
     "text": [
      "['__abs__', '__add__', '__and__', '__bool__', '__ceil__', '__class__', '__delattr__', '__dir__', '__divmod__', '__doc__', '__eq__', '__float__', '__floor__', '__floordiv__', '__format__', '__ge__', '__getattribute__', '__getnewargs__', '__getstate__', '__gt__', '__hash__', '__index__', '__init__', '__init_subclass__', '__int__', '__invert__', '__le__', '__lshift__', '__lt__', '__mod__', '__mul__', '__ne__', '__neg__', '__new__', '__or__', '__pos__', '__pow__', '__radd__', '__rand__', '__rdivmod__', '__reduce__', '__reduce_ex__', '__repr__', '__rfloordiv__', '__rlshift__', '__rmod__', '__rmul__', '__ror__', '__round__', '__rpow__', '__rrshift__', '__rshift__', '__rsub__', '__rtruediv__', '__rxor__', '__setattr__', '__sizeof__', '__str__', '__sub__', '__subclasshook__', '__truediv__', '__trunc__', '__xor__', 'as_integer_ratio', 'bit_count', 'bit_length', 'conjugate', 'denominator', 'from_bytes', 'imag', 'numerator', 'real', 'to_bytes']\n"
     ]
    }
   ],
   "source": [
    "print(dir(1))"
   ]
  },
  {
   "cell_type": "markdown",
   "id": "c0c51039",
   "metadata": {},
   "source": [
    "What has been printed here are the methods and attributes that apply to the object ``1``. Internal methods have the format ``__method__``, whereas attributes and other methods are just listed by their names. External methods are called as ``object.method()``, whereas attributes are called as ``object.attribute``. The use of internal methods is less straightforward; for example, you call the method ``__str__`` when you use the ``print`` **function**. Which brings us to..."
   ]
  },
  {
   "cell_type": "markdown",
   "id": "5902d89a",
   "metadata": {},
   "source": [
    "## Methods vs functions"
   ]
  },
  {
   "cell_type": "markdown",
   "id": "8028b4a7",
   "metadata": {},
   "source": [
    "**Functions** are similar to methods, they both perform a series of instructions. However, even though functions can also be applied to objects, they don't have to be linked to an object or a type of object. So, following this real-life analogy where you are an object, let's say that a function could make it rain. It could make you open an umbrella, or worsen your mood, but rain doesn't fall to annoy you (I hope not, at least). The rain is a good analogy because the purpose of functions is to make it easier for you to run the same code twice and, of course, bad weather is not a one-time event.\n",
    "\n",
    "Here, you can see how the ``print`` function can be applied to different types of objects:"
   ]
  },
  {
   "cell_type": "code",
   "execution_count": 315,
   "id": "223e6c6f",
   "metadata": {},
   "outputs": [
    {
     "name": "stdout",
     "output_type": "stream",
     "text": [
      "<class 'int'> <class 'list'>\n"
     ]
    }
   ],
   "source": [
    "print(type(1), type([1, 1]))"
   ]
  },
  {
   "cell_type": "markdown",
   "id": "a5d5cd2b",
   "metadata": {},
   "source": [
    "``type`` is also a function that gives us the type (called **class**) of each object. The object ``1`` is an integer, abbreviated as ``int`` in Python, and the object ``[1, 1]`` is a list."
   ]
  },
  {
   "cell_type": "markdown",
   "id": "1ce81079",
   "metadata": {},
   "source": [
    "### Structure of functions\n",
    "Functions take inputs, referred to as **arguments**, and usually they return outputs. A function doesn't necessarily return an output; sometimes it just performs a task. There are cases in which the function doesn't even need an input either; for example, if you want to write a function that returns you a number from 1 to 10. The structure is, therefore, as follows:"
   ]
  },
  {
   "cell_type": "code",
   "execution_count": 316,
   "id": "46d37e71",
   "metadata": {},
   "outputs": [
    {
     "name": "stdout",
     "output_type": "stream",
     "text": [
      "1 2 3 5 7 11 13 17 19 "
     ]
    }
   ],
   "source": [
    "def print_no(limit): # Function definition\n",
    "    # Here you write what the function does and what the inputs are\n",
    "    \"\"\"This function gives you all the prime numbers between 1 and a number of your choice\n",
    "    Input: limit (integer) = upper limit of the range where you screen for prime numbers\n",
    "    Outputs: prime_nos = list of prime numbers in the range between 1 and limit\n",
    "             not_prime = numbers that are not prime in that same range\"\"\"\n",
    "\n",
    "    # Here you write the code for the function\n",
    "    prime_nos = [] # Defining output variables\n",
    "    not_prime = []\n",
    "    if limit > 1: # Code to search for prime numbers\n",
    "        for n in range(1, limit+1): # Loop through numbers until our number\n",
    "            check = True # Boolean to check if a number is prime\n",
    "            for i in range(2, int(n/2)+1): # Loop through numbers until half the value of our number\n",
    "                if (n % i) == 0: # Modulo\n",
    "                    not_prime.append(n) # Add non-prime numbers to non-prime number list\n",
    "                    check = False # Boolean set to false (number not prime)\n",
    "                    break\n",
    "            if check == True: # If the number is prime\n",
    "                prime_nos.append(n) # Add prime numbers to prime number list\n",
    "                \n",
    "    # Here you define the outputs (if you have any)\n",
    "    return prime_nos, not_prime # Return outputs so that they can be used outside the function\n",
    "\n",
    "primes, not_primes = print_no(20) # Get output prime and non-prime numbers until 20\n",
    "[print(no, end = \" \") for no in primes]; # Print numbers"
   ]
  },
  {
   "cell_type": "markdown",
   "id": "cc961f71",
   "metadata": {},
   "source": [
    "In this case, the function has only one argument, ``limit``, which gives you the integer where you stop looking for more prime numbers. In turn, it returns two outputs, ``prime_nos`` and ``not_prime``, that contain a list of prime numbers and a list of non-prime numbers, respectively. You don't have to understand the code in-between at this stage.\n",
    "\n",
    "#### Documenting code\n",
    "Here you can see that I added many **comments**. It is important to **document** your code properly so that other people can re-use it in the future. One of the easiest ways to do this is by commenting what each chunk of code does. You should also write what the function does, how it is used and what arguments you need in the line below the function definition. This way, another user can learn how to use the function. It can even be useful for yourself, if you were sleepy when you wrote the function and can't rely on your memory. Here you have the previous function as an example:"
   ]
  },
  {
   "cell_type": "code",
   "execution_count": 317,
   "id": "bde07694",
   "metadata": {},
   "outputs": [
    {
     "name": "stdout",
     "output_type": "stream",
     "text": [
      "Help on function print_no in module __main__:\n",
      "\n",
      "print_no(limit)\n",
      "    This function gives you all the prime numbers between 1 and a number of your choice\n",
      "    Input: limit (integer) = upper limit of the range where you screen for prime numbers\n",
      "    Outputs: prime_nos = list of prime numbers in the range between 1 and limit\n",
      "             not_prime = numbers that are not prime in that same range\n",
      "\n"
     ]
    }
   ],
   "source": [
    "help(print_no)"
   ]
  },
  {
   "cell_type": "markdown",
   "id": "9759bc28",
   "metadata": {},
   "source": [
    "### Task: Write a function that takes two numbers as inputs and sums the numbers\n",
    "You can write the code in the cell below, with some basic indications of the structure of a function.\n",
    "\n",
    "**OBS!** Don't forget to document your function and to test-run it."
   ]
  },
  {
   "cell_type": "code",
   "execution_count": 318,
   "id": "26ac465a",
   "metadata": {},
   "outputs": [],
   "source": [
    "def my_function(input1, input2):\n",
    "    \"\"\"My documentation\"\"\"\n",
    "    # Here goes your code\n",
    "    return output"
   ]
  },
  {
   "cell_type": "markdown",
   "id": "7384a4b9",
   "metadata": {},
   "source": [
    "## Indentation\n",
    "As you can see in the cell above, where you tried to create your own function, the blocks of code that are inside the function are **indented**. This just means that there are spaces at the beginning of the line. In Python, when you have a line that ends with ``:``, you need to add indented lines below. These indented lines go inside the line that ends with ``:``, in this case, the function definition. If you forget to indent a line, it will be executed outside the function that you defined, which might lead to **errors**. In a similar way, if you don't add any indented line after a statement ending with ``:``, you will get an error."
   ]
  },
  {
   "cell_type": "markdown",
   "id": "89ed6eec",
   "metadata": {},
   "source": [
    "## Objects vs variables\n",
    "We have looked into objects and what they are, but there is a similar concept that is often confused with objects, and it is that of **variables**. Variables are names that we give to objects. By calling the variable, we have access to information about the object. Going back to the analogy where you are an object, your full name could be a variable: in Sweden, if someone googles your full name, they can get some information about you, such as your birthday or your age. But perhaps you have also included that information in your Twitter profile, where you are using the fake name Lax Salmonsson so that your boss doesn't fire you because of your strong opinions on the price of salmon.\n",
    "\n",
    "As an example, we will define three variables and assign the same object, the integer ``1``, to two of them."
   ]
  },
  {
   "cell_type": "code",
   "execution_count": 319,
   "id": "5613b2ae",
   "metadata": {},
   "outputs": [],
   "source": [
    "var1 = 1\n",
    "var2 = 1\n",
    "var3 = 3.5"
   ]
  },
  {
   "cell_type": "markdown",
   "id": "1e3355ee",
   "metadata": {},
   "source": [
    "Now, let's check if var1 and var2 are the same object. To do so, we will print the id of each variable."
   ]
  },
  {
   "cell_type": "code",
   "execution_count": 320,
   "id": "00f16a73",
   "metadata": {},
   "outputs": [
    {
     "name": "stdout",
     "output_type": "stream",
     "text": [
      "4340138232\n",
      "4340138232\n",
      "4563845072\n"
     ]
    }
   ],
   "source": [
    "print(id(var1))\n",
    "print(id(var2))\n",
    "print(id(var3))"
   ]
  },
  {
   "cell_type": "markdown",
   "id": "9d2fe5f9",
   "metadata": {},
   "source": [
    "As you can see, ``var1`` and ``var2`` have the same id! Did you expect this?\n",
    "\n",
    "``var3`` doesn't have the same id, since it is a different object, the number ``3.5``. This number is not an integer (``int``), but a different datatype. Can you guess which type? (Hint: you can use the ``type`` function on ``var3``)."
   ]
  },
  {
   "cell_type": "code",
   "execution_count": null,
   "id": "1a5be35a",
   "metadata": {},
   "outputs": [],
   "source": [
    "# Write your code here"
   ]
  },
  {
   "cell_type": "markdown",
   "id": "4e0901bf",
   "metadata": {},
   "source": [
    "This brings us to the next question: What are the data types that you can use in Python? Let's look into it.\n",
    "\n",
    "# Classes of objects\n",
    "## Numbers\n",
    "In the example above, you could see (hopefully) that there are two different data types for numbers, **integers** and **floats**. Integers are any numbers, positive or negative, without a decimal, whereas floats always include a decimal, even if it is 0. This means that ``1`` and ``1.0`` are different objects, even though they have the same numerical value. You can see it here:"
   ]
  },
  {
   "cell_type": "code",
   "execution_count": 321,
   "id": "c1aefb81",
   "metadata": {},
   "outputs": [
    {
     "data": {
      "text/plain": [
       "True"
      ]
     },
     "execution_count": 321,
     "metadata": {},
     "output_type": "execute_result"
    }
   ],
   "source": [
    "1 == 1.0"
   ]
  },
  {
   "cell_type": "markdown",
   "id": "5f7e6566",
   "metadata": {},
   "source": [
    "The ``==`` operator is used to check if two objects are equal. Its counterpart is the ``=!``operator, that allows you to check if they are different. In this case, what we see is that the **value** of the objects is equal. If we want to check if the objects themselves are the same, we can compare the ids:"
   ]
  },
  {
   "cell_type": "code",
   "execution_count": 322,
   "id": "928455b7",
   "metadata": {},
   "outputs": [
    {
     "data": {
      "text/plain": [
       "False"
      ]
     },
     "execution_count": 322,
     "metadata": {},
     "output_type": "execute_result"
    }
   ],
   "source": [
    "id(1) == id(1.0)"
   ]
  },
  {
   "cell_type": "markdown",
   "id": "ec91e355",
   "metadata": {},
   "source": [
    "Here, we can see how these are different objects! Now, let's play around a bit with them."
   ]
  },
  {
   "cell_type": "code",
   "execution_count": 323,
   "id": "b1ccef15",
   "metadata": {},
   "outputs": [
    {
     "name": "stdout",
     "output_type": "stream",
     "text": [
      "2.0\n",
      "0.0\n"
     ]
    }
   ],
   "source": [
    "var_int = 1\n",
    "var_float = 1.0\n",
    "print(var_int + var_float)\n",
    "print(var_int - var_float)"
   ]
  },
  {
   "cell_type": "markdown",
   "id": "f8057e94",
   "metadata": {},
   "source": [
    "In this context, the ``+`` and ``-`` operators are used to **sum and substract values**, respectively, like in a typical calculator. However, as you can note, the output of these calculations is always a float! Let's try multiplication, performed with the ``*`` character, and division, with the ``/`` character."
   ]
  },
  {
   "cell_type": "code",
   "execution_count": 324,
   "id": "2c2922c9",
   "metadata": {},
   "outputs": [
    {
     "name": "stdout",
     "output_type": "stream",
     "text": [
      "1.0\n",
      "1.0\n"
     ]
    }
   ],
   "source": [
    "print(var_int * var_float)\n",
    "print(var_int/var_float)"
   ]
  },
  {
   "cell_type": "markdown",
   "id": "f43743f5",
   "metadata": {},
   "source": [
    "Again, we got floats! This behavior is defined by the internal methods assigned to integer and float objects. It's possible to perform calculations involving both floats and integers, but then the result will always be a float, unless... we force it to be an integer with the function ``int()``."
   ]
  },
  {
   "cell_type": "code",
   "execution_count": 325,
   "id": "45fe7aa4",
   "metadata": {},
   "outputs": [
    {
     "name": "stdout",
     "output_type": "stream",
     "text": [
      "1\n"
     ]
    }
   ],
   "source": [
    "print(int(var_int/var_float))"
   ]
  },
  {
   "cell_type": "markdown",
   "id": "b4aa12ce",
   "metadata": {},
   "source": [
    "Now we got an integer! This shows how you can change the datatype of certain objects. However, keep in mind that, if you convert a float into an integer, you might be losing information. Try to apply the ``int()`` function to ``var3`` and see what happens! You can also try to convert it back to float using the ``float()``function."
   ]
  },
  {
   "cell_type": "code",
   "execution_count": null,
   "id": "8328aa9e",
   "metadata": {},
   "outputs": [],
   "source": [
    "# Write your code here"
   ]
  },
  {
   "cell_type": "markdown",
   "id": "3e03ce4d",
   "metadata": {},
   "source": [
    "Even if you have two integers, **you will always get a float result from a division**. If you want to divide two integers and get an integer output, you can use the ``//`` operand. Let's take a look at it:"
   ]
  },
  {
   "cell_type": "code",
   "execution_count": 326,
   "id": "97de2c44",
   "metadata": {},
   "outputs": [
    {
     "name": "stdout",
     "output_type": "stream",
     "text": [
      "0.25\n",
      "0\n"
     ]
    }
   ],
   "source": [
    "print(var_int/4) # Standard division\n",
    "print(var_int//4) # Integer division"
   ]
  },
  {
   "cell_type": "markdown",
   "id": "c550be03",
   "metadata": {},
   "source": [
    "You can also do other operations, such as **powers** (``**`` operator) and **roots**. Powers are quite intuitive:"
   ]
  },
  {
   "cell_type": "code",
   "execution_count": 327,
   "id": "7c1be27d",
   "metadata": {},
   "outputs": [
    {
     "data": {
      "text/plain": [
       "12.25"
      ]
     },
     "execution_count": 327,
     "metadata": {},
     "output_type": "execute_result"
    }
   ],
   "source": [
    "var3**2"
   ]
  },
  {
   "cell_type": "markdown",
   "id": "b075c96e",
   "metadata": {},
   "source": [
    "If you want to do a square root, you can either use the power of 0.5 or the ``sqrt`` function in the ``math`` package. If you want to use this function, you have to **import** the required package."
   ]
  },
  {
   "cell_type": "code",
   "execution_count": 328,
   "id": "157cd0a9",
   "metadata": {},
   "outputs": [
    {
     "data": {
      "text/plain": [
       "1.8708286933869707"
      ]
     },
     "execution_count": 328,
     "metadata": {},
     "output_type": "execute_result"
    }
   ],
   "source": [
    "from math import sqrt\n",
    "sqrt(var3)"
   ]
  },
  {
   "cell_type": "code",
   "execution_count": 329,
   "id": "b84ae8e2",
   "metadata": {},
   "outputs": [
    {
     "data": {
      "text/plain": [
       "1.8708286933869707"
      ]
     },
     "execution_count": 329,
     "metadata": {},
     "output_type": "execute_result"
    }
   ],
   "source": [
    "var3**0.5"
   ]
  },
  {
   "cell_type": "markdown",
   "id": "81c7049e",
   "metadata": {},
   "source": [
    "You can also calculate the **modulo** (outputs the remainder of a division) using the ``%`` operand. Here is an example of how it is used:"
   ]
  },
  {
   "cell_type": "code",
   "execution_count": 330,
   "id": "88d84dad",
   "metadata": {},
   "outputs": [
    {
     "data": {
      "text/plain": [
       "1"
      ]
     },
     "execution_count": 330,
     "metadata": {},
     "output_type": "execute_result"
    }
   ],
   "source": [
    "3%2"
   ]
  },
  {
   "cell_type": "markdown",
   "id": "f721cc8f",
   "metadata": {},
   "source": [
    "### In-place operations\n",
    "When you do math calculations, it's generally faster to use **in-place operations**. This is how in-place operations look vs **implicit-copy operations**:"
   ]
  },
  {
   "cell_type": "code",
   "execution_count": 331,
   "id": "4043234b",
   "metadata": {},
   "outputs": [],
   "source": [
    "test = 3\n",
    "\n",
    "# In-place multiplication\n",
    "test *= 2\n",
    "\n",
    "# Implicit-copy multiplication\n",
    "test = test*2"
   ]
  },
  {
   "cell_type": "markdown",
   "id": "3861a08f",
   "metadata": {},
   "source": [
    "In the in-place operation, the value of ``test`` is overwritten with the result of the calculation, whereas in the implicit-copy operation, the value of the multiplication is calculated and then assigned to a new variable with the same name, ``test``. In general, in-place operations are faster than implicity-copy operations, because the latter require to create a copy of the variable (``test`` in this case), whereas the former just assigns a new value to the same variable."
   ]
  },
  {
   "cell_type": "markdown",
   "id": "74561e38",
   "metadata": {},
   "source": [
    "#### Extra: Example in numpy\n",
    "**numpy** is a Python package that speeds numerical computing. Here I use it as an example of how in-place operations are generally faster than implicit-copy operations."
   ]
  },
  {
   "cell_type": "code",
   "execution_count": 332,
   "id": "cf803efd",
   "metadata": {},
   "outputs": [],
   "source": [
    "import numpy as np"
   ]
  },
  {
   "cell_type": "code",
   "execution_count": 333,
   "id": "c681c223",
   "metadata": {},
   "outputs": [
    {
     "name": "stdout",
     "output_type": "stream",
     "text": [
      "CPU times: user 4.39 ms, sys: 15 ms, total: 19.3 ms\n",
      "Wall time: 37.9 ms\n"
     ]
    }
   ],
   "source": [
    "%%time\n",
    "# Implicit-copy multiplication\n",
    "var4 = np.ones(10**6) # Create matrix of ones of size 10e6\n",
    "var4 = var4*2 # Multiply all the numbers by two (implicit-copy)"
   ]
  },
  {
   "cell_type": "code",
   "execution_count": 334,
   "id": "da7a23c4",
   "metadata": {},
   "outputs": [
    {
     "name": "stdout",
     "output_type": "stream",
     "text": [
      "CPU times: user 3.64 ms, sys: 906 µs, total: 4.55 ms\n",
      "Wall time: 2.59 ms\n"
     ]
    }
   ],
   "source": [
    "%%time\n",
    "# In-place multiplication\n",
    "var4 = np.ones(10**6)\n",
    "var4 *= 2 # Multiply all the numbers by two (in-place)"
   ]
  },
  {
   "cell_type": "markdown",
   "id": "c84c114e",
   "metadata": {},
   "source": [
    "With the **magic command** ``%%time``, we can calculate how long the cells takes to run. You can run it multiple times and check how the in-place multiplication is faster most of the times."
   ]
  },
  {
   "cell_type": "code",
   "execution_count": 335,
   "id": "5a168bbe",
   "metadata": {},
   "outputs": [
    {
     "data": {
      "text/plain": [
       "False"
      ]
     },
     "execution_count": 335,
     "metadata": {},
     "output_type": "execute_result"
    }
   ],
   "source": [
    "# Implicit-copy multiplication\n",
    "var4 = np.ones(10**6)\n",
    "aid = id(var4) # Get id of matrix\n",
    "var4 = var4*2\n",
    "bid = id(var4) # Get id of matrix after multiplication\n",
    "aid == bid # Check if ids are equal"
   ]
  },
  {
   "cell_type": "markdown",
   "id": "9a10f3ea",
   "metadata": {},
   "source": [
    "In this case, the objects ids are different when we perform the implicit-copy multiplication, since we are copying the matrix object during the multiplication step."
   ]
  },
  {
   "cell_type": "code",
   "execution_count": 336,
   "id": "704ea070",
   "metadata": {},
   "outputs": [
    {
     "data": {
      "text/plain": [
       "True"
      ]
     },
     "execution_count": 336,
     "metadata": {},
     "output_type": "execute_result"
    }
   ],
   "source": [
    "# In-place multiplication\n",
    "var4 = np.ones(10**6)\n",
    "aid = id(var4)\n",
    "var4 *= 2\n",
    "bid = id(var4)\n",
    "aid == bid"
   ]
  },
  {
   "cell_type": "markdown",
   "id": "2fe10a1a",
   "metadata": {},
   "source": [
    "In this case, the ids are identical, because we are modifying the values that are stored in the object, but we are not creating a new object in the process.\n",
    "\n",
    "**OBS!** Note that this is not applicable to numbers, where each number is an object with its own id."
   ]
  },
  {
   "cell_type": "markdown",
   "id": "74084197",
   "metadata": {},
   "source": [
    "## Booleans\n",
    "As you have probably noticed, when you use the ``==`` operator, you get either ``True`` or ``False`` as an answer. these values are **booleans**. ``True`` also has the integer value ``1``, and will display that value in sums or multiplications, whereas ``False`` has the integer value ``0``:"
   ]
  },
  {
   "cell_type": "code",
   "execution_count": 337,
   "id": "4f52fc88",
   "metadata": {},
   "outputs": [
    {
     "name": "stdout",
     "output_type": "stream",
     "text": [
      "1\n",
      "0\n"
     ]
    }
   ],
   "source": [
    "print(int(True))\n",
    "print(int(False))"
   ]
  },
  {
   "cell_type": "code",
   "execution_count": 338,
   "id": "416db854",
   "metadata": {},
   "outputs": [
    {
     "data": {
      "text/plain": [
       "1"
      ]
     },
     "execution_count": 338,
     "metadata": {},
     "output_type": "execute_result"
    }
   ],
   "source": [
    "True + False"
   ]
  },
  {
   "cell_type": "markdown",
   "id": "de774884",
   "metadata": {},
   "source": [
    "Booleans represent **logical values** and, as such, you can perform logical operations on them, such as ``or`` and ``and``."
   ]
  },
  {
   "cell_type": "code",
   "execution_count": 339,
   "id": "c5d01e05",
   "metadata": {},
   "outputs": [
    {
     "data": {
      "text/plain": [
       "True"
      ]
     },
     "execution_count": 339,
     "metadata": {},
     "output_type": "execute_result"
    }
   ],
   "source": [
    "True or False"
   ]
  },
  {
   "cell_type": "code",
   "execution_count": 340,
   "id": "d36691c4",
   "metadata": {},
   "outputs": [
    {
     "data": {
      "text/plain": [
       "False"
      ]
     },
     "execution_count": 340,
     "metadata": {},
     "output_type": "execute_result"
    }
   ],
   "source": [
    "True and False"
   ]
  },
  {
   "cell_type": "markdown",
   "id": "e65ab2b9",
   "metadata": {},
   "source": [
    "You can use the ``bool()`` function to evaluate if values are ``True`` or ``False``. Most values will be true, except for empty values, ``None`` and, of course, ``False``."
   ]
  },
  {
   "cell_type": "markdown",
   "id": "f84ba331",
   "metadata": {},
   "source": [
    "## Characters and strings\n",
    "**Strings** represent text, and they can be displayed with the ``print()``function. Strings can also be defined as an array of **characters**. Any letter or symbol can be a character. To define variables as character of string, you need to use **single (``''``) or double (``\"\"``) quotation marks**. The type of quotation mark doesn't matter."
   ]
  },
  {
   "cell_type": "code",
   "execution_count": 341,
   "id": "5aa586aa",
   "metadata": {},
   "outputs": [
    {
     "name": "stdout",
     "output_type": "stream",
     "text": [
      "(Why don't my results make sense?)\n",
      "  \\\n",
      "(╯°□°）╯︵ ┻━┻\n"
     ]
    }
   ],
   "source": [
    "my_string = \"(Why don't my results make sense?)\\n  \\\\\"\n",
    "print(my_string)\n",
    "\n",
    "my_string2 = '(╯°□°）╯︵ ┻━┻'\n",
    "print(my_string2)"
   ]
  },
  {
   "cell_type": "markdown",
   "id": "bdd6e917",
   "metadata": {},
   "source": [
    "As you can see, both of the attempts at printing worked! (Unlike my experiments...).\n",
    "\n",
    "Like for numbers and booleans, there are several operations that you can perform on strings. For example, you can sum characters of strings. In addition, using a backslash (``\\``) allows you to scape special characters (such as the quotation marks themselves) and to write different special characters (``\\n`` adds a linebreak and ``\\t`` adds a tabulation). In the example above, we used ``/n`` to add a line break between the text bubble and the backlash. Now, we will see an example of how to sum two strings:"
   ]
  },
  {
   "cell_type": "code",
   "execution_count": 342,
   "id": "d112b8bc",
   "metadata": {},
   "outputs": [
    {
     "data": {
      "text/plain": [
       "'Hello world'"
      ]
     },
     "execution_count": 342,
     "metadata": {},
     "output_type": "execute_result"
    }
   ],
   "source": [
    "\"Hello \" + \"world\""
   ]
  },
  {
   "cell_type": "markdown",
   "id": "c249d6a8",
   "metadata": {},
   "source": [
    "Keep in mind that, even though it is possible to **add** strings, you can't **substract** them, nor divide them, for that matter. But **string multiplication** is possible, as long as you **multiply the string by an integer**:"
   ]
  },
  {
   "cell_type": "code",
   "execution_count": 343,
   "id": "8c5114e8",
   "metadata": {},
   "outputs": [
    {
     "name": "stdout",
     "output_type": "stream",
     "text": [
      "Hello Hello \n"
     ]
    }
   ],
   "source": [
    "print(\"Hello \"*2)"
   ]
  },
  {
   "cell_type": "markdown",
   "id": "767d1b76",
   "metadata": {},
   "source": [
    "Now, an example on how to add a tabulation:"
   ]
  },
  {
   "cell_type": "code",
   "execution_count": 344,
   "id": "6dcecbdb",
   "metadata": {},
   "outputs": [
    {
     "name": "stdout",
     "output_type": "stream",
     "text": [
      "Hello\tworld\n"
     ]
    }
   ],
   "source": [
    "print(\"Hello\\tworld\")"
   ]
  },
  {
   "cell_type": "markdown",
   "id": "3aef9bcf",
   "metadata": {},
   "source": [
    "Here you can also see that, even though the string was written with double quotation marks, the ending result had the default single quotation marks."
   ]
  },
  {
   "cell_type": "markdown",
   "id": "84b1fa9a",
   "metadata": {},
   "source": [
    "By default, every time you run a print statement, ``\\n`` is added at the end of the statement. This means that these two cells do the same:"
   ]
  },
  {
   "cell_type": "code",
   "execution_count": 345,
   "id": "a1af13d1",
   "metadata": {},
   "outputs": [
    {
     "name": "stdout",
     "output_type": "stream",
     "text": [
      "Hello\n",
      "world\n"
     ]
    }
   ],
   "source": [
    "print(\"Hello\")\n",
    "print(\"world\")"
   ]
  },
  {
   "cell_type": "code",
   "execution_count": 346,
   "id": "1855660e",
   "metadata": {},
   "outputs": [
    {
     "name": "stdout",
     "output_type": "stream",
     "text": [
      "Hello\n",
      "world\n"
     ]
    }
   ],
   "source": [
    "print(\"Hello\\nworld\")"
   ]
  },
  {
   "cell_type": "markdown",
   "id": "16f7f8be",
   "metadata": {},
   "source": [
    "You can modify the end character that you print by feeding the ``print()`` function the argument ``end``:"
   ]
  },
  {
   "cell_type": "code",
   "execution_count": 347,
   "id": "ceef6f7d",
   "metadata": {},
   "outputs": [
    {
     "name": "stdout",
     "output_type": "stream",
     "text": [
      "Hello\tworld\n"
     ]
    }
   ],
   "source": [
    "print(\"Hello\", end = \"\\t\")\n",
    "print(\"world\")"
   ]
  },
  {
   "cell_type": "markdown",
   "id": "cac58d1e",
   "metadata": {},
   "source": [
    "Now, as you can see, we printed the two words separated by a tabulation!"
   ]
  },
  {
   "cell_type": "markdown",
   "id": "d3201aab",
   "metadata": {},
   "source": [
    "Since strings are made up of characters, we can also **loop** through them and access individual characters."
   ]
  },
  {
   "cell_type": "code",
   "execution_count": 348,
   "id": "f00cb0a4",
   "metadata": {},
   "outputs": [
    {
     "name": "stdout",
     "output_type": "stream",
     "text": [
      "O n   t h e   p r i c e   o f   S a l m o n ,   b y   L a x   S a l m o n s s o n "
     ]
    }
   ],
   "source": [
    "test_string = \"On the price of Salmon, by Lax Salmonsson\"\n",
    "[print(character, end = \" \") for character in test_string];"
   ]
  },
  {
   "cell_type": "markdown",
   "id": "44f5c120",
   "metadata": {},
   "source": [
    "Here I went through every character of the string and printed it, but, because I added a space as the end of the ``print`` statement, we have double-spaced characters. We will cover the concept of loops in the following section:"
   ]
  },
  {
   "cell_type": "markdown",
   "id": "3c2fe003",
   "metadata": {},
   "source": [
    "### f-strings\n",
    "There are different ways to put strings together (such as sums as I showed you above), but this one is my favorite so, unfortunately, you're stuck with this one. Keep in mind that it is only supported in Python 3.\n",
    "\n",
    "This is how and **f-string** looks like:"
   ]
  },
  {
   "cell_type": "code",
   "execution_count": 394,
   "id": "9598ffb9",
   "metadata": {},
   "outputs": [
    {
     "data": {
      "text/plain": [
       "'1.8375865 times 2 equals 3.675173'"
      ]
     },
     "execution_count": 394,
     "metadata": {},
     "output_type": "execute_result"
    }
   ],
   "source": [
    "num1 = 1.8375865\n",
    "num2 = num1*2\n",
    "f\"{num1} times 2 equals {num2}\""
   ]
  },
  {
   "cell_type": "markdown",
   "id": "1eb2e123",
   "metadata": {},
   "source": [
    "Esentially, you add an ``f`` before your string and ``{}`` brackets around the names of your variables, and Python replaces your variables by their values. In this case, you can adjust the number of decimals that are displayed adding ``:.nf``, where you replace ``n`` with the number of digits that you want."
   ]
  },
  {
   "cell_type": "code",
   "execution_count": 395,
   "id": "6f626bae",
   "metadata": {},
   "outputs": [
    {
     "data": {
      "text/plain": [
       "'1.84 times 2 equals 3.68'"
      ]
     },
     "execution_count": 395,
     "metadata": {},
     "output_type": "execute_result"
    }
   ],
   "source": [
    "f\"{num1:.2f} times 2 equals {num2:.2f}\""
   ]
  },
  {
   "cell_type": "markdown",
   "id": "7f2710cd",
   "metadata": {},
   "source": [
    "You can use placeholders in your string to replace them with your variables, which is quite similar to f-strings:"
   ]
  },
  {
   "cell_type": "code",
   "execution_count": 401,
   "id": "922b1edb",
   "metadata": {},
   "outputs": [
    {
     "data": {
      "text/plain": [
       "'1.8375865 times 2 equals 3.675173'"
      ]
     },
     "execution_count": 401,
     "metadata": {},
     "output_type": "execute_result"
    }
   ],
   "source": [
    "\"%s times 2 equals %s\" % (num1, num2)"
   ]
  },
  {
   "cell_type": "markdown",
   "id": "8c222d8b",
   "metadata": {},
   "source": [
    "However, I find f-strings more intuitive and easy to use."
   ]
  },
  {
   "cell_type": "markdown",
   "id": "ac4a36ad",
   "metadata": {},
   "source": [
    "## Lists, dictionaries and tuples\n",
    "Python **lists** are one-dimensional arrays that can contain any type of data, or any combination of types. You can put anything in a list, it depends entirely on your reasoning (or lack thereof)."
   ]
  },
  {
   "cell_type": "code",
   "execution_count": 349,
   "id": "74809cb0",
   "metadata": {},
   "outputs": [
    {
     "name": "stdout",
     "output_type": "stream",
     "text": [
      "[1, 2, 3, 4, 5, 6, 7, 8]\n",
      "['hi', 5.4, 'bye', 'h3h3', True]\n"
     ]
    }
   ],
   "source": [
    "list_a = [1, 2, 3, 4, 5, 6, 7, 8]\n",
    "print(list_a)\n",
    "l15t_Aaaah = [\"hi\", 5.4, \"bye\", \"h3h3\", True]\n",
    "print(l15t_Aaaah)"
   ]
  },
  {
   "cell_type": "markdown",
   "id": "a5c3e552",
   "metadata": {},
   "source": [
    "See? No errors! 3v3ryth1ng is f1n3."
   ]
  },
  {
   "cell_type": "markdown",
   "id": "b144dbc8",
   "metadata": {},
   "source": [
    "Python **dictionaries** consist of key/value pairs, which each key is assigned a value. Both the keys and the values can be any Python data type (class), and you can also combine different classes of keys and assign them different classes of values:"
   ]
  },
  {
   "cell_type": "code",
   "execution_count": 350,
   "id": "e25b3137",
   "metadata": {},
   "outputs": [
    {
     "name": "stdout",
     "output_type": "stream",
     "text": [
      "{1: 'cow', 2: 'spider', 3: 'octopus', 4: 'amoeba'}\n",
      "{1: 'c0w', 'sp1d3r': 2, 3.5: 'o', False: ['hi', 5.4, 'bye', 'h3h3', True]}\n"
     ]
    }
   ],
   "source": [
    "dict_a = {1: \"cow\", 2: \"spider\", 3: \"octopus\", 4: \"amoeba\"}\n",
    "print(dict_a)\n",
    "d1ct_Aaaah = {1: \"c0w\", \"sp1d3r\": 2, 3.5: \"o\", False: l15t_Aaaah}\n",
    "print(d1ct_Aaaah)"
   ]
  },
  {
   "cell_type": "markdown",
   "id": "836891ce",
   "metadata": {},
   "source": [
    "Again, no errors! G00d g00d g00d.\n",
    "\n",
    "Why don't you try creating a dictionary with the numbers from 1 to 12 as keys and the names of the months as values?"
   ]
  },
  {
   "cell_type": "code",
   "execution_count": null,
   "id": "adb32eb3",
   "metadata": {},
   "outputs": [],
   "source": [
    "# Write your code here"
   ]
  },
  {
   "cell_type": "markdown",
   "id": "6704fa15",
   "metadata": {},
   "source": [
    "**Tuples** can be understood as **immutable lists**. This means that they are **not modifiable**, but they are **more memory efficient**. They are useful to represent certain types of data; for example, coordinates. Like for lists and dictionaries, you can mix any types of data:"
   ]
  },
  {
   "cell_type": "code",
   "execution_count": 380,
   "id": "1c8eb33a",
   "metadata": {},
   "outputs": [
    {
     "name": "stdout",
     "output_type": "stream",
     "text": [
      "(1, 2, 3, 4, 5, 6, 7, 8)\n",
      "('hi', 5.4, 'bye', 'h3h3', True)\n"
     ]
    }
   ],
   "source": [
    "tuple_a = (1, 2, 3, 4, 5, 6, 7, 8)\n",
    "print(tuple_a)\n",
    "tup13_Aaaah = (\"hi\", 5.4, \"bye\", \"h3h3\", True)\n",
    "print(tup13_Aaaah)"
   ]
  },
  {
   "cell_type": "markdown",
   "id": "d9241bb3",
   "metadata": {},
   "source": [
    "Now we know how to create lists, tuples and dictionaries, but how do we access the data that is stored in them?"
   ]
  },
  {
   "cell_type": "markdown",
   "id": "684b89c9",
   "metadata": {},
   "source": [
    "In lists, you can access any value by providing its **index**. Note that the **indexes in Python start at 0**, not at 1. For example,..."
   ]
  },
  {
   "cell_type": "code",
   "execution_count": 351,
   "id": "53e65445",
   "metadata": {},
   "outputs": [
    {
     "data": {
      "text/plain": [
       "2"
      ]
     },
     "execution_count": 351,
     "metadata": {},
     "output_type": "execute_result"
    }
   ],
   "source": [
    "list_a[1]"
   ]
  },
  {
   "cell_type": "markdown",
   "id": "0649344b",
   "metadata": {},
   "source": [
    "...returns the second item in the list, not the first."
   ]
  },
  {
   "cell_type": "markdown",
   "id": "a6cbbea9",
   "metadata": {},
   "source": [
    "As for strings, you can add several lists (even if they don't have compatible data types). You can do:"
   ]
  },
  {
   "cell_type": "code",
   "execution_count": 352,
   "id": "42044c2c",
   "metadata": {},
   "outputs": [
    {
     "data": {
      "text/plain": [
       "[1, 2, 3, 4, 5, 6, 7, 8, 'hi', 5.4, 'bye', 'h3h3', True]"
      ]
     },
     "execution_count": 352,
     "metadata": {},
     "output_type": "execute_result"
    }
   ],
   "source": [
    "list_a + l15t_Aaaah"
   ]
  },
  {
   "cell_type": "markdown",
   "id": "6a5f199f",
   "metadata": {},
   "source": [
    "You can also **multiply strings by integers**, which is the same as adding the list to itself a number of times that is given by the integer:"
   ]
  },
  {
   "cell_type": "code",
   "execution_count": 353,
   "id": "bf604b89",
   "metadata": {},
   "outputs": [
    {
     "data": {
      "text/plain": [
       "['hi', 5.4, 'bye', 'h3h3', True, 'hi', 5.4, 'bye', 'h3h3', True]"
      ]
     },
     "execution_count": 353,
     "metadata": {},
     "output_type": "execute_result"
    }
   ],
   "source": [
    "l15t_Aaaah*2"
   ]
  },
  {
   "cell_type": "markdown",
   "id": "6355b3f0",
   "metadata": {},
   "source": [
    "Tuples behave essentially like lists. You can access the elements in the tuple using an index that starts at 0:"
   ]
  },
  {
   "cell_type": "code",
   "execution_count": 378,
   "id": "21346c6c",
   "metadata": {},
   "outputs": [
    {
     "name": "stdout",
     "output_type": "stream",
     "text": [
      "0.5\n",
      "7.4\n"
     ]
    }
   ],
   "source": [
    "print(tuple_a[3])"
   ]
  },
  {
   "cell_type": "markdown",
   "id": "8de31d62",
   "metadata": {},
   "source": [
    "You can also sum them or multiply them by integers:"
   ]
  },
  {
   "cell_type": "code",
   "execution_count": 379,
   "id": "6caacb18",
   "metadata": {},
   "outputs": [
    {
     "name": "stdout",
     "output_type": "stream",
     "text": [
      "(0.5, 7.4, 'hi', True)\n",
      "(0.5, 7.4, 0.5, 7.4)\n"
     ]
    }
   ],
   "source": [
    "print(tuple_a + tup13_Aaaah)\n",
    "print(tuple_a * 2)"
   ]
  },
  {
   "cell_type": "markdown",
   "id": "349b8e79",
   "metadata": {},
   "source": [
    "In dictionaries, you access values by **key**, instead of by index, even though, of course, a key can look like a list index. For example:"
   ]
  },
  {
   "cell_type": "code",
   "execution_count": 354,
   "id": "7da215c2",
   "metadata": {},
   "outputs": [
    {
     "data": {
      "text/plain": [
       "'cow'"
      ]
     },
     "execution_count": 354,
     "metadata": {},
     "output_type": "execute_result"
    }
   ],
   "source": [
    "dict_a[1]"
   ]
  },
  {
   "cell_type": "markdown",
   "id": "2f8ea8ed",
   "metadata": {},
   "source": [
    "Another property of dictionaries is that you can get a list of the keys or a list of the values using the functions ``dict.keys()`` or ``dict.values()``:"
   ]
  },
  {
   "cell_type": "code",
   "execution_count": 355,
   "id": "2a674acc",
   "metadata": {},
   "outputs": [
    {
     "name": "stdout",
     "output_type": "stream",
     "text": [
      "dict_keys([1, 'sp1d3r', 3.5, False])\n",
      "dict_values(['c0w', 2, 'o', ['hi', 5.4, 'bye', 'h3h3', True]])\n"
     ]
    }
   ],
   "source": [
    "keys = d1ct_Aaaah.keys()\n",
    "values = d1ct_Aaaah.values()\n",
    "print(keys)\n",
    "print(values)"
   ]
  },
  {
   "cell_type": "markdown",
   "id": "ad264bce",
   "metadata": {},
   "source": [
    "These keys and values can easily be converted into lists with the ``list()`` function, but it is not necessary to loop through the items. Looping through keys or values is quite useful if you want to modify the data in the dictionary or pass it as an input for the next chunk of your code. We haven't yet introduced loops, but it's about time!"
   ]
  },
  {
   "cell_type": "markdown",
   "id": "f1f220f1",
   "metadata": {},
   "source": [
    "### Loops\n",
    "When we loop through data, the underlying structure of these data is usually an array of items. You can iterate through lists, dictionaries and strings which, as I mention, are an array of characters. The first line gives you the most common sintax of a **loop**:"
   ]
  },
  {
   "cell_type": "code",
   "execution_count": 357,
   "id": "1272f54d",
   "metadata": {},
   "outputs": [
    {
     "name": "stdout",
     "output_type": "stream",
     "text": [
      "1 2 3 4 5 6 7 8 "
     ]
    }
   ],
   "source": [
    "for element in list_a:\n",
    "    print(element, end = \" \")"
   ]
  },
  {
   "cell_type": "markdown",
   "id": "87e6a762",
   "metadata": {},
   "source": [
    "Note that the code that goes inside the loop has to be indented. \n",
    "\n",
    "Of course, you don't always iterate over lists. It is quite common to iterate over **ranges**, defined with ``range(n, m)``, where both ``n`` and ``m`` are integers. For example, if we want to iterate from 1 to 10:"
   ]
  },
  {
   "cell_type": "code",
   "execution_count": 358,
   "id": "7b3cb5f8",
   "metadata": {},
   "outputs": [
    {
     "name": "stdout",
     "output_type": "stream",
     "text": [
      "1 2 3 4 5 6 7 8 9 10 "
     ]
    }
   ],
   "source": [
    "for number in range(1, 11):\n",
    "    print(number, end = \" \")"
   ]
  },
  {
   "cell_type": "markdown",
   "id": "f46f5247",
   "metadata": {},
   "source": [
    "Note that ranges go from ``n`` to ``m-1``. In this case, the range was defined from 1 to 11, but it only printed integers up until 10. When we define a range, we only need to specify ``m``, but we have to keep in mind that ``n`` is 0 by default.\n",
    "\n",
    "#### Why using ranges and not just lists?\n",
    "The advantage of using ranges is that the elements in the range are created as you iterate over them, unlike in lists, where we have values that we can access any time. Of course, depending on the situation that might be what we want.\n",
    "\n",
    "#### And what about dictionaries?\n",
    "If we want to iterate over a dictionary, we usually iterate over the keys using the ``dict.keys()`` method:"
   ]
  },
  {
   "cell_type": "code",
   "execution_count": 360,
   "id": "dae75425",
   "metadata": {},
   "outputs": [
    {
     "name": "stdout",
     "output_type": "stream",
     "text": [
      "1\tcow\n",
      "2\tspider\n",
      "3\toctopus\n",
      "4\tamoeba\n"
     ]
    }
   ],
   "source": [
    "for key in dict_a.keys():\n",
    "    print(key, end = \"\\t\")\n",
    "    print(dict_a[key])"
   ]
  },
  {
   "cell_type": "markdown",
   "id": "1776808e",
   "metadata": {},
   "source": [
    "To access the values, we use the keys as indexes.\n",
    "\n",
    "We have seen several examples of loops, now it's time for you to write a loop that goes from 1 to 7 in the box below. You can use a list or a range for that purpose. Perhaps you also want to take this chance to loop through the months in the dictionary you created."
   ]
  },
  {
   "cell_type": "code",
   "execution_count": null,
   "id": "e049748e",
   "metadata": {},
   "outputs": [],
   "source": [
    "# Write your code"
   ]
  },
  {
   "cell_type": "markdown",
   "id": "c82e56bb",
   "metadata": {},
   "source": [
    "The most common syntax for loops is a loop that starts with ``for <name> in <iterable>:``, followed by indented chunks of code, but there are other possibilities. Let's take a look into them!"
   ]
  },
  {
   "cell_type": "markdown",
   "id": "9b48facd",
   "metadata": {},
   "source": [
    "### List and dictionary comprehensions\n",
    "Until now, we have seen how the useful syntax of loops is, but there is a way to **speed up loops**. Especially when you have **nested loops** (loops inside loops inside loops inside loops... you get the idea). **List comprehensions** can speed up the processing of your data, and you can do something similar for dictionaries, which is called **dictionary comprehension**. Hooray!"
   ]
  },
  {
   "cell_type": "markdown",
   "id": "1ee4b41b",
   "metadata": {},
   "source": [
    "This is how the basic syntax of a list comprehension looks like:"
   ]
  },
  {
   "cell_type": "code",
   "execution_count": 362,
   "id": "cc51d2cc",
   "metadata": {},
   "outputs": [
    {
     "name": "stdout",
     "output_type": "stream",
     "text": [
      "hi 5.4 bye h3h3 True "
     ]
    }
   ],
   "source": [
    "[print(element, end = \" \") for element in l15t_Aaaah];"
   ]
  },
  {
   "cell_type": "markdown",
   "id": "3477c51d",
   "metadata": {},
   "source": [
    "It is even possible to have two loops in a list comprehension! For example, if we want to print any possible combination of keys and values in a dictionary:"
   ]
  },
  {
   "cell_type": "code",
   "execution_count": 364,
   "id": "67449f97",
   "metadata": {},
   "outputs": [
    {
     "name": "stdout",
     "output_type": "stream",
     "text": [
      "1 cow\n",
      "1 spider\n",
      "1 octopus\n",
      "1 amoeba\n",
      "2 cow\n",
      "2 spider\n",
      "2 octopus\n",
      "2 amoeba\n",
      "3 cow\n",
      "3 spider\n",
      "3 octopus\n",
      "3 amoeba\n",
      "4 cow\n",
      "4 spider\n",
      "4 octopus\n",
      "4 amoeba\n"
     ]
    }
   ],
   "source": [
    "[print(key, value) for key in dict_a.keys() for value in dict_a.values()];"
   ]
  },
  {
   "cell_type": "markdown",
   "id": "82095284",
   "metadata": {},
   "source": [
    "And, speaking of dictionaries, the syntax of a dictionary comprehension can be identical to that of a list comprehension:"
   ]
  },
  {
   "cell_type": "code",
   "execution_count": 365,
   "id": "73946d99",
   "metadata": {},
   "outputs": [
    {
     "name": "stdout",
     "output_type": "stream",
     "text": [
      "1 cow\n",
      "2 spider\n",
      "3 octopus\n",
      "4 amoeba\n",
      "\n",
      "\n",
      "1 cow\n",
      "2 spider\n",
      "3 octopus\n",
      "4 amoeba\n"
     ]
    }
   ],
   "source": [
    "{print(key, value) for (key, value) in dict_a.items()};\n",
    "print(\"\\n\") # Line break between outputs\n",
    "[print(key, value) for (key, value) in dict_a.items()];"
   ]
  },
  {
   "cell_type": "markdown",
   "id": "da850948",
   "metadata": {},
   "source": [
    "As you can see, we got the same result from the two. Why use dictionary comprehensions then? The syntax can also look a bit different. You can also use dictionary comprehensions to create new key/value pairs. For example, here I replaced the animal names with the squared value of the keys:"
   ]
  },
  {
   "cell_type": "code",
   "execution_count": 366,
   "id": "9e83d031",
   "metadata": {},
   "outputs": [
    {
     "name": "stdout",
     "output_type": "stream",
     "text": [
      "1 1\n",
      "2 4\n",
      "3 9\n",
      "4 16\n"
     ]
    }
   ],
   "source": [
    "new_dict = {key: key**2 for key in dict_a.keys()}\n",
    "{print(key, value) for (key, value) in new_dict.items()};"
   ]
  },
  {
   "cell_type": "markdown",
   "id": "27c0df65",
   "metadata": {},
   "source": [
    "### While loops\n",
    "Unlike lists comprehensions, which are a form of **for loops**, the most common type of loop in Python, these loops make use of the concept of **booleans**. The idea is that the **while loop** will keep running as long as a certain condition is true. For example:"
   ]
  },
  {
   "cell_type": "code",
   "execution_count": 367,
   "id": "a6be6e14",
   "metadata": {},
   "outputs": [
    {
     "name": "stdout",
     "output_type": "stream",
     "text": [
      "1 2 3 4 5 6 7 8 9 10 "
     ]
    }
   ],
   "source": [
    "i = 1\n",
    "while i < 11:\n",
    "    print(i, end = \" \")\n",
    "    i += 1"
   ]
  },
  {
   "cell_type": "markdown",
   "id": "9b33206e",
   "metadata": {},
   "source": [
    "This code returns all numbers between 1 and 10, and stops before the number becomes bigger than 11. However, there is an obvious downside to these types of loops. Beware... the **infinite loop**!:"
   ]
  },
  {
   "cell_type": "code",
   "execution_count": null,
   "id": "a5b95b83",
   "metadata": {},
   "outputs": [],
   "source": [
    "# You better stop this before it's too late...\n",
    "i = 1\n",
    "while i < 11:\n",
    "    print(i, end = \" \")"
   ]
  },
  {
   "cell_type": "markdown",
   "id": "bc57fdcf",
   "metadata": {},
   "source": [
    "Because we forgot to increase the value of the variable ``i`` in every iteration, the condition defined in the while loop was always fulfilled. Therefore, the loop can go on forever, until you put an end to it. So, remember: if you ever use a while loop, **make sure that it will stop at some point**, hopefully not too late."
   ]
  },
  {
   "cell_type": "markdown",
   "id": "61d5647c",
   "metadata": {},
   "source": [
    "## Conditional statements\n",
    "When we introduced while loops, we also introduced the concept of **conditions**. The idea of conditional statements is to execute a chunk of code if a condition is fulfilled. Unlike while loops, they are only executed once –unless you include them in a loop. Let's look at the basic syntax:"
   ]
  },
  {
   "cell_type": "code",
   "execution_count": 389,
   "id": "63dca7a7",
   "metadata": {},
   "outputs": [
    {
     "name": "stdout",
     "output_type": "stream",
     "text": [
      "Give a number: 15\n",
      "Odd number multiple of 5\n"
     ]
    }
   ],
   "source": [
    "n = int(input(\"Give a number: \")) # Ask for a number (integer)\n",
    "\n",
    "if n%2 == 0: # If the number is even\n",
    "    print(\"Even number\") # Print this\n",
    "elif n%5 == 0: # If the number is not even, check if it is a multiple of 5\n",
    "    print(\"Odd number multiple of 5\")\n",
    "else:  # If the number doesn't fit any of the two conditions above\n",
    "    print(\"Odd number, not multiple of 5\")"
   ]
  },
  {
   "cell_type": "markdown",
   "id": "22320399",
   "metadata": {},
   "source": [
    "In this case, you can test the conditional statement by inputting the number that you want with the ``input()`` function, but note that this function is not part of conditional statements. The statement is made of of the three following parts:\n",
    "\n",
    "1. ``if`` statement: The first condition that you want to test.\n",
    "\n",
    "2. ``elif`` statement: If the first condition is not fulfilled, the next condition, defined by an ``elif`` statement, will be assessed. These statements are optional and only used if we want to test more than one condition.\n",
    "3. ``else`` statement: If none of the conditions that were defined are fulfilled, the code under this statement will be executed. This is also optional.\n",
    "\n",
    "**OBS!** The code that goes inside every statement has to be indented.\n",
    "\n",
    "Perhaps now you want to try to write a conditional statement? You can also use the ``input()`` function to test the different conditions."
   ]
  },
  {
   "cell_type": "code",
   "execution_count": null,
   "id": "31f786c2",
   "metadata": {},
   "outputs": [],
   "source": [
    "# Write your code here"
   ]
  },
  {
   "cell_type": "markdown",
   "id": "2924af55",
   "metadata": {},
   "source": [
    "## What do I do now?\n",
    "Try to create a small script where you use a **function** that includes **loops** and **conditional statements**. Keep in mind that you can have **nested loops** and **nested conditional statements**, meaning that you can have a loop inside a loop and a conditional statement inside a conditional statement inside a loop. You can write your code here or create a script (``<filename>.py``) and test a Python IDE!"
   ]
  },
  {
   "cell_type": "code",
   "execution_count": null,
   "id": "f74f4acb",
   "metadata": {},
   "outputs": [],
   "source": [
    "# Write your code here... or not"
   ]
  }
 ],
 "metadata": {
  "kernelspec": {
   "display_name": "Python 3 (ipykernel)",
   "language": "python",
   "name": "python3"
  },
  "language_info": {
   "codemirror_mode": {
    "name": "ipython",
    "version": 3
   },
   "file_extension": ".py",
   "mimetype": "text/x-python",
   "name": "python",
   "nbconvert_exporter": "python",
   "pygments_lexer": "ipython3",
   "version": "3.11.0"
  }
 },
 "nbformat": 4,
 "nbformat_minor": 5
}
